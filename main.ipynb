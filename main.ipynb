{
 "cells": [
  {
   "cell_type": "markdown",
   "metadata": {
    "collapsed": true,
    "id": "Vt9t7-fVi8At"
   },
   "source": [
    "# NLP - Project 2\n",
    "## Rinehart Analysis with Word Vectors\n",
    "**Team**: *Jean Merlet, Konstantinos Georgiou, Matt Lane*"
   ]
  },
  {
   "cell_type": "markdown",
   "metadata": {
    "id": "eiRSeV6fi8A0"
   },
   "source": [
    "## Where to put the code\n",
    "- Place the preprocessing functions/classes in [nlp_libs/books/preprocessing.py](https://github.com/NLPaladins/rinehartAnalysis_wordVectors/nlp_libs/books/preprocessing.py)\n",
    "- The custom word embeddings functions/classes (task 1) in [nlp_libs/books/word_embeddings.py](https://github.com/NLPaladins/rinehartAnalysis_wordVectors/nlp_libs/books/word_embeddings.py) (separate class)\n",
    "- The pretrained word embeddings functions/classes (task 2) in [nlp_libs/books/word_embeddings.py](https://github.com/NLPaladins/rinehartAnalysis_wordVectors/nlp_libs/books/word_embeddings.py) (separate class)\n",
    "- The functions/classes (if any) that compare the results (tasks 3, 4, 5) in [nlp_libs/books/compare_statistics.py](https://github.com/NLPaladins/rinehartAnalysis_wordVectors/nlp_libs/books/compare_statistics.py)\n",
    "- Any plotting related functions in [nlp_libs/books/plotter.py](https://github.com/NLPaladins/rinehartAnalysis_wordVectors/nlp_libs/books/plotter.py)\n",
    "\n",
    "**The code is reloaded automatically. Any class object needs to reinitialized though.** \n",
    "\n",
    "## Config file\n",
    "The yml/config file is located at: [confs/proj_2.yml](https://github.com/NLPaladins/rinehartAnalysis_wordVectors/confs/proj_2.yml)<br>\n",
    "To load it run:\n",
    "```python\n",
    "config_path='confs/proj_2.yml'\n",
    "conf = Configuration(config_src=config_path)\n",
    "# Get the books dictionary\n",
    "books = conf.get_config('data_loader')['config']['books'] # type = Dict\n",
    "print(books.keys())\n",
    "print(books['The_Bat'])\n",
    "```\n",
    "To reload the config just run the 2nd and 3rd command.\n",
    "\n",
    "## Libraries Overview:\n",
    "All the libraries are located under *\"\\<project root>/nlp_libs\"*\n",
    "- nlp_libs/**books**: This project's code (imported later)\n",
    "- nlp_libs/**configuration**: Class that creates config objects from yml files\n",
    "- nlp_libs/**fancy_logger**: Logger that can be used instead of prints for text formatting (color, bold, underline etc)\n",
    "\n",
    "## Project 1 Code\n",
    "If you need to import anything from Project 1 just run:\n",
    "```python\n",
    "import proj1_nlp_libs.books.processed_book as proc\n",
    "import proj1_nlp_libs.books.book_extractor as extr\n",
    "import proj1_nlp_libs.books.plotter as pl\n",
    "```\n",
    "\n",
    "## For more info check out:\n",
    "- the **[Project Board](https://github.com/NLPaladins/rinehartAnalysis_wordVectors/projects/1)**\n",
    "- the **[README](https://github.com/NLPaladins/https://github.com/NLPaladins/rinehartAnalysis_wordVectors/blob/main/README.md)**\n",
    "- and the **[Current Issues](https://github.com/NLPaladins/rinehartAnalysis_wordVectors/issues)**"
   ]
  },
  {
   "cell_type": "markdown",
   "metadata": {},
   "source": [
    "# ------------------------------------------------------------------"
   ]
  },
  {
   "cell_type": "markdown",
   "metadata": {},
   "source": [
    "## On Google Collab?\n",
    "- **If yes, run the two cells and press the two buttons below:**\n",
    "- Otherwise go to \"***Import the base Libraries***\""
   ]
  },
  {
   "cell_type": "code",
   "execution_count": 1,
   "metadata": {
    "colab": {
     "base_uri": "https://localhost:8080/",
     "height": 104,
     "referenced_widgets": [
      "e7b4d0dcb1f24d998063f877d1efbca7",
      "f7b19456e9b94ee09f8ed14cc1ba960b",
      "1731d42a04634fee89c2f80c12a29c88"
     ]
    },
    "executionInfo": {
     "elapsed": 422,
     "status": "ok",
     "timestamp": 1632717858015,
     "user": {
      "displayName": "Kostas Georgiou",
      "photoUrl": "https://lh3.googleusercontent.com/a-/AOh14GhzP5qrxeKXeuneTscU-PqTEiyBLJpOwQ-olOc2x5s=s64",
      "userId": "10199933473437407446"
     },
     "user_tz": 240
    },
    "id": "1SQIWYWmi8A4",
    "outputId": "9832cee7-6841-41cc-ef30-3bbf97b720d3"
   },
   "outputs": [
    {
     "name": "stdout",
     "output_type": "stream",
     "text": [
      "Clone project?\n",
      "(If you do this you will ovewrite local changes on other files e.g. configs)\n",
      "Not needed if you're not on Google Collab\n"
     ]
    },
    {
     "data": {
      "application/vnd.jupyter.widget-view+json": {
       "model_id": "77ec66c8082b4a63875b05dc526652e8",
       "version_major": 2,
       "version_minor": 0
      },
      "text/plain": [
       "Button(description='Yes, clone', style=ButtonStyle())"
      ]
     },
     "metadata": {},
     "output_type": "display_data"
    }
   ],
   "source": [
    "# Import Jupyter Widgets\n",
    "import os\n",
    "import ipywidgets as widgets\n",
    "from ipywidgets import interact, interact_manual\n",
    "from IPython.display import display\n",
    "# Clone the repository if you're in Google Collab\n",
    "def clone_project(is_collab: bool = False):\n",
    "    print(\"Cloning Project..\")\n",
    "    !git clone https://github.com/NLPaladins/rinehartAnalysis_wordVectors.git\n",
    "    print(\"Project cloned.\")\n",
    "       \n",
    "print(\"Clone project?\")\n",
    "print(\"(If you do this you will ovewrite local changes on other files e.g. configs)\")\n",
    "print(\"Not needed if you're not on Google Collab\")\n",
    "btn = widgets.Button(description=\"Yes, clone\")\n",
    "btn.on_click(clone_project)\n",
    "display(btn)"
   ]
  },
  {
   "cell_type": "code",
   "execution_count": 2,
   "metadata": {
    "colab": {
     "base_uri": "https://localhost:8080/",
     "height": 67,
     "referenced_widgets": [
      "c55ebd5855ca490791c5d6b9308b6d4e",
      "5f7a290065d24765a0bc5fa9801fd815",
      "a5b00bcabdfc42c480043de40a36c486"
     ]
    },
    "executionInfo": {
     "elapsed": 104,
     "status": "ok",
     "timestamp": 1632717858016,
     "user": {
      "displayName": "Kostas Georgiou",
      "photoUrl": "https://lh3.googleusercontent.com/a-/AOh14GhzP5qrxeKXeuneTscU-PqTEiyBLJpOwQ-olOc2x5s=s64",
      "userId": "10199933473437407446"
     },
     "user_tz": 240
    },
    "id": "F_l8p4H1i8A5",
    "outputId": "8e4174bb-ba13-4f22-b2d6-f5045de58d9e"
   },
   "outputs": [
    {
     "name": "stdout",
     "output_type": "stream",
     "text": [
      "Are you on Google Collab?\n"
     ]
    },
    {
     "data": {
      "application/vnd.jupyter.widget-view+json": {
       "model_id": "977d2fd3c7744f1fb4e70e659f51536b",
       "version_major": 2,
       "version_minor": 0
      },
      "text/plain": [
       "Button(description='Yes', style=ButtonStyle())"
      ]
     },
     "metadata": {},
     "output_type": "display_data"
    }
   ],
   "source": [
    "# Clone the repository if you're in Google Collab\n",
    "def change_dir(is_collab: bool = False):\n",
    "    try:\n",
    "        print(\"Changing dir..\")\n",
    "        os.chdir('/content/rinehartAnalysis')\n",
    "        print('done')\n",
    "        print(\"Current dir:\")\n",
    "        print(os.getcwd())\n",
    "        print(\"Dir Contents:\")\n",
    "        print(os.listdir())\n",
    "        print(\"\\nInstalling Requirements\")\n",
    "        !pip install -r requirements.txt\n",
    "    except Exception:\n",
    "        print(\"Error: Project not cloned\")\n",
    "       \n",
    "print(\"Are you on Google Collab?\")\n",
    "btn = widgets.Button(description=\"Yes\")\n",
    "btn.on_click(change_dir)\n",
    "display(btn)"
   ]
  },
  {
   "cell_type": "markdown",
   "metadata": {
    "id": "6CpeQfTli8A6"
   },
   "source": [
    "### To commit and push Google Collab notebook to Github\n",
    "Click **File > Save a copy on Gihtub**"
   ]
  },
  {
   "cell_type": "markdown",
   "metadata": {},
   "source": [
    "# ------------------------------------------------------------------"
   ]
  },
  {
   "cell_type": "markdown",
   "metadata": {},
   "source": [
    "# Initializations"
   ]
  },
  {
   "cell_type": "markdown",
   "metadata": {
    "id": "H1RHGfh1i8A8",
    "pycharm": {
     "name": "#%%\n"
    }
   },
   "source": [
    "## Import the base Libraries"
   ]
  },
  {
   "cell_type": "code",
   "execution_count": 3,
   "metadata": {
    "colab": {
     "base_uri": "https://localhost:8080/"
    },
    "executionInfo": {
     "elapsed": 80,
     "status": "ok",
     "timestamp": 1632717858017,
     "user": {
      "displayName": "Kostas Georgiou",
      "photoUrl": "https://lh3.googleusercontent.com/a-/AOh14GhzP5qrxeKXeuneTscU-PqTEiyBLJpOwQ-olOc2x5s=s64",
      "userId": "10199933473437407446"
     },
     "user_tz": 240
    },
    "id": "wjKYGxzYi8A9",
    "outputId": "185d3c02-7723-4c5d-a58a-69a2eff4462f"
   },
   "outputs": [],
   "source": [
    "# Imports\n",
    "%load_ext autoreload\n",
    "%autoreload 2\n",
    "from importlib import reload as reload_lib\n",
    "from typing import *\n",
    "import os\n",
    "import re\n",
    "from pprint import pprint\n",
    "# Numpy\n",
    "import numpy as np\n",
    "\n",
    "# Import preprocessing lib\n",
    "from nlp_libs.books import *"
   ]
  },
  {
   "cell_type": "markdown",
   "metadata": {},
   "source": [
    "## Load the YML file"
   ]
  },
  {
   "cell_type": "code",
   "execution_count": 4,
   "metadata": {},
   "outputs": [],
   "source": [
    "from nlp_libs import Configuration"
   ]
  },
  {
   "cell_type": "code",
   "execution_count": 5,
   "metadata": {
    "colab": {
     "base_uri": "https://localhost:8080/"
    },
    "executionInfo": {
     "elapsed": 58,
     "status": "ok",
     "timestamp": 1632717858017,
     "user": {
      "displayName": "Kostas Georgiou",
      "photoUrl": "https://lh3.googleusercontent.com/a-/AOh14GhzP5qrxeKXeuneTscU-PqTEiyBLJpOwQ-olOc2x5s=s64",
      "userId": "10199933473437407446"
     },
     "user_tz": 240
    },
    "id": "XYH2o7w3i8A-",
    "outputId": "48016d05-91df-462d-9f73-87d98d66a375"
   },
   "outputs": [
    {
     "name": "stderr",
     "output_type": "stream",
     "text": [
      "2021-10-31 20:49:09 Config       INFO     \u001b[1m\u001b[37mConfiguration file loaded successfully from path: /Users/gkos/Insync/delfinas7kostas@gmail.com/Google Drive/Projects/UTK/NLP-Project2/Code/confs/proj_2.yml\u001b[0m\n",
      "2021-10-31 20:49:09 Config       INFO     \u001b[1m\u001b[37mConfiguration Tag: proj2\u001b[0m\n"
     ]
    }
   ],
   "source": [
    "# The path of configuration and log save path\n",
    "config_path = \"confs/proj_2.yml\"\n",
    "# !cat \"$config_path\"\n",
    "# Load the configuration\n",
    "conf = Configuration(config_src=config_path)\n",
    "# Get the books dict\n",
    "books_conf = conf.get_config('data_loader')['config']['books']\n",
    "# print(books.keys())\n",
    "# pprint(books)  # Pretty print the books dict"
   ]
  },
  {
   "cell_type": "markdown",
   "metadata": {},
   "source": [
    "## Setup Logger and Example"
   ]
  },
  {
   "cell_type": "code",
   "execution_count": 6,
   "metadata": {},
   "outputs": [
    {
     "name": "stderr",
     "output_type": "stream",
     "text": [
      "2021-10-31 20:49:09 FancyLogger  INFO     \u001b[1m\u001b[37mLogger is set. Log file path: /Users/gkos/Insync/delfinas7kostas@gmail.com/Google Drive/Projects/UTK/NLP-Project2/Code/logs/proj_2.log\u001b[0m\n",
      "2021-10-31 20:49:09 Notebook     INFO     \u001b[1m\u001b[36mLogger Examples:\u001b[0m\n",
      "\n",
      "2021-10-31 20:49:09 Notebook     WARNING  \u001b[4m\u001b[36mLogger Warning underlined\u001b[0m\n",
      "2021-10-31 20:49:09 Notebook     ERROR    \u001b[1m\u001b[41m\u001b[33mLogger Error in red&yellow\u001b[0m\n"
     ]
    }
   ],
   "source": [
    "log_path = \"logs/proj_2.log\"\n",
    "# Load and setup logger\n",
    "logger = ColorizedLogger(logger_name='Notebook', color='cyan')\n",
    "ColorizedLogger.setup_logger(log_path=log_path, debug=False, clear_log=True)\n",
    "# Examples\n",
    "logger.info(\"Logger Examples:\")\n",
    "logger.nl(num_lines=1) # New lines\n",
    "logger.warn(\"Logger Warning underlined\", attrs=['underline']) \n",
    "# Atrs:  bold, dark, underline, blink, reverse, concealed\n",
    "logger.error(\"Logger Error in red&yellow\", color=\"yellow\", on_color=\"on_red\")\n",
    "# Colors: on_grey, on_red, on_green, on_yellow, on_blue, on_magenta, on_cyan, on_white"
   ]
  },
  {
   "cell_type": "markdown",
   "metadata": {},
   "source": [
    "# ------------------------------------------------------------------"
   ]
  },
  {
   "cell_type": "markdown",
   "metadata": {
    "id": "ZyM4avEli8A_"
   },
   "source": [
    "# Start of Project Code"
   ]
  },
  {
   "cell_type": "code",
   "execution_count": 7,
   "metadata": {},
   "outputs": [],
   "source": [
    "from nlp_libs import books as books_lib"
   ]
  },
  {
   "cell_type": "markdown",
   "metadata": {},
   "source": [
    "## Preprocessing"
   ]
  },
  {
   "cell_type": "markdown",
   "metadata": {},
   "source": [
    "# The Circular Staircase"
   ]
  },
  {
   "cell_type": "code",
   "execution_count": 8,
   "metadata": {},
   "outputs": [],
   "source": [
    "book_meta = books_conf['The_Circular_Staircase']\n",
    "book = ProcessedBook(book_meta)"
   ]
  },
  {
   "cell_type": "code",
   "execution_count": 9,
   "metadata": {},
   "outputs": [],
   "source": [
    "protagonist_subs = list(book_meta['protagonists'][0].values())[0]\n",
    "substitution = (protagonist_subs, 'protagonist')\n",
    "sentences_substituted = book.lemmatize_by_sentence(word_subs=substitution)\n",
    "sentences = book.lemmatize_by_sentence()\n"
   ]
  },
  {
   "cell_type": "code",
   "execution_count": 10,
   "metadata": {},
   "outputs": [
    {
     "name": "stdout",
     "output_type": "stream",
     "text": [
      "\n",
      "protagonists_antagonists: \n",
      "[('jamieson', 'watson'), ('detective', 'watson'), ('winters', 'watson')]\n",
      "\n",
      "antagonists_crime_weapon: \n",
      "[('watson', 'revolver')]\n",
      "\n",
      "antagonists_crime_objects: \n",
      "[('watson', 'staircase'), ('watson', 'floor'), ('watson', 'waistcoat')]\n"
     ]
    }
   ],
   "source": [
    "protagonists_antagonists = books_lib.word_embeddings\\\n",
    "                          .get_combinations(conf=book_meta, \n",
    "                                            keys_1=['protagonists'], \n",
    "                                            get_all_sub_values_1=True,\n",
    "                                            keys_2=['antagonists'],\n",
    "                                            get_all_sub_values_2=True,\n",
    "                                            ignore_words_with_spaces=True)\n",
    "antagonists_crime_weapon = books_lib.word_embeddings\\\n",
    "                          .get_combinations(conf=book_meta, \n",
    "                                            keys_1=['antagonists'],\n",
    "                                            get_all_sub_values_1=True,\n",
    "                                            keys_2=['crime', 'crime_weapon'],\n",
    "                                            get_all_sub_values_2=False,\n",
    "                                            ignore_words_with_spaces=True)\n",
    "antagonists_crime_objects = books_lib.word_embeddings\\\n",
    "                           .get_combinations(conf=book_meta,\n",
    "                                             keys_1=['antagonists'],\n",
    "                                             get_all_sub_values_1=True,\n",
    "                                             keys_2=['crime', 'crime_objects'],\n",
    "                                             get_all_sub_values_2=False,\n",
    "                                             ignore_words_with_spaces=True)\n",
    "\n",
    "print(\"\\nprotagonists_antagonists: \")\n",
    "pprint(protagonists_antagonists)\n",
    "print(\"\\nantagonists_crime_weapon: \")\n",
    "pprint(antagonists_crime_weapon)\n",
    "print(\"\\nantagonists_crime_objects: \")\n",
    "pprint(antagonists_crime_objects)"
   ]
  },
  {
   "cell_type": "code",
   "execution_count": null,
   "metadata": {},
   "outputs": [],
   "source": []
  },
  {
   "cell_type": "code",
   "execution_count": 17,
   "metadata": {},
   "outputs": [
    {
     "name": "stdout",
     "output_type": "stream",
     "text": [
      "waistcoat not in vocabulary! Skipping..\n",
      "waistcoat not in vocabulary! Skipping..\n",
      "waistcoat not in vocabulary! Skipping..\n",
      "waistcoat not in vocabulary! Skipping..\n",
      "waistcoat not in vocabulary! Skipping..\n",
      "waistcoat not in vocabulary! Skipping..\n",
      "waistcoat not in vocabulary! Skipping..\n",
      "waistcoat not in vocabulary! Skipping..\n",
      "waistcoat not in vocabulary! Skipping..\n",
      "waistcoat not in vocabulary! Skipping..\n",
      "waistcoat not in vocabulary! Skipping..\n",
      "waistcoat not in vocabulary! Skipping..\n",
      "waistcoat not in vocabulary! Skipping..\n",
      "waistcoat not in vocabulary! Skipping..\n",
      "waistcoat not in vocabulary! Skipping..\n",
      "waistcoat not in vocabulary! Skipping..\n",
      "waistcoat not in vocabulary! Skipping..\n",
      "waistcoat not in vocabulary! Skipping..\n",
      "waistcoat not in vocabulary! Skipping..\n",
      "waistcoat not in vocabulary! Skipping..\n",
      "waistcoat not in vocabulary! Skipping..\n",
      "waistcoat not in vocabulary! Skipping..\n",
      "waistcoat not in vocabulary! Skipping..\n",
      "waistcoat not in vocabulary! Skipping..\n",
      "waistcoat not in vocabulary! Skipping..\n",
      "waistcoat not in vocabulary! Skipping..\n",
      "waistcoat not in vocabulary! Skipping..\n",
      "waistcoat not in vocabulary! Skipping..\n",
      "waistcoat not in vocabulary! Skipping..\n",
      "waistcoat not in vocabulary! Skipping..\n",
      "waistcoat not in vocabulary! Skipping..\n",
      "waistcoat not in vocabulary! Skipping..\n"
     ]
    }
   ],
   "source": [
    "# df = books_lib.word_embeddings.calculate_differing_distances(sentences, [['jamieson', 'watson'], \n",
    "#                                                             ['revolver', 'watson'], \n",
    "#                                                             ['murder', 'watson'], \n",
    "#                                                             ['jamieson', 'murder'], \n",
    "#                                                             ['jamieson', 'revolver'],\n",
    "#                                                             ['watson', 'revolver'],\n",
    "#                                                             ['murder', 'revolver'],\n",
    "#                                                             ['murder', 'bag'],\n",
    "#                                                             ['murder', 'rachel'],                                                                  \n",
    "#                                                             ['jamieson', 'detective']])\n",
    "\n",
    "protagonists_antagonists_distances = books_lib\\\n",
    "                                     .word_embeddings\\\n",
    "                                     .calculate_differing_distances(sentences, \n",
    "                                                                    protagonists_antagonists)\n",
    "antagonists_crime_weapon_distances = books_lib\\\n",
    "                                     .word_embeddings\\\n",
    "                                     .calculate_differing_distances(sentences, \n",
    "                                                                    antagonists_crime_weapon)\n",
    "antagonists_crime_objects_distances = books_lib\\\n",
    "                                     .word_embeddings\\\n",
    "                                     .calculate_differing_distances(sentences, \n",
    "                                                                    antagonists_crime_objects)"
   ]
  },
  {
   "cell_type": "code",
   "execution_count": 20,
   "metadata": {},
   "outputs": [
    {
     "data": {
      "text/html": [
       "<div>\n",
       "<style scoped>\n",
       "    .dataframe tbody tr th:only-of-type {\n",
       "        vertical-align: middle;\n",
       "    }\n",
       "\n",
       "    .dataframe tbody tr th {\n",
       "        vertical-align: top;\n",
       "    }\n",
       "\n",
       "    .dataframe thead th {\n",
       "        text-align: right;\n",
       "    }\n",
       "</style>\n",
       "<table border=\"1\" class=\"dataframe\">\n",
       "  <thead>\n",
       "    <tr style=\"text-align: right;\">\n",
       "      <th></th>\n",
       "      <th>word1</th>\n",
       "      <th>word2</th>\n",
       "      <th>vectorSize</th>\n",
       "      <th>windowSize</th>\n",
       "      <th>cosineSim</th>\n",
       "      <th>dotSim</th>\n",
       "    </tr>\n",
       "  </thead>\n",
       "  <tbody>\n",
       "    <tr>\n",
       "      <th>5</th>\n",
       "      <td>winters</td>\n",
       "      <td>watson</td>\n",
       "      <td>50</td>\n",
       "      <td>5</td>\n",
       "      <td>0.883563</td>\n",
       "      <td>0.268496</td>\n",
       "    </tr>\n",
       "    <tr>\n",
       "      <th>11</th>\n",
       "      <td>winters</td>\n",
       "      <td>watson</td>\n",
       "      <td>50</td>\n",
       "      <td>10</td>\n",
       "      <td>0.888134</td>\n",
       "      <td>0.307680</td>\n",
       "    </tr>\n",
       "    <tr>\n",
       "      <th>8</th>\n",
       "      <td>winters</td>\n",
       "      <td>watson</td>\n",
       "      <td>50</td>\n",
       "      <td>3</td>\n",
       "      <td>0.891143</td>\n",
       "      <td>0.256792</td>\n",
       "    </tr>\n",
       "    <tr>\n",
       "      <th>35</th>\n",
       "      <td>winters</td>\n",
       "      <td>watson</td>\n",
       "      <td>200</td>\n",
       "      <td>10</td>\n",
       "      <td>0.895619</td>\n",
       "      <td>0.149457</td>\n",
       "    </tr>\n",
       "    <tr>\n",
       "      <th>23</th>\n",
       "      <td>winters</td>\n",
       "      <td>watson</td>\n",
       "      <td>100</td>\n",
       "      <td>10</td>\n",
       "      <td>0.900442</td>\n",
       "      <td>0.239526</td>\n",
       "    </tr>\n",
       "  </tbody>\n",
       "</table>\n",
       "</div>"
      ],
      "text/plain": [
       "      word1   word2 vectorSize windowSize  cosineSim    dotSim\n",
       "5   winters  watson         50          5   0.883563  0.268496\n",
       "11  winters  watson         50         10   0.888134  0.307680\n",
       "8   winters  watson         50          3   0.891143  0.256792\n",
       "35  winters  watson        200         10   0.895619  0.149457\n",
       "23  winters  watson        100         10   0.900442  0.239526"
      ]
     },
     "metadata": {},
     "output_type": "display_data"
    },
    {
     "data": {
      "text/html": [
       "<div>\n",
       "<style scoped>\n",
       "    .dataframe tbody tr th:only-of-type {\n",
       "        vertical-align: middle;\n",
       "    }\n",
       "\n",
       "    .dataframe tbody tr th {\n",
       "        vertical-align: top;\n",
       "    }\n",
       "\n",
       "    .dataframe thead th {\n",
       "        text-align: right;\n",
       "    }\n",
       "</style>\n",
       "<table border=\"1\" class=\"dataframe\">\n",
       "  <thead>\n",
       "    <tr style=\"text-align: right;\">\n",
       "      <th></th>\n",
       "      <th>word1</th>\n",
       "      <th>word2</th>\n",
       "      <th>vectorSize</th>\n",
       "      <th>windowSize</th>\n",
       "      <th>cosineSim</th>\n",
       "      <th>dotSim</th>\n",
       "    </tr>\n",
       "  </thead>\n",
       "  <tbody>\n",
       "    <tr>\n",
       "      <th>0</th>\n",
       "      <td>watson</td>\n",
       "      <td>revolver</td>\n",
       "      <td>50</td>\n",
       "      <td>2</td>\n",
       "      <td>0.996419</td>\n",
       "      <td>2.113903</td>\n",
       "    </tr>\n",
       "    <tr>\n",
       "      <th>1</th>\n",
       "      <td>watson</td>\n",
       "      <td>revolver</td>\n",
       "      <td>50</td>\n",
       "      <td>5</td>\n",
       "      <td>0.996725</td>\n",
       "      <td>2.324624</td>\n",
       "    </tr>\n",
       "    <tr>\n",
       "      <th>2</th>\n",
       "      <td>watson</td>\n",
       "      <td>revolver</td>\n",
       "      <td>50</td>\n",
       "      <td>3</td>\n",
       "      <td>0.996925</td>\n",
       "      <td>2.525594</td>\n",
       "    </tr>\n",
       "    <tr>\n",
       "      <th>3</th>\n",
       "      <td>watson</td>\n",
       "      <td>revolver</td>\n",
       "      <td>50</td>\n",
       "      <td>10</td>\n",
       "      <td>0.997099</td>\n",
       "      <td>2.782874</td>\n",
       "    </tr>\n",
       "    <tr>\n",
       "      <th>5</th>\n",
       "      <td>watson</td>\n",
       "      <td>revolver</td>\n",
       "      <td>100</td>\n",
       "      <td>5</td>\n",
       "      <td>0.998208</td>\n",
       "      <td>2.179478</td>\n",
       "    </tr>\n",
       "  </tbody>\n",
       "</table>\n",
       "</div>"
      ],
      "text/plain": [
       "    word1     word2 vectorSize windowSize  cosineSim    dotSim\n",
       "0  watson  revolver         50          2   0.996419  2.113903\n",
       "1  watson  revolver         50          5   0.996725  2.324624\n",
       "2  watson  revolver         50          3   0.996925  2.525594\n",
       "3  watson  revolver         50         10   0.997099  2.782874\n",
       "5  watson  revolver        100          5   0.998208  2.179478"
      ]
     },
     "metadata": {},
     "output_type": "display_data"
    },
    {
     "data": {
      "text/html": [
       "<div>\n",
       "<style scoped>\n",
       "    .dataframe tbody tr th:only-of-type {\n",
       "        vertical-align: middle;\n",
       "    }\n",
       "\n",
       "    .dataframe tbody tr th {\n",
       "        vertical-align: top;\n",
       "    }\n",
       "\n",
       "    .dataframe thead th {\n",
       "        text-align: right;\n",
       "    }\n",
       "</style>\n",
       "<table border=\"1\" class=\"dataframe\">\n",
       "  <thead>\n",
       "    <tr style=\"text-align: right;\">\n",
       "      <th></th>\n",
       "      <th>word1</th>\n",
       "      <th>word2</th>\n",
       "      <th>vectorSize</th>\n",
       "      <th>windowSize</th>\n",
       "      <th>cosineSim</th>\n",
       "      <th>dotSim</th>\n",
       "    </tr>\n",
       "  </thead>\n",
       "  <tbody>\n",
       "    <tr>\n",
       "      <th>0</th>\n",
       "      <td>watson</td>\n",
       "      <td>staircase</td>\n",
       "      <td>50</td>\n",
       "      <td>2</td>\n",
       "      <td>0.995216</td>\n",
       "      <td>3.142427</td>\n",
       "    </tr>\n",
       "    <tr>\n",
       "      <th>2</th>\n",
       "      <td>watson</td>\n",
       "      <td>staircase</td>\n",
       "      <td>50</td>\n",
       "      <td>5</td>\n",
       "      <td>0.995664</td>\n",
       "      <td>4.514706</td>\n",
       "    </tr>\n",
       "    <tr>\n",
       "      <th>8</th>\n",
       "      <td>watson</td>\n",
       "      <td>staircase</td>\n",
       "      <td>100</td>\n",
       "      <td>2</td>\n",
       "      <td>0.996060</td>\n",
       "      <td>2.787005</td>\n",
       "    </tr>\n",
       "    <tr>\n",
       "      <th>4</th>\n",
       "      <td>watson</td>\n",
       "      <td>staircase</td>\n",
       "      <td>50</td>\n",
       "      <td>3</td>\n",
       "      <td>0.996110</td>\n",
       "      <td>3.540225</td>\n",
       "    </tr>\n",
       "    <tr>\n",
       "      <th>6</th>\n",
       "      <td>watson</td>\n",
       "      <td>staircase</td>\n",
       "      <td>50</td>\n",
       "      <td>10</td>\n",
       "      <td>0.996614</td>\n",
       "      <td>5.350755</td>\n",
       "    </tr>\n",
       "  </tbody>\n",
       "</table>\n",
       "</div>"
      ],
      "text/plain": [
       "    word1      word2 vectorSize windowSize  cosineSim    dotSim\n",
       "0  watson  staircase         50          2   0.995216  3.142427\n",
       "2  watson  staircase         50          5   0.995664  4.514706\n",
       "8  watson  staircase        100          2   0.996060  2.787005\n",
       "4  watson  staircase         50          3   0.996110  3.540225\n",
       "6  watson  staircase         50         10   0.996614  5.350755"
      ]
     },
     "metadata": {},
     "output_type": "display_data"
    }
   ],
   "source": [
    "display(G.sort_values(['cosineSim', 'dotSim']).head())\n",
    "display(antagonists_crime_weapon_distances.sort_values(['cosineSim', 'dotSim']).head())\n",
    "display(antagonists_crime_objects_distances.sort_values(['cosineSim', 'dotSim']).head())"
   ]
  },
  {
   "cell_type": "code",
   "execution_count": null,
   "metadata": {},
   "outputs": [],
   "source": [
    "df = books_lib.word_embeddings.calculate_differing_distances(sentences, [ \n",
    "                                                            ['revolver', 'watson'], \n",
    "                                                            ['murder', 'watson'], \n",
    "                                                            ['murder', 'rachel'],                                                                  \n",
    "                                                            ['jamieson', 'detective']])"
   ]
  },
  {
   "cell_type": "markdown",
   "metadata": {},
   "source": [
    "# The Man in the Lower Ten"
   ]
  },
  {
   "cell_type": "code",
   "execution_count": null,
   "metadata": {},
   "outputs": [],
   "source": [
    "books = ProcessedBook(books_conf['The_Man_in_Lower_Ten'])\n",
    "lemmas = book.lemmas"
   ]
  },
  {
   "cell_type": "code",
   "execution_count": null,
   "metadata": {},
   "outputs": [],
   "source": [
    "protagonist_subs = list(book_meta['protagonists'][0].values())[0]\n",
    "substitution = (protagonist_subs, 'protagonist')\n",
    "sentences_substituted = book.lemmatize_by_sentence(word_subs=substitution)\n",
    "sentences = book.lemmatize_by_sentence()"
   ]
  },
  {
   "cell_type": "code",
   "execution_count": null,
   "metadata": {},
   "outputs": [],
   "source": [
    "df = books_lib.word_embeddings.calculate_differing_distances(sentences, [['jamieson', 'watson'], \n",
    "                                                            ['revolver', 'watson'], \n",
    "                                                            ['murder', 'watson'], \n",
    "                                                            ['jamieson', 'murder'], \n",
    "                                                            ['jamieson', 'revolver'],\n",
    "                                                            ['watson', 'revolver'],\n",
    "                                                            ['murder', 'revolver'],\n",
    "                                                            ['murder', 'bag'],\n",
    "                                                            ['murder', 'rachel'],                                                                  \n",
    "                                                            ['jamieson', 'detective']])"
   ]
  },
  {
   "cell_type": "markdown",
   "metadata": {},
   "source": [
    "# The After House"
   ]
  },
  {
   "cell_type": "code",
   "execution_count": null,
   "metadata": {},
   "outputs": [],
   "source": [
    "book = ProcessedBook(books_conf['The_After_House'])\n",
    "lemmas = book.lemmas"
   ]
  },
  {
   "cell_type": "code",
   "execution_count": null,
   "metadata": {},
   "outputs": [],
   "source": [
    "' '.join(lemmas[:100])"
   ]
  },
  {
   "cell_type": "markdown",
   "metadata": {},
   "source": [
    "# The Window at the Wide Cat"
   ]
  },
  {
   "cell_type": "code",
   "execution_count": null,
   "metadata": {},
   "outputs": [],
   "source": [
    "book = ProcessedBook(books_conf['The_Window_at_the_White_Cat'])\n",
    "lemmas = book.lemmas"
   ]
  },
  {
   "cell_type": "code",
   "execution_count": null,
   "metadata": {},
   "outputs": [],
   "source": [
    "' '.join(lemmas[:100])"
   ]
  },
  {
   "cell_type": "markdown",
   "metadata": {},
   "source": [
    "# The Bat"
   ]
  },
  {
   "cell_type": "code",
   "execution_count": null,
   "metadata": {},
   "outputs": [],
   "source": [
    "book = ProcessedBook(books_conf['The_Bat'])\n",
    "lemmas = book.lemmas"
   ]
  },
  {
   "cell_type": "code",
   "execution_count": null,
   "metadata": {},
   "outputs": [],
   "source": [
    "' '.join(lemmas[:100])"
   ]
  },
  {
   "cell_type": "markdown",
   "metadata": {},
   "source": [
    "## Custom Word Embeddings"
   ]
  },
  {
   "cell_type": "code",
   "execution_count": null,
   "metadata": {},
   "outputs": [],
   "source": [
    "# Import word_embeddings lib\n",
    "import nlp_libs.books.word_embeddings as we"
   ]
  },
  {
   "cell_type": "code",
   "execution_count": null,
   "metadata": {},
   "outputs": [],
   "source": [
    "# custom_embeddings = we.WordEmbeddingsCustom()"
   ]
  },
  {
   "cell_type": "code",
   "execution_count": null,
   "metadata": {},
   "outputs": [],
   "source": []
  },
  {
   "cell_type": "markdown",
   "metadata": {},
   "source": [
    "## Pretrained Word Embeddings"
   ]
  },
  {
   "cell_type": "code",
   "execution_count": null,
   "metadata": {},
   "outputs": [],
   "source": [
    "# pretrained_embeddings = we.WordEmbeddingsPretrained()"
   ]
  },
  {
   "cell_type": "code",
   "execution_count": null,
   "metadata": {},
   "outputs": [],
   "source": []
  },
  {
   "cell_type": "code",
   "execution_count": null,
   "metadata": {},
   "outputs": [],
   "source": []
  },
  {
   "cell_type": "markdown",
   "metadata": {},
   "source": [
    "## Compare Vector distances and report similarities using Custom Embeddings"
   ]
  },
  {
   "cell_type": "code",
   "execution_count": null,
   "metadata": {},
   "outputs": [],
   "source": [
    "# Import compare_statistics lib\n",
    "import nlp_libs.books.compare_statistics as cs"
   ]
  },
  {
   "cell_type": "code",
   "execution_count": null,
   "metadata": {},
   "outputs": [],
   "source": [
    "# cs.my_custom_embeddings_compare_function()"
   ]
  },
  {
   "cell_type": "code",
   "execution_count": null,
   "metadata": {},
   "outputs": [],
   "source": []
  },
  {
   "cell_type": "markdown",
   "metadata": {},
   "source": [
    "## Compare Vector distances and report similarities using Pretrained Embeddings"
   ]
  },
  {
   "cell_type": "code",
   "execution_count": null,
   "metadata": {},
   "outputs": [],
   "source": [
    "# cs.my_pretrained_embeddings_compare_function()"
   ]
  },
  {
   "cell_type": "code",
   "execution_count": null,
   "metadata": {},
   "outputs": [],
   "source": []
  },
  {
   "cell_type": "code",
   "execution_count": null,
   "metadata": {},
   "outputs": [],
   "source": []
  },
  {
   "cell_type": "markdown",
   "metadata": {},
   "source": [
    "## Extra Analysis? Plots?"
   ]
  },
  {
   "cell_type": "code",
   "execution_count": null,
   "metadata": {},
   "outputs": [],
   "source": [
    "# Too much work"
   ]
  },
  {
   "cell_type": "code",
   "execution_count": null,
   "metadata": {},
   "outputs": [],
   "source": []
  },
  {
   "cell_type": "code",
   "execution_count": null,
   "metadata": {},
   "outputs": [],
   "source": []
  },
  {
   "cell_type": "code",
   "execution_count": null,
   "metadata": {},
   "outputs": [],
   "source": []
  }
 ],
 "metadata": {
  "colab": {
   "name": "main.ipynb",
   "provenance": []
  },
  "kernelspec": {
   "display_name": "Python 3 (ipykernel)",
   "language": "python",
   "name": "python3"
  },
  "language_info": {
   "codemirror_mode": {
    "name": "ipython",
    "version": 3
   },
   "file_extension": ".py",
   "mimetype": "text/x-python",
   "name": "python",
   "nbconvert_exporter": "python",
   "pygments_lexer": "ipython3",
   "version": "3.9.7"
  },
  "widgets": {
   "application/vnd.jupyter.widget-state+json": {
    "1731d42a04634fee89c2f80c12a29c88": {
     "model_module": "@jupyter-widgets/base",
     "model_module_version": "1.2.0",
     "model_name": "LayoutModel",
     "state": {
      "_model_module": "@jupyter-widgets/base",
      "_model_module_version": "1.2.0",
      "_model_name": "LayoutModel",
      "_view_count": null,
      "_view_module": "@jupyter-widgets/base",
      "_view_module_version": "1.2.0",
      "_view_name": "LayoutView",
      "align_content": null,
      "align_items": null,
      "align_self": null,
      "border": null,
      "bottom": null,
      "display": null,
      "flex": null,
      "flex_flow": null,
      "grid_area": null,
      "grid_auto_columns": null,
      "grid_auto_flow": null,
      "grid_auto_rows": null,
      "grid_column": null,
      "grid_gap": null,
      "grid_row": null,
      "grid_template_areas": null,
      "grid_template_columns": null,
      "grid_template_rows": null,
      "height": null,
      "justify_content": null,
      "justify_items": null,
      "left": null,
      "margin": null,
      "max_height": null,
      "max_width": null,
      "min_height": null,
      "min_width": null,
      "object_fit": null,
      "object_position": null,
      "order": null,
      "overflow": null,
      "overflow_x": null,
      "overflow_y": null,
      "padding": null,
      "right": null,
      "top": null,
      "visibility": null,
      "width": null
     }
    },
    "5f7a290065d24765a0bc5fa9801fd815": {
     "model_module": "@jupyter-widgets/controls",
     "model_module_version": "1.5.0",
     "model_name": "ButtonStyleModel",
     "state": {
      "_model_module": "@jupyter-widgets/controls",
      "_model_module_version": "1.5.0",
      "_model_name": "ButtonStyleModel",
      "_view_count": null,
      "_view_module": "@jupyter-widgets/base",
      "_view_module_version": "1.2.0",
      "_view_name": "StyleView",
      "button_color": null,
      "font_weight": ""
     }
    },
    "a5b00bcabdfc42c480043de40a36c486": {
     "model_module": "@jupyter-widgets/base",
     "model_module_version": "1.2.0",
     "model_name": "LayoutModel",
     "state": {
      "_model_module": "@jupyter-widgets/base",
      "_model_module_version": "1.2.0",
      "_model_name": "LayoutModel",
      "_view_count": null,
      "_view_module": "@jupyter-widgets/base",
      "_view_module_version": "1.2.0",
      "_view_name": "LayoutView",
      "align_content": null,
      "align_items": null,
      "align_self": null,
      "border": null,
      "bottom": null,
      "display": null,
      "flex": null,
      "flex_flow": null,
      "grid_area": null,
      "grid_auto_columns": null,
      "grid_auto_flow": null,
      "grid_auto_rows": null,
      "grid_column": null,
      "grid_gap": null,
      "grid_row": null,
      "grid_template_areas": null,
      "grid_template_columns": null,
      "grid_template_rows": null,
      "height": null,
      "justify_content": null,
      "justify_items": null,
      "left": null,
      "margin": null,
      "max_height": null,
      "max_width": null,
      "min_height": null,
      "min_width": null,
      "object_fit": null,
      "object_position": null,
      "order": null,
      "overflow": null,
      "overflow_x": null,
      "overflow_y": null,
      "padding": null,
      "right": null,
      "top": null,
      "visibility": null,
      "width": null
     }
    },
    "c55ebd5855ca490791c5d6b9308b6d4e": {
     "model_module": "@jupyter-widgets/controls",
     "model_module_version": "1.5.0",
     "model_name": "ButtonModel",
     "state": {
      "_dom_classes": [],
      "_model_module": "@jupyter-widgets/controls",
      "_model_module_version": "1.5.0",
      "_model_name": "ButtonModel",
      "_view_count": null,
      "_view_module": "@jupyter-widgets/controls",
      "_view_module_version": "1.5.0",
      "_view_name": "ButtonView",
      "button_style": "",
      "description": "Yes",
      "disabled": false,
      "icon": "",
      "layout": "IPY_MODEL_a5b00bcabdfc42c480043de40a36c486",
      "style": "IPY_MODEL_5f7a290065d24765a0bc5fa9801fd815",
      "tooltip": ""
     }
    },
    "e7b4d0dcb1f24d998063f877d1efbca7": {
     "model_module": "@jupyter-widgets/controls",
     "model_module_version": "1.5.0",
     "model_name": "ButtonModel",
     "state": {
      "_dom_classes": [],
      "_model_module": "@jupyter-widgets/controls",
      "_model_module_version": "1.5.0",
      "_model_name": "ButtonModel",
      "_view_count": null,
      "_view_module": "@jupyter-widgets/controls",
      "_view_module_version": "1.5.0",
      "_view_name": "ButtonView",
      "button_style": "",
      "description": "Yes, clone",
      "disabled": false,
      "icon": "",
      "layout": "IPY_MODEL_1731d42a04634fee89c2f80c12a29c88",
      "style": "IPY_MODEL_f7b19456e9b94ee09f8ed14cc1ba960b",
      "tooltip": ""
     }
    },
    "f7b19456e9b94ee09f8ed14cc1ba960b": {
     "model_module": "@jupyter-widgets/controls",
     "model_module_version": "1.5.0",
     "model_name": "ButtonStyleModel",
     "state": {
      "_model_module": "@jupyter-widgets/controls",
      "_model_module_version": "1.5.0",
      "_model_name": "ButtonStyleModel",
      "_view_count": null,
      "_view_module": "@jupyter-widgets/base",
      "_view_module_version": "1.2.0",
      "_view_name": "StyleView",
      "button_color": null,
      "font_weight": ""
     }
    }
   }
  }
 },
 "nbformat": 4,
 "nbformat_minor": 1
}

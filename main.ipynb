{
 "cells": [
  {
   "cell_type": "markdown",
   "metadata": {
    "collapsed": true,
    "id": "Vt9t7-fVi8At"
   },
   "source": [
    "# NLP - Project 2\n",
    "## Rinehart Analysis with Word Vectors\n",
    "**Team**: *Jean Merlet, Konstantinos Georgiou, Matt Lane*"
   ]
  },
  {
   "cell_type": "markdown",
   "metadata": {
    "id": "eiRSeV6fi8A0"
   },
   "source": [
    "## Where to put the code\n",
    "- Place the preprocessing functions/classes in [nlp_libs/books/preprocessing.py](https://github.com/NLPaladins/rinehartAnalysis_wordVectors/nlp_libs/books/preprocessing.py)\n",
    "- The custom word embeddings functions/classes (task 1) in [nlp_libs/books/word_embeddings.py](https://github.com/NLPaladins/rinehartAnalysis_wordVectors/nlp_libs/books/word_embeddings.py) (separate class)\n",
    "- The pretrained word embeddings functions/classes (task 2) in [nlp_libs/books/word_embeddings.py](https://github.com/NLPaladins/rinehartAnalysis_wordVectors/nlp_libs/books/word_embeddings.py) (separate class)\n",
    "- The functions/classes (if any) that compare the results (tasks 3, 4, 5) in [nlp_libs/books/compare_statistics.py](https://github.com/NLPaladins/rinehartAnalysis_wordVectors/nlp_libs/books/compare_statistics.py)\n",
    "- Any plotting related functions in [nlp_libs/books/plotter.py](https://github.com/NLPaladins/rinehartAnalysis_wordVectors/nlp_libs/books/plotter.py)\n",
    "\n",
    "**The code is reloaded automatically. Any class object needs to reinitialized though.** \n",
    "\n",
    "## Config file\n",
    "The yml/config file is located at: [confs/proj_2.yml](https://github.com/NLPaladins/rinehartAnalysis_wordVectors/confs/proj_2.yml)<br>\n",
    "To load it run:\n",
    "```python\n",
    "config_path='confs/proj_2.yml'\n",
    "conf = Configuration(config_src=config_path)\n",
    "# Get the books dictionary\n",
    "books = conf.get_config('data_loader')['config']['books'] # type = Dict\n",
    "print(books.keys())\n",
    "print(books['The_Bat'])\n",
    "```\n",
    "To reload the config just run the 2nd and 3rd command.\n",
    "\n",
    "## Libraries Overview:\n",
    "All the libraries are located under *\"\\<project root>/nlp_libs\"*\n",
    "- nlp_libs/**books**: This project's code (imported later)\n",
    "- nlp_libs/**configuration**: Class that creates config objects from yml files\n",
    "- nlp_libs/**fancy_logger**: Logger that can be used instead of prints for text formatting (color, bold, underline etc)\n",
    "\n",
    "## Project 1 Code\n",
    "If you need to import anything from Project 1 just run:\n",
    "```python\n",
    "import proj1_nlp_libs.books.processed_book as proc\n",
    "import proj1_nlp_libs.books.book_extractor as extr\n",
    "import proj1_nlp_libs.books.plotter as pl\n",
    "```\n",
    "\n",
    "## For more info check out:\n",
    "- the **[Project Board](https://github.com/NLPaladins/rinehartAnalysis_wordVectors/projects/1)**\n",
    "- the **[README](https://github.com/NLPaladins/https://github.com/NLPaladins/rinehartAnalysis_wordVectors/blob/main/README.md)**\n",
    "- and the **[Current Issues](https://github.com/NLPaladins/rinehartAnalysis_wordVectors/issues)**"
   ]
  },
  {
   "cell_type": "markdown",
   "metadata": {},
   "source": [
    "# ------------------------------------------------------------------"
   ]
  },
  {
   "cell_type": "markdown",
   "metadata": {},
   "source": [
    "## On Google Collab?\n",
    "- **If yes, run the two cells and press the two buttons below:**\n",
    "- Otherwise go to \"***Import the base Libraries***\""
   ]
  },
  {
   "cell_type": "code",
   "execution_count": 1,
   "metadata": {
    "colab": {
     "base_uri": "https://localhost:8080/",
     "height": 104,
     "referenced_widgets": [
      "e7b4d0dcb1f24d998063f877d1efbca7",
      "f7b19456e9b94ee09f8ed14cc1ba960b",
      "1731d42a04634fee89c2f80c12a29c88"
     ]
    },
    "executionInfo": {
     "elapsed": 422,
     "status": "ok",
     "timestamp": 1632717858015,
     "user": {
      "displayName": "Kostas Georgiou",
      "photoUrl": "https://lh3.googleusercontent.com/a-/AOh14GhzP5qrxeKXeuneTscU-PqTEiyBLJpOwQ-olOc2x5s=s64",
      "userId": "10199933473437407446"
     },
     "user_tz": 240
    },
    "id": "1SQIWYWmi8A4",
    "outputId": "9832cee7-6841-41cc-ef30-3bbf97b720d3"
   },
   "outputs": [
    {
     "name": "stdout",
     "output_type": "stream",
     "text": [
      "Clone project?\n",
      "(If you do this you will ovewrite local changes on other files e.g. configs)\n",
      "Not needed if you're not on Google Collab\n"
     ]
    },
    {
     "data": {
      "application/vnd.jupyter.widget-view+json": {
       "model_id": "cfcb3d548cee44089906b4cb633198ed",
       "version_major": 2,
       "version_minor": 0
      },
      "text/plain": [
       "Button(description='Yes, clone', style=ButtonStyle())"
      ]
     },
     "metadata": {},
     "output_type": "display_data"
    }
   ],
   "source": [
    "# Import Jupyter Widgets\n",
    "import os\n",
    "import ipywidgets as widgets\n",
    "from ipywidgets import interact, interact_manual\n",
    "from IPython.display import display\n",
    "# Clone the repository if you're in Google Collab\n",
    "def clone_project(is_collab: bool = False):\n",
    "    print(\"Cloning Project..\")\n",
    "    !git clone https://github.com/NLPaladins/rinehartAnalysis_wordVectors.git\n",
    "    print(\"Project cloned.\")\n",
    "       \n",
    "print(\"Clone project?\")\n",
    "print(\"(If you do this you will ovewrite local changes on other files e.g. configs)\")\n",
    "print(\"Not needed if you're not on Google Collab\")\n",
    "btn = widgets.Button(description=\"Yes, clone\")\n",
    "btn.on_click(clone_project)\n",
    "display(btn)"
   ]
  },
  {
   "cell_type": "code",
   "execution_count": 2,
   "metadata": {
    "colab": {
     "base_uri": "https://localhost:8080/",
     "height": 67,
     "referenced_widgets": [
      "c55ebd5855ca490791c5d6b9308b6d4e",
      "5f7a290065d24765a0bc5fa9801fd815",
      "a5b00bcabdfc42c480043de40a36c486"
     ]
    },
    "executionInfo": {
     "elapsed": 104,
     "status": "ok",
     "timestamp": 1632717858016,
     "user": {
      "displayName": "Kostas Georgiou",
      "photoUrl": "https://lh3.googleusercontent.com/a-/AOh14GhzP5qrxeKXeuneTscU-PqTEiyBLJpOwQ-olOc2x5s=s64",
      "userId": "10199933473437407446"
     },
     "user_tz": 240
    },
    "id": "F_l8p4H1i8A5",
    "outputId": "8e4174bb-ba13-4f22-b2d6-f5045de58d9e"
   },
   "outputs": [
    {
     "name": "stdout",
     "output_type": "stream",
     "text": [
      "Are you on Google Collab?\n"
     ]
    },
    {
     "data": {
      "application/vnd.jupyter.widget-view+json": {
       "model_id": "446c595f8a6b46049e60b784edac6b44",
       "version_major": 2,
       "version_minor": 0
      },
      "text/plain": [
       "Button(description='Yes', style=ButtonStyle())"
      ]
     },
     "metadata": {},
     "output_type": "display_data"
    }
   ],
   "source": [
    "# Clone the repository if you're in Google Collab\n",
    "def change_dir(is_collab: bool = False):\n",
    "    try:\n",
    "        print(\"Changing dir..\")\n",
    "        os.chdir('/content/rinehartAnalysis')\n",
    "        print('done')\n",
    "        print(\"Current dir:\")\n",
    "        print(os.getcwd())\n",
    "        print(\"Dir Contents:\")\n",
    "        print(os.listdir())\n",
    "        print(\"\\nInstalling Requirements\")\n",
    "        !pip install -r requirements.txt\n",
    "    except Exception:\n",
    "        print(\"Error: Project not cloned\")\n",
    "       \n",
    "print(\"Are you on Google Collab?\")\n",
    "btn = widgets.Button(description=\"Yes\")\n",
    "btn.on_click(change_dir)\n",
    "display(btn)"
   ]
  },
  {
   "cell_type": "markdown",
   "metadata": {
    "id": "6CpeQfTli8A6"
   },
   "source": [
    "### To commit and push Google Collab notebook to Github\n",
    "Click **File > Save a copy on Gihtub**"
   ]
  },
  {
   "cell_type": "markdown",
   "metadata": {},
   "source": [
    "# ------------------------------------------------------------------"
   ]
  },
  {
   "cell_type": "markdown",
   "metadata": {},
   "source": [
    "# Initializations"
   ]
  },
  {
   "cell_type": "markdown",
   "metadata": {
    "id": "H1RHGfh1i8A8",
    "pycharm": {
     "name": "#%%\n"
    }
   },
   "source": [
    "## Import the base Libraries"
   ]
  },
  {
   "cell_type": "code",
   "execution_count": 3,
   "metadata": {
    "colab": {
     "base_uri": "https://localhost:8080/"
    },
    "executionInfo": {
     "elapsed": 80,
     "status": "ok",
     "timestamp": 1632717858017,
     "user": {
      "displayName": "Kostas Georgiou",
      "photoUrl": "https://lh3.googleusercontent.com/a-/AOh14GhzP5qrxeKXeuneTscU-PqTEiyBLJpOwQ-olOc2x5s=s64",
      "userId": "10199933473437407446"
     },
     "user_tz": 240
    },
    "id": "wjKYGxzYi8A9",
    "outputId": "185d3c02-7723-4c5d-a58a-69a2eff4462f"
   },
   "outputs": [
    {
     "name": "stdout",
     "output_type": "stream",
     "text": [
      "The autoreload extension is already loaded. To reload it, use:\n",
      "  %reload_ext autoreload\n"
     ]
    }
   ],
   "source": [
    "# Imports\n",
    "%load_ext autoreload\n",
    "%autoreload 2\n",
    "from importlib import reload as reload_lib\n",
    "from typing import *\n",
    "import os\n",
    "import re\n",
    "from pprint import pprint\n",
    "# Numpy\n",
    "import numpy as np\n",
    "\n",
    "# Import preprocessing lib\n",
    "from nlp_libs.books import *"
   ]
  },
  {
   "cell_type": "markdown",
   "metadata": {},
   "source": [
    "## Load the YML file"
   ]
  },
  {
   "cell_type": "code",
   "execution_count": 4,
   "metadata": {},
   "outputs": [],
   "source": [
    "from nlp_libs import Configuration"
   ]
  },
  {
   "cell_type": "code",
   "execution_count": 5,
   "metadata": {
    "colab": {
     "base_uri": "https://localhost:8080/"
    },
    "executionInfo": {
     "elapsed": 58,
     "status": "ok",
     "timestamp": 1632717858017,
     "user": {
      "displayName": "Kostas Georgiou",
      "photoUrl": "https://lh3.googleusercontent.com/a-/AOh14GhzP5qrxeKXeuneTscU-PqTEiyBLJpOwQ-olOc2x5s=s64",
      "userId": "10199933473437407446"
     },
     "user_tz": 240
    },
    "id": "XYH2o7w3i8A-",
    "outputId": "48016d05-91df-462d-9f73-87d98d66a375"
   },
   "outputs": [
    {
     "name": "stderr",
     "output_type": "stream",
     "text": [
      "2021-10-31 22:44:28 Config       INFO     \u001b[1m\u001b[37mConfiguration file loaded successfully from path: /Users/gkos/Insync/delfinas7kostas@gmail.com/Google Drive/Projects/UTK/NLP-Project2/Code/confs/proj_2.yml\u001b[0m\n",
      "2021-10-31 22:44:28 Config       INFO     \u001b[1m\u001b[37mConfiguration Tag: proj2\u001b[0m\n"
     ]
    }
   ],
   "source": [
    "# The path of configuration and log save path\n",
    "config_path = \"confs/proj_2.yml\"\n",
    "# !cat \"$config_path\"\n",
    "# Load the configuration\n",
    "conf = Configuration(config_src=config_path)\n",
    "# Get the books dict\n",
    "books_conf = conf.get_config('data_loader')['config']['books']\n",
    "# print(books.keys())\n",
    "# pprint(books)  # Pretty print the books dict"
   ]
  },
  {
   "cell_type": "markdown",
   "metadata": {},
   "source": [
    "## Setup Logger and Example"
   ]
  },
  {
   "cell_type": "code",
   "execution_count": 6,
   "metadata": {},
   "outputs": [
    {
     "name": "stderr",
     "output_type": "stream",
     "text": [
      "2021-10-31 22:44:28 FancyLogger  INFO     \u001b[1m\u001b[37mLogger is set. Log file path: /Users/gkos/Insync/delfinas7kostas@gmail.com/Google Drive/Projects/UTK/NLP-Project2/Code/logs/proj_2.log\u001b[0m\n",
      "2021-10-31 22:44:28 Notebook     INFO     \u001b[1m\u001b[36mLogger Examples:\u001b[0m\n",
      "\n",
      "2021-10-31 22:44:28 Notebook     WARNING  \u001b[4m\u001b[36mLogger Warning underlined\u001b[0m\n",
      "2021-10-31 22:44:28 Notebook     ERROR    \u001b[1m\u001b[41m\u001b[33mLogger Error in red&yellow\u001b[0m\n"
     ]
    }
   ],
   "source": [
    "log_path = \"logs/proj_2.log\"\n",
    "# Load and setup logger\n",
    "logger = ColorizedLogger(logger_name='Notebook', color='cyan')\n",
    "ColorizedLogger.setup_logger(log_path=log_path, debug=False, clear_log=True)\n",
    "# Examples\n",
    "logger.info(\"Logger Examples:\")\n",
    "logger.nl(num_lines=1) # New lines\n",
    "logger.warn(\"Logger Warning underlined\", attrs=['underline']) \n",
    "# Atrs:  bold, dark, underline, blink, reverse, concealed\n",
    "logger.error(\"Logger Error in red&yellow\", color=\"yellow\", on_color=\"on_red\")\n",
    "# Colors: on_grey, on_red, on_green, on_yellow, on_blue, on_magenta, on_cyan, on_white"
   ]
  },
  {
   "cell_type": "markdown",
   "metadata": {},
   "source": [
    "# ------------------------------------------------------------------"
   ]
  },
  {
   "cell_type": "markdown",
   "metadata": {
    "id": "ZyM4avEli8A_"
   },
   "source": [
    "# Start of Project Code"
   ]
  },
  {
   "cell_type": "code",
   "execution_count": 7,
   "metadata": {},
   "outputs": [],
   "source": [
    "from nlp_libs import books as books_lib"
   ]
  },
  {
   "cell_type": "markdown",
   "metadata": {},
   "source": [
    "## Preprocessing"
   ]
  },
  {
   "cell_type": "markdown",
   "metadata": {},
   "source": [
    "# The Circular Staircase"
   ]
  },
  {
   "cell_type": "code",
   "execution_count": 8,
   "metadata": {},
   "outputs": [],
   "source": [
    "# Load conf\n",
    "book_meta = books_conf['The_Circular_Staircase']\n",
    "book = ProcessedBook(book_meta)"
   ]
  },
  {
   "cell_type": "code",
   "execution_count": 9,
   "metadata": {},
   "outputs": [],
   "source": [
    "# Lemmatize sentences\n",
    "protagonist_subs = list(book_meta['protagonists'][0].values())[0]\n",
    "substitution = (protagonist_subs, 'protagonist')\n",
    "sentences_substituted = book.lemmatize_by_sentence(word_subs=substitution)\n",
    "sentences = book.lemmatize_by_sentence()"
   ]
  },
  {
   "cell_type": "code",
   "execution_count": 10,
   "metadata": {},
   "outputs": [
    {
     "name": "stdout",
     "output_type": "stream",
     "text": [
      "\n",
      "protagonists_antagonists: \n",
      "[('jamieson', 'watson'), ('detective', 'watson'), ('winters', 'watson')]\n",
      "\n",
      "antagonists_crime_weapon: \n",
      "[('watson', 'revolver')]\n",
      "\n",
      "antagonists_crime_objects: \n",
      "[('watson', 'staircase'), ('watson', 'floor'), ('watson', 'waistcoat')]\n"
     ]
    }
   ],
   "source": [
    "# Generate word combinations\n",
    "protagonists_antagonists = books_lib.word_embeddings\\\n",
    "                          .get_combinations(conf=book_meta, \n",
    "                                            keys_1=['protagonists'], \n",
    "                                            get_all_sub_values_1=True,\n",
    "                                            keys_2=['antagonists'],\n",
    "                                            get_all_sub_values_2=True,\n",
    "                                            ignore_words_with_spaces=True)\n",
    "antagonists_crime_weapon = books_lib.word_embeddings\\\n",
    "                          .get_combinations(conf=book_meta, \n",
    "                                            keys_1=['antagonists'],\n",
    "                                            get_all_sub_values_1=True,\n",
    "                                            keys_2=['crime', 'crime_weapon'],\n",
    "                                            get_all_sub_values_2=False,\n",
    "                                            ignore_words_with_spaces=True)\n",
    "antagonists_crime_objects = books_lib.word_embeddings\\\n",
    "                           .get_combinations(conf=book_meta,\n",
    "                                             keys_1=['antagonists'],\n",
    "                                             get_all_sub_values_1=True,\n",
    "                                             keys_2=['crime', 'crime_objects'],\n",
    "                                             get_all_sub_values_2=False,\n",
    "                                             ignore_words_with_spaces=True)\n",
    "\n",
    "print(\"\\nprotagonists_antagonists: \")\n",
    "pprint(protagonists_antagonists)\n",
    "print(\"\\nantagonists_crime_weapon: \")\n",
    "pprint(antagonists_crime_weapon)\n",
    "print(\"\\nantagonists_crime_objects: \")\n",
    "pprint(antagonists_crime_objects)"
   ]
  },
  {
   "cell_type": "code",
   "execution_count": 11,
   "metadata": {},
   "outputs": [],
   "source": [
    "# Calculate distances with custom word embeddings\n",
    "protag_antag_dists = books_lib\\\n",
    "                     .word_embeddings\\\n",
    "                     .calculate_differing_distances(sentences=sentences, \n",
    "                                                    word_pairs=protagonists_antagonists)\n",
    "antag_crime_weap_dists = books_lib\\\n",
    "                         .word_embeddings\\\n",
    "                         .calculate_differing_distances(sentences=sentences, \n",
    "                                                        word_pairs=antagonists_crime_weapon)\n",
    "antag_crime_obj_dists = books_lib\\\n",
    "                        .word_embeddings\\\n",
    "                        .calculate_differing_distances(sentences=sentences, \n",
    "                                                       word_pairs=antagonists_crime_objects)"
   ]
  },
  {
   "cell_type": "code",
   "execution_count": 34,
   "metadata": {},
   "outputs": [],
   "source": [
    "# Save the results\n",
    "protag_antag_dists.to_pickle(f\"data{os.sep}The_Circular_Staircase__protag_antag_dists.pkl\")\n",
    "antag_crime_weap_dists.to_pickle(f\"data{os.sep}The_Circular_Staircase__antag_crime_weap_dists.pkl\")\n",
    "antag_crime_obj_dists.to_pickle(f\"data{os.sep}The_Circular_Staircase__antag_crime_obj_dists.pkl\")\n",
    "# To load them\n",
    "protag_antag_dists = pd.read_pickle(f\"data{os.sep}The_Circular_Staircase__protag_antag_dists.pkl\")\n",
    "antag_crime_weap_dists = pd.read_pickle(f\"data{os.sep}The_Circular_Staircase__antag_crime_weap_dists.pkl\")\n",
    "antag_crime_obj_dists = pd.read_pickle(f\"data{os.sep}The_Circular_Staircase__antag_crime_obj_dists.pkl\")"
   ]
  },
  {
   "cell_type": "code",
   "execution_count": 35,
   "metadata": {},
   "outputs": [
    {
     "data": {
      "text/html": [
       "<div>\n",
       "<style scoped>\n",
       "    .dataframe tbody tr th:only-of-type {\n",
       "        vertical-align: middle;\n",
       "    }\n",
       "\n",
       "    .dataframe tbody tr th {\n",
       "        vertical-align: top;\n",
       "    }\n",
       "\n",
       "    .dataframe thead th {\n",
       "        text-align: right;\n",
       "    }\n",
       "</style>\n",
       "<table border=\"1\" class=\"dataframe\">\n",
       "  <thead>\n",
       "    <tr style=\"text-align: right;\">\n",
       "      <th></th>\n",
       "      <th>word1</th>\n",
       "      <th>word2</th>\n",
       "      <th>vectorSize</th>\n",
       "      <th>windowSize</th>\n",
       "      <th>cosineSim</th>\n",
       "      <th>dotSim</th>\n",
       "    </tr>\n",
       "  </thead>\n",
       "  <tbody>\n",
       "    <tr>\n",
       "      <th>3</th>\n",
       "      <td>jamieson</td>\n",
       "      <td>watson</td>\n",
       "      <td>None</td>\n",
       "      <td>None</td>\n",
       "      <td>0.177056</td>\n",
       "      <td>5.408132</td>\n",
       "    </tr>\n",
       "    <tr>\n",
       "      <th>2</th>\n",
       "      <td>jamieson</td>\n",
       "      <td>watson</td>\n",
       "      <td>None</td>\n",
       "      <td>None</td>\n",
       "      <td>0.246759</td>\n",
       "      <td>6.121186</td>\n",
       "    </tr>\n",
       "    <tr>\n",
       "      <th>1</th>\n",
       "      <td>jamieson</td>\n",
       "      <td>watson</td>\n",
       "      <td>None</td>\n",
       "      <td>None</td>\n",
       "      <td>0.378605</td>\n",
       "      <td>6.556598</td>\n",
       "    </tr>\n",
       "    <tr>\n",
       "      <th>0</th>\n",
       "      <td>jamieson</td>\n",
       "      <td>watson</td>\n",
       "      <td>None</td>\n",
       "      <td>None</td>\n",
       "      <td>0.434102</td>\n",
       "      <td>5.792758</td>\n",
       "    </tr>\n",
       "  </tbody>\n",
       "</table>\n",
       "</div>"
      ],
      "text/plain": [
       "      word1   word2 vectorSize windowSize  cosineSim    dotSim\n",
       "3  jamieson  watson       None       None   0.177056  5.408132\n",
       "2  jamieson  watson       None       None   0.246759  6.121186\n",
       "1  jamieson  watson       None       None   0.378605  6.556598\n",
       "0  jamieson  watson       None       None   0.434102  5.792758"
      ]
     },
     "metadata": {},
     "output_type": "display_data"
    },
    {
     "data": {
      "text/html": [
       "<div>\n",
       "<style scoped>\n",
       "    .dataframe tbody tr th:only-of-type {\n",
       "        vertical-align: middle;\n",
       "    }\n",
       "\n",
       "    .dataframe tbody tr th {\n",
       "        vertical-align: top;\n",
       "    }\n",
       "\n",
       "    .dataframe thead th {\n",
       "        text-align: right;\n",
       "    }\n",
       "</style>\n",
       "<table border=\"1\" class=\"dataframe\">\n",
       "  <thead>\n",
       "    <tr style=\"text-align: right;\">\n",
       "      <th></th>\n",
       "      <th>word1</th>\n",
       "      <th>word2</th>\n",
       "      <th>vectorSize</th>\n",
       "      <th>windowSize</th>\n",
       "      <th>cosineSim</th>\n",
       "      <th>dotSim</th>\n",
       "    </tr>\n",
       "  </thead>\n",
       "  <tbody>\n",
       "    <tr>\n",
       "      <th>3</th>\n",
       "      <td>watson</td>\n",
       "      <td>revolver</td>\n",
       "      <td>None</td>\n",
       "      <td>None</td>\n",
       "      <td>0.076764</td>\n",
       "      <td>2.823694</td>\n",
       "    </tr>\n",
       "    <tr>\n",
       "      <th>2</th>\n",
       "      <td>watson</td>\n",
       "      <td>revolver</td>\n",
       "      <td>None</td>\n",
       "      <td>None</td>\n",
       "      <td>0.080159</td>\n",
       "      <td>2.572687</td>\n",
       "    </tr>\n",
       "    <tr>\n",
       "      <th>1</th>\n",
       "      <td>watson</td>\n",
       "      <td>revolver</td>\n",
       "      <td>None</td>\n",
       "      <td>None</td>\n",
       "      <td>0.092983</td>\n",
       "      <td>2.159217</td>\n",
       "    </tr>\n",
       "    <tr>\n",
       "      <th>0</th>\n",
       "      <td>watson</td>\n",
       "      <td>revolver</td>\n",
       "      <td>None</td>\n",
       "      <td>None</td>\n",
       "      <td>0.189547</td>\n",
       "      <td>3.656829</td>\n",
       "    </tr>\n",
       "  </tbody>\n",
       "</table>\n",
       "</div>"
      ],
      "text/plain": [
       "    word1     word2 vectorSize windowSize  cosineSim    dotSim\n",
       "3  watson  revolver       None       None   0.076764  2.823694\n",
       "2  watson  revolver       None       None   0.080159  2.572687\n",
       "1  watson  revolver       None       None   0.092983  2.159217\n",
       "0  watson  revolver       None       None   0.189547  3.656829"
      ]
     },
     "metadata": {},
     "output_type": "display_data"
    },
    {
     "data": {
      "text/html": [
       "<div>\n",
       "<style scoped>\n",
       "    .dataframe tbody tr th:only-of-type {\n",
       "        vertical-align: middle;\n",
       "    }\n",
       "\n",
       "    .dataframe tbody tr th {\n",
       "        vertical-align: top;\n",
       "    }\n",
       "\n",
       "    .dataframe thead th {\n",
       "        text-align: right;\n",
       "    }\n",
       "</style>\n",
       "<table border=\"1\" class=\"dataframe\">\n",
       "  <thead>\n",
       "    <tr style=\"text-align: right;\">\n",
       "      <th></th>\n",
       "      <th>word1</th>\n",
       "      <th>word2</th>\n",
       "      <th>vectorSize</th>\n",
       "      <th>windowSize</th>\n",
       "      <th>cosineSim</th>\n",
       "      <th>dotSim</th>\n",
       "    </tr>\n",
       "  </thead>\n",
       "  <tbody>\n",
       "    <tr>\n",
       "      <th>3</th>\n",
       "      <td>watson</td>\n",
       "      <td>staircase</td>\n",
       "      <td>None</td>\n",
       "      <td>None</td>\n",
       "      <td>-0.061957</td>\n",
       "      <td>-2.265938</td>\n",
       "    </tr>\n",
       "    <tr>\n",
       "      <th>2</th>\n",
       "      <td>watson</td>\n",
       "      <td>staircase</td>\n",
       "      <td>None</td>\n",
       "      <td>None</td>\n",
       "      <td>-0.007154</td>\n",
       "      <td>-0.225405</td>\n",
       "    </tr>\n",
       "    <tr>\n",
       "      <th>1</th>\n",
       "      <td>watson</td>\n",
       "      <td>staircase</td>\n",
       "      <td>None</td>\n",
       "      <td>None</td>\n",
       "      <td>0.004739</td>\n",
       "      <td>0.112529</td>\n",
       "    </tr>\n",
       "    <tr>\n",
       "      <th>0</th>\n",
       "      <td>watson</td>\n",
       "      <td>staircase</td>\n",
       "      <td>None</td>\n",
       "      <td>None</td>\n",
       "      <td>0.040019</td>\n",
       "      <td>0.829024</td>\n",
       "    </tr>\n",
       "  </tbody>\n",
       "</table>\n",
       "</div>"
      ],
      "text/plain": [
       "    word1      word2 vectorSize windowSize  cosineSim    dotSim\n",
       "3  watson  staircase       None       None  -0.061957 -2.265938\n",
       "2  watson  staircase       None       None  -0.007154 -0.225405\n",
       "1  watson  staircase       None       None   0.004739  0.112529\n",
       "0  watson  staircase       None       None   0.040019  0.829024"
      ]
     },
     "metadata": {},
     "output_type": "display_data"
    }
   ],
   "source": [
    "display(protag_antag_dists.sort_values(['cosineSim', 'dotSim']).head())\n",
    "display(antag_crime_weap_dists.sort_values(['cosineSim', 'dotSim']).head())\n",
    "display(antag_crime_obj_dists.sort_values(['cosineSim', 'dotSim']).head())"
   ]
  },
  {
   "cell_type": "code",
   "execution_count": 36,
   "metadata": {},
   "outputs": [
    {
     "name": "stdout",
     "output_type": "stream",
     "text": [
      "['glove-wiki-gigaword-50', 'glove-wiki-gigaword-100', 'glove-wiki-gigaword-200', 'glove-wiki-gigaword-300']\n"
     ]
    },
    {
     "ename": "KeyboardInterrupt",
     "evalue": "",
     "output_type": "error",
     "traceback": [
      "\u001b[0;31m---------------------------------------------------------------------------\u001b[0m",
      "\u001b[0;31mKeyboardInterrupt\u001b[0m                         Traceback (most recent call last)",
      "\u001b[0;32m/var/folders/t2/m3k1zxzn3ml89m89sc02b7_80000gn/T/ipykernel_93781/2248301998.py\u001b[0m in \u001b[0;36m<module>\u001b[0;34m\u001b[0m\n\u001b[1;32m      4\u001b[0m \u001b[0mprint\u001b[0m\u001b[0;34m(\u001b[0m\u001b[0mmodel_names\u001b[0m\u001b[0;34m)\u001b[0m\u001b[0;34m\u001b[0m\u001b[0;34m\u001b[0m\u001b[0m\n\u001b[1;32m      5\u001b[0m \u001b[0;34m\u001b[0m\u001b[0m\n\u001b[0;32m----> 6\u001b[0;31m \u001b[0mprotag_antag_dists_pre\u001b[0m \u001b[0;34m=\u001b[0m \u001b[0mbooks_lib\u001b[0m\u001b[0;31m\\\u001b[0m\u001b[0;34m\u001b[0m\u001b[0;34m\u001b[0m\u001b[0m\n\u001b[0m\u001b[1;32m      7\u001b[0m                      \u001b[0;34m.\u001b[0m\u001b[0mword_embeddings\u001b[0m\u001b[0;31m\\\u001b[0m\u001b[0;34m\u001b[0m\u001b[0;34m\u001b[0m\u001b[0m\n\u001b[1;32m      8\u001b[0m                      .calculate_differing_distances(model_names=model_names, \n",
      "\u001b[0;32m~/Insync/delfinas7kostas@gmail.com/Google Drive/Projects/UTK/NLP-Project2/Code/nlp_libs/books/word_embeddings.py\u001b[0m in \u001b[0;36mcalculate_differing_distances\u001b[0;34m(word_pairs, sentences, model_names)\u001b[0m\n\u001b[1;32m     18\u001b[0m             columns=['word1', 'word2', 'model', 'cosineSim', 'dotSim'])\n\u001b[1;32m     19\u001b[0m         \u001b[0;32mfor\u001b[0m \u001b[0mmodel_name\u001b[0m \u001b[0;32min\u001b[0m \u001b[0mmodel_names\u001b[0m\u001b[0;34m:\u001b[0m\u001b[0;34m\u001b[0m\u001b[0;34m\u001b[0m\u001b[0m\n\u001b[0;32m---> 20\u001b[0;31m             \u001b[0mwv\u001b[0m \u001b[0;34m=\u001b[0m \u001b[0mget_model_wv\u001b[0m\u001b[0;34m(\u001b[0m\u001b[0mmodel_name\u001b[0m\u001b[0;34m)\u001b[0m\u001b[0;34m\u001b[0m\u001b[0;34m\u001b[0m\u001b[0m\n\u001b[0m\u001b[1;32m     21\u001b[0m             df = get_word_pair_distances(df=df, wv=wv, word_pairs=word_pairs,\n\u001b[1;32m     22\u001b[0m                                          model_name=model_name, skipped_words=skipped_words)\n",
      "\u001b[0;32m~/Insync/delfinas7kostas@gmail.com/Google Drive/Projects/UTK/NLP-Project2/Code/nlp_libs/books/word_embeddings.py\u001b[0m in \u001b[0;36mget_model_wv\u001b[0;34m(name)\u001b[0m\n\u001b[1;32m     81\u001b[0m \u001b[0;34m\u001b[0m\u001b[0m\n\u001b[1;32m     82\u001b[0m \u001b[0;32mdef\u001b[0m \u001b[0mget_model_wv\u001b[0m\u001b[0;34m(\u001b[0m\u001b[0mname\u001b[0m\u001b[0;34m:\u001b[0m \u001b[0mstr\u001b[0m\u001b[0;34m)\u001b[0m \u001b[0;34m->\u001b[0m \u001b[0mgensim\u001b[0m\u001b[0;34m.\u001b[0m\u001b[0mmodels\u001b[0m\u001b[0;34m.\u001b[0m\u001b[0mkeyedvectors\u001b[0m\u001b[0;34m.\u001b[0m\u001b[0mKeyedVectors\u001b[0m\u001b[0;34m:\u001b[0m\u001b[0;34m\u001b[0m\u001b[0;34m\u001b[0m\u001b[0m\n\u001b[0;32m---> 83\u001b[0;31m     \u001b[0mwv\u001b[0m \u001b[0;34m=\u001b[0m \u001b[0mgensim\u001b[0m\u001b[0;34m.\u001b[0m\u001b[0mdownloader\u001b[0m\u001b[0;34m.\u001b[0m\u001b[0mload\u001b[0m\u001b[0;34m(\u001b[0m\u001b[0mname\u001b[0m\u001b[0;34m)\u001b[0m\u001b[0;34m\u001b[0m\u001b[0;34m\u001b[0m\u001b[0m\n\u001b[0m\u001b[1;32m     84\u001b[0m \u001b[0;34m\u001b[0m\u001b[0m\n\u001b[1;32m     85\u001b[0m     \u001b[0;32mreturn\u001b[0m \u001b[0mwv\u001b[0m\u001b[0;34m\u001b[0m\u001b[0;34m\u001b[0m\u001b[0m\n",
      "\u001b[0;32m~/anaconda3/envs/rinehartAnalysis_wordVectors/lib/python3.9/site-packages/gensim/downloader.py\u001b[0m in \u001b[0;36mload\u001b[0;34m(name, return_path)\u001b[0m\n\u001b[1;32m    501\u001b[0m         \u001b[0msys\u001b[0m\u001b[0;34m.\u001b[0m\u001b[0mpath\u001b[0m\u001b[0;34m.\u001b[0m\u001b[0minsert\u001b[0m\u001b[0;34m(\u001b[0m\u001b[0;36m0\u001b[0m\u001b[0;34m,\u001b[0m \u001b[0mBASE_DIR\u001b[0m\u001b[0;34m)\u001b[0m\u001b[0;34m\u001b[0m\u001b[0;34m\u001b[0m\u001b[0m\n\u001b[1;32m    502\u001b[0m         \u001b[0mmodule\u001b[0m \u001b[0;34m=\u001b[0m \u001b[0m__import__\u001b[0m\u001b[0;34m(\u001b[0m\u001b[0mname\u001b[0m\u001b[0;34m)\u001b[0m\u001b[0;34m\u001b[0m\u001b[0;34m\u001b[0m\u001b[0m\n\u001b[0;32m--> 503\u001b[0;31m         \u001b[0;32mreturn\u001b[0m \u001b[0mmodule\u001b[0m\u001b[0;34m.\u001b[0m\u001b[0mload_data\u001b[0m\u001b[0;34m(\u001b[0m\u001b[0;34m)\u001b[0m\u001b[0;34m\u001b[0m\u001b[0;34m\u001b[0m\u001b[0m\n\u001b[0m\u001b[1;32m    504\u001b[0m \u001b[0;34m\u001b[0m\u001b[0m\n\u001b[1;32m    505\u001b[0m \u001b[0;34m\u001b[0m\u001b[0m\n",
      "\u001b[0;32m~/gensim-data/glove-wiki-gigaword-50/__init__.py\u001b[0m in \u001b[0;36mload_data\u001b[0;34m()\u001b[0m\n\u001b[1;32m      6\u001b[0m \u001b[0;32mdef\u001b[0m \u001b[0mload_data\u001b[0m\u001b[0;34m(\u001b[0m\u001b[0;34m)\u001b[0m\u001b[0;34m:\u001b[0m\u001b[0;34m\u001b[0m\u001b[0;34m\u001b[0m\u001b[0m\n\u001b[1;32m      7\u001b[0m     \u001b[0mpath\u001b[0m \u001b[0;34m=\u001b[0m \u001b[0mos\u001b[0m\u001b[0;34m.\u001b[0m\u001b[0mpath\u001b[0m\u001b[0;34m.\u001b[0m\u001b[0mjoin\u001b[0m\u001b[0;34m(\u001b[0m\u001b[0mbase_dir\u001b[0m\u001b[0;34m,\u001b[0m \u001b[0;34m'glove-wiki-gigaword-50'\u001b[0m\u001b[0;34m,\u001b[0m \u001b[0;34m'glove-wiki-gigaword-50.gz'\u001b[0m\u001b[0;34m)\u001b[0m\u001b[0;34m\u001b[0m\u001b[0;34m\u001b[0m\u001b[0m\n\u001b[0;32m----> 8\u001b[0;31m     \u001b[0mmodel\u001b[0m \u001b[0;34m=\u001b[0m \u001b[0mKeyedVectors\u001b[0m\u001b[0;34m.\u001b[0m\u001b[0mload_word2vec_format\u001b[0m\u001b[0;34m(\u001b[0m\u001b[0mpath\u001b[0m\u001b[0;34m)\u001b[0m\u001b[0;34m\u001b[0m\u001b[0;34m\u001b[0m\u001b[0m\n\u001b[0m\u001b[1;32m      9\u001b[0m     \u001b[0;32mreturn\u001b[0m \u001b[0mmodel\u001b[0m\u001b[0;34m\u001b[0m\u001b[0;34m\u001b[0m\u001b[0m\n",
      "\u001b[0;32m~/anaconda3/envs/rinehartAnalysis_wordVectors/lib/python3.9/site-packages/gensim/models/keyedvectors.py\u001b[0m in \u001b[0;36mload_word2vec_format\u001b[0;34m(cls, fname, fvocab, binary, encoding, unicode_errors, limit, datatype, no_header)\u001b[0m\n\u001b[1;32m   1628\u001b[0m \u001b[0;34m\u001b[0m\u001b[0m\n\u001b[1;32m   1629\u001b[0m         \"\"\"\n\u001b[0;32m-> 1630\u001b[0;31m         return _load_word2vec_format(\n\u001b[0m\u001b[1;32m   1631\u001b[0m             \u001b[0mcls\u001b[0m\u001b[0;34m,\u001b[0m \u001b[0mfname\u001b[0m\u001b[0;34m,\u001b[0m \u001b[0mfvocab\u001b[0m\u001b[0;34m=\u001b[0m\u001b[0mfvocab\u001b[0m\u001b[0;34m,\u001b[0m \u001b[0mbinary\u001b[0m\u001b[0;34m=\u001b[0m\u001b[0mbinary\u001b[0m\u001b[0;34m,\u001b[0m \u001b[0mencoding\u001b[0m\u001b[0;34m=\u001b[0m\u001b[0mencoding\u001b[0m\u001b[0;34m,\u001b[0m \u001b[0municode_errors\u001b[0m\u001b[0;34m=\u001b[0m\u001b[0municode_errors\u001b[0m\u001b[0;34m,\u001b[0m\u001b[0;34m\u001b[0m\u001b[0;34m\u001b[0m\u001b[0m\n\u001b[1;32m   1632\u001b[0m             \u001b[0mlimit\u001b[0m\u001b[0;34m=\u001b[0m\u001b[0mlimit\u001b[0m\u001b[0;34m,\u001b[0m \u001b[0mdatatype\u001b[0m\u001b[0;34m=\u001b[0m\u001b[0mdatatype\u001b[0m\u001b[0;34m,\u001b[0m \u001b[0mno_header\u001b[0m\u001b[0;34m=\u001b[0m\u001b[0mno_header\u001b[0m\u001b[0;34m,\u001b[0m\u001b[0;34m\u001b[0m\u001b[0;34m\u001b[0m\u001b[0m\n",
      "\u001b[0;32m~/anaconda3/envs/rinehartAnalysis_wordVectors/lib/python3.9/site-packages/gensim/models/keyedvectors.py\u001b[0m in \u001b[0;36m_load_word2vec_format\u001b[0;34m(cls, fname, fvocab, binary, encoding, unicode_errors, limit, datatype, no_header, binary_chunk_size)\u001b[0m\n\u001b[1;32m   1911\u001b[0m             )\n\u001b[1;32m   1912\u001b[0m         \u001b[0;32melse\u001b[0m\u001b[0;34m:\u001b[0m\u001b[0;34m\u001b[0m\u001b[0;34m\u001b[0m\u001b[0m\n\u001b[0;32m-> 1913\u001b[0;31m             \u001b[0m_word2vec_read_text\u001b[0m\u001b[0;34m(\u001b[0m\u001b[0mfin\u001b[0m\u001b[0;34m,\u001b[0m \u001b[0mkv\u001b[0m\u001b[0;34m,\u001b[0m \u001b[0mcounts\u001b[0m\u001b[0;34m,\u001b[0m \u001b[0mvocab_size\u001b[0m\u001b[0;34m,\u001b[0m \u001b[0mvector_size\u001b[0m\u001b[0;34m,\u001b[0m \u001b[0mdatatype\u001b[0m\u001b[0;34m,\u001b[0m \u001b[0municode_errors\u001b[0m\u001b[0;34m,\u001b[0m \u001b[0mencoding\u001b[0m\u001b[0;34m)\u001b[0m\u001b[0;34m\u001b[0m\u001b[0;34m\u001b[0m\u001b[0m\n\u001b[0m\u001b[1;32m   1914\u001b[0m     \u001b[0;32mif\u001b[0m \u001b[0mkv\u001b[0m\u001b[0;34m.\u001b[0m\u001b[0mvectors\u001b[0m\u001b[0;34m.\u001b[0m\u001b[0mshape\u001b[0m\u001b[0;34m[\u001b[0m\u001b[0;36m0\u001b[0m\u001b[0;34m]\u001b[0m \u001b[0;34m!=\u001b[0m \u001b[0mlen\u001b[0m\u001b[0;34m(\u001b[0m\u001b[0mkv\u001b[0m\u001b[0;34m)\u001b[0m\u001b[0;34m:\u001b[0m\u001b[0;34m\u001b[0m\u001b[0;34m\u001b[0m\u001b[0m\n\u001b[1;32m   1915\u001b[0m         logger.info(\n",
      "\u001b[0;32m~/anaconda3/envs/rinehartAnalysis_wordVectors/lib/python3.9/site-packages/gensim/models/keyedvectors.py\u001b[0m in \u001b[0;36m_word2vec_read_text\u001b[0;34m(fin, kv, counts, vocab_size, vector_size, datatype, unicode_errors, encoding)\u001b[0m\n\u001b[1;32m   1813\u001b[0m \u001b[0;32mdef\u001b[0m \u001b[0m_word2vec_read_text\u001b[0m\u001b[0;34m(\u001b[0m\u001b[0mfin\u001b[0m\u001b[0;34m,\u001b[0m \u001b[0mkv\u001b[0m\u001b[0;34m,\u001b[0m \u001b[0mcounts\u001b[0m\u001b[0;34m,\u001b[0m \u001b[0mvocab_size\u001b[0m\u001b[0;34m,\u001b[0m \u001b[0mvector_size\u001b[0m\u001b[0;34m,\u001b[0m \u001b[0mdatatype\u001b[0m\u001b[0;34m,\u001b[0m \u001b[0municode_errors\u001b[0m\u001b[0;34m,\u001b[0m \u001b[0mencoding\u001b[0m\u001b[0;34m)\u001b[0m\u001b[0;34m:\u001b[0m\u001b[0;34m\u001b[0m\u001b[0;34m\u001b[0m\u001b[0m\n\u001b[1;32m   1814\u001b[0m     \u001b[0;32mfor\u001b[0m \u001b[0mline_no\u001b[0m \u001b[0;32min\u001b[0m \u001b[0mrange\u001b[0m\u001b[0;34m(\u001b[0m\u001b[0mvocab_size\u001b[0m\u001b[0;34m)\u001b[0m\u001b[0;34m:\u001b[0m\u001b[0;34m\u001b[0m\u001b[0;34m\u001b[0m\u001b[0m\n\u001b[0;32m-> 1815\u001b[0;31m         \u001b[0mline\u001b[0m \u001b[0;34m=\u001b[0m \u001b[0mfin\u001b[0m\u001b[0;34m.\u001b[0m\u001b[0mreadline\u001b[0m\u001b[0;34m(\u001b[0m\u001b[0;34m)\u001b[0m\u001b[0;34m\u001b[0m\u001b[0;34m\u001b[0m\u001b[0m\n\u001b[0m\u001b[1;32m   1816\u001b[0m         \u001b[0;32mif\u001b[0m \u001b[0mline\u001b[0m \u001b[0;34m==\u001b[0m \u001b[0;34mb''\u001b[0m\u001b[0;34m:\u001b[0m\u001b[0;34m\u001b[0m\u001b[0;34m\u001b[0m\u001b[0m\n\u001b[1;32m   1817\u001b[0m             \u001b[0;32mraise\u001b[0m \u001b[0mEOFError\u001b[0m\u001b[0;34m(\u001b[0m\u001b[0;34m\"unexpected end of input; is count incorrect or file otherwise damaged?\"\u001b[0m\u001b[0;34m)\u001b[0m\u001b[0;34m\u001b[0m\u001b[0;34m\u001b[0m\u001b[0m\n",
      "\u001b[0;32m~/anaconda3/envs/rinehartAnalysis_wordVectors/lib/python3.9/gzip.py\u001b[0m in \u001b[0;36mreadline\u001b[0;34m(self, size)\u001b[0m\n\u001b[1;32m    396\u001b[0m     \u001b[0;32mdef\u001b[0m \u001b[0mreadline\u001b[0m\u001b[0;34m(\u001b[0m\u001b[0mself\u001b[0m\u001b[0;34m,\u001b[0m \u001b[0msize\u001b[0m\u001b[0;34m=\u001b[0m\u001b[0;34m-\u001b[0m\u001b[0;36m1\u001b[0m\u001b[0;34m)\u001b[0m\u001b[0;34m:\u001b[0m\u001b[0;34m\u001b[0m\u001b[0;34m\u001b[0m\u001b[0m\n\u001b[1;32m    397\u001b[0m         \u001b[0mself\u001b[0m\u001b[0;34m.\u001b[0m\u001b[0m_check_not_closed\u001b[0m\u001b[0;34m(\u001b[0m\u001b[0;34m)\u001b[0m\u001b[0;34m\u001b[0m\u001b[0;34m\u001b[0m\u001b[0m\n\u001b[0;32m--> 398\u001b[0;31m         \u001b[0;32mreturn\u001b[0m \u001b[0mself\u001b[0m\u001b[0;34m.\u001b[0m\u001b[0m_buffer\u001b[0m\u001b[0;34m.\u001b[0m\u001b[0mreadline\u001b[0m\u001b[0;34m(\u001b[0m\u001b[0msize\u001b[0m\u001b[0;34m)\u001b[0m\u001b[0;34m\u001b[0m\u001b[0;34m\u001b[0m\u001b[0m\n\u001b[0m\u001b[1;32m    399\u001b[0m \u001b[0;34m\u001b[0m\u001b[0m\n\u001b[1;32m    400\u001b[0m \u001b[0;34m\u001b[0m\u001b[0m\n",
      "\u001b[0;32m~/anaconda3/envs/rinehartAnalysis_wordVectors/lib/python3.9/_compression.py\u001b[0m in \u001b[0;36mreadinto\u001b[0;34m(self, b)\u001b[0m\n\u001b[1;32m     66\u001b[0m     \u001b[0;32mdef\u001b[0m \u001b[0mreadinto\u001b[0m\u001b[0;34m(\u001b[0m\u001b[0mself\u001b[0m\u001b[0;34m,\u001b[0m \u001b[0mb\u001b[0m\u001b[0;34m)\u001b[0m\u001b[0;34m:\u001b[0m\u001b[0;34m\u001b[0m\u001b[0;34m\u001b[0m\u001b[0m\n\u001b[1;32m     67\u001b[0m         \u001b[0;32mwith\u001b[0m \u001b[0mmemoryview\u001b[0m\u001b[0;34m(\u001b[0m\u001b[0mb\u001b[0m\u001b[0;34m)\u001b[0m \u001b[0;32mas\u001b[0m \u001b[0mview\u001b[0m\u001b[0;34m,\u001b[0m \u001b[0mview\u001b[0m\u001b[0;34m.\u001b[0m\u001b[0mcast\u001b[0m\u001b[0;34m(\u001b[0m\u001b[0;34m\"B\"\u001b[0m\u001b[0;34m)\u001b[0m \u001b[0;32mas\u001b[0m \u001b[0mbyte_view\u001b[0m\u001b[0;34m:\u001b[0m\u001b[0;34m\u001b[0m\u001b[0;34m\u001b[0m\u001b[0m\n\u001b[0;32m---> 68\u001b[0;31m             \u001b[0mdata\u001b[0m \u001b[0;34m=\u001b[0m \u001b[0mself\u001b[0m\u001b[0;34m.\u001b[0m\u001b[0mread\u001b[0m\u001b[0;34m(\u001b[0m\u001b[0mlen\u001b[0m\u001b[0;34m(\u001b[0m\u001b[0mbyte_view\u001b[0m\u001b[0;34m)\u001b[0m\u001b[0;34m)\u001b[0m\u001b[0;34m\u001b[0m\u001b[0;34m\u001b[0m\u001b[0m\n\u001b[0m\u001b[1;32m     69\u001b[0m             \u001b[0mbyte_view\u001b[0m\u001b[0;34m[\u001b[0m\u001b[0;34m:\u001b[0m\u001b[0mlen\u001b[0m\u001b[0;34m(\u001b[0m\u001b[0mdata\u001b[0m\u001b[0;34m)\u001b[0m\u001b[0;34m]\u001b[0m \u001b[0;34m=\u001b[0m \u001b[0mdata\u001b[0m\u001b[0;34m\u001b[0m\u001b[0;34m\u001b[0m\u001b[0m\n\u001b[1;32m     70\u001b[0m         \u001b[0;32mreturn\u001b[0m \u001b[0mlen\u001b[0m\u001b[0;34m(\u001b[0m\u001b[0mdata\u001b[0m\u001b[0;34m)\u001b[0m\u001b[0;34m\u001b[0m\u001b[0;34m\u001b[0m\u001b[0m\n",
      "\u001b[0;32m~/anaconda3/envs/rinehartAnalysis_wordVectors/lib/python3.9/gzip.py\u001b[0m in \u001b[0;36mread\u001b[0;34m(self, size)\u001b[0m\n\u001b[1;32m    493\u001b[0m             \u001b[0mbuf\u001b[0m \u001b[0;34m=\u001b[0m \u001b[0mself\u001b[0m\u001b[0;34m.\u001b[0m\u001b[0m_fp\u001b[0m\u001b[0;34m.\u001b[0m\u001b[0mread\u001b[0m\u001b[0;34m(\u001b[0m\u001b[0mio\u001b[0m\u001b[0;34m.\u001b[0m\u001b[0mDEFAULT_BUFFER_SIZE\u001b[0m\u001b[0;34m)\u001b[0m\u001b[0;34m\u001b[0m\u001b[0;34m\u001b[0m\u001b[0m\n\u001b[1;32m    494\u001b[0m \u001b[0;34m\u001b[0m\u001b[0m\n\u001b[0;32m--> 495\u001b[0;31m             \u001b[0muncompress\u001b[0m \u001b[0;34m=\u001b[0m \u001b[0mself\u001b[0m\u001b[0;34m.\u001b[0m\u001b[0m_decompressor\u001b[0m\u001b[0;34m.\u001b[0m\u001b[0mdecompress\u001b[0m\u001b[0;34m(\u001b[0m\u001b[0mbuf\u001b[0m\u001b[0;34m,\u001b[0m \u001b[0msize\u001b[0m\u001b[0;34m)\u001b[0m\u001b[0;34m\u001b[0m\u001b[0;34m\u001b[0m\u001b[0m\n\u001b[0m\u001b[1;32m    496\u001b[0m             \u001b[0;32mif\u001b[0m \u001b[0mself\u001b[0m\u001b[0;34m.\u001b[0m\u001b[0m_decompressor\u001b[0m\u001b[0;34m.\u001b[0m\u001b[0munconsumed_tail\u001b[0m \u001b[0;34m!=\u001b[0m \u001b[0;34mb\"\"\u001b[0m\u001b[0;34m:\u001b[0m\u001b[0;34m\u001b[0m\u001b[0;34m\u001b[0m\u001b[0m\n\u001b[1;32m    497\u001b[0m                 \u001b[0mself\u001b[0m\u001b[0;34m.\u001b[0m\u001b[0m_fp\u001b[0m\u001b[0;34m.\u001b[0m\u001b[0mprepend\u001b[0m\u001b[0;34m(\u001b[0m\u001b[0mself\u001b[0m\u001b[0;34m.\u001b[0m\u001b[0m_decompressor\u001b[0m\u001b[0;34m.\u001b[0m\u001b[0munconsumed_tail\u001b[0m\u001b[0;34m)\u001b[0m\u001b[0;34m\u001b[0m\u001b[0;34m\u001b[0m\u001b[0m\n",
      "\u001b[0;31mKeyboardInterrupt\u001b[0m: "
     ]
    }
   ],
   "source": [
    "# Calculate distances for pretrained embeddings\n",
    "model_names = books_lib.word_embeddings.get_model_names()\n",
    "model_names = [mn for mn in model_names if 'glove-wiki-gigaword' in mn]\n",
    "print(model_names)\n",
    "\n",
    "protag_antag_dists_pre = books_lib\\\n",
    "                     .word_embeddings\\\n",
    "                     .calculate_differing_distances(model_names=model_names, \n",
    "                                                    word_pairs=protagonists_antagonists)\n",
    "antag_crime_weap_dists_pre = books_lib\\\n",
    "                         .word_embeddings\\\n",
    "                         .calculate_differing_distances(model_names=model_names, \n",
    "                                                        word_pairs=antagonists_crime_weapon)\n",
    "antag_crime_obj_dists_pre = books_lib\\\n",
    "                        .word_embeddings\\\n",
    "                        .calculate_differing_distances(model_names=model_names, \n",
    "                                                       word_pairs=antagonists_crime_objects)"
   ]
  },
  {
   "cell_type": "code",
   "execution_count": null,
   "metadata": {},
   "outputs": [],
   "source": [
    "# Save the results\n",
    "protag_antag_dists_pre.to_pickle(f\"data{os.sep}The_Circular_Staircase__protag_antag_dists__PRETRAINED.pkl\")\n",
    "antag_crime_weap_dists_pre.to_pickle(f\"data{os.sep}The_Circular_Staircase__antag_crime_weap_dists__PRETRAINED.pkl\")\n",
    "antag_crime_obj_dists_pre.to_pickle(f\"data{os.sep}The_Circular_Staircase__antag_crime_obj_dists__PRETRAINED.pkl\")\n",
    "# To load them\n",
    "protag_antag_dists_pre = pd.read_pickle(f\"data{os.sep}The_Circular_Staircase__protag_antag_dists__PRETRAINED.pkl\")\n",
    "antag_crime_weap_dists_pre = pd.read_pickle(f\"data{os.sep}The_Circular_Staircase__antag_crime_weap_dists__PRETRAINED.pkl\")\n",
    "antag_crime_obj_dists_pre = pd.read_pickle(f\"data{os.sep}The_Circular_Staircase__antag_crime_obj_dists__PRETRAINED.pkl\")\n"
   ]
  },
  {
   "cell_type": "code",
   "execution_count": 21,
   "metadata": {},
   "outputs": [
    {
     "data": {
      "text/html": [
       "<div>\n",
       "<style scoped>\n",
       "    .dataframe tbody tr th:only-of-type {\n",
       "        vertical-align: middle;\n",
       "    }\n",
       "\n",
       "    .dataframe tbody tr th {\n",
       "        vertical-align: top;\n",
       "    }\n",
       "\n",
       "    .dataframe thead th {\n",
       "        text-align: right;\n",
       "    }\n",
       "</style>\n",
       "<table border=\"1\" class=\"dataframe\">\n",
       "  <thead>\n",
       "    <tr style=\"text-align: right;\">\n",
       "      <th></th>\n",
       "      <th>word1</th>\n",
       "      <th>word2</th>\n",
       "      <th>model</th>\n",
       "      <th>cosineSim</th>\n",
       "      <th>dotSim</th>\n",
       "      <th>model_name</th>\n",
       "    </tr>\n",
       "  </thead>\n",
       "  <tbody>\n",
       "    <tr>\n",
       "      <th>3</th>\n",
       "      <td>jamieson</td>\n",
       "      <td>watson</td>\n",
       "      <td>NaN</td>\n",
       "      <td>0.177056</td>\n",
       "      <td>5.408132</td>\n",
       "      <td>glove-wiki-gigaword-300</td>\n",
       "    </tr>\n",
       "    <tr>\n",
       "      <th>2</th>\n",
       "      <td>jamieson</td>\n",
       "      <td>watson</td>\n",
       "      <td>NaN</td>\n",
       "      <td>0.246759</td>\n",
       "      <td>6.121186</td>\n",
       "      <td>glove-wiki-gigaword-200</td>\n",
       "    </tr>\n",
       "    <tr>\n",
       "      <th>1</th>\n",
       "      <td>jamieson</td>\n",
       "      <td>watson</td>\n",
       "      <td>NaN</td>\n",
       "      <td>0.378605</td>\n",
       "      <td>6.556598</td>\n",
       "      <td>glove-wiki-gigaword-100</td>\n",
       "    </tr>\n",
       "    <tr>\n",
       "      <th>0</th>\n",
       "      <td>jamieson</td>\n",
       "      <td>watson</td>\n",
       "      <td>NaN</td>\n",
       "      <td>0.434102</td>\n",
       "      <td>5.792758</td>\n",
       "      <td>glove-wiki-gigaword-50</td>\n",
       "    </tr>\n",
       "  </tbody>\n",
       "</table>\n",
       "</div>"
      ],
      "text/plain": [
       "      word1   word2 model  cosineSim    dotSim               model_name\n",
       "3  jamieson  watson   NaN   0.177056  5.408132  glove-wiki-gigaword-300\n",
       "2  jamieson  watson   NaN   0.246759  6.121186  glove-wiki-gigaword-200\n",
       "1  jamieson  watson   NaN   0.378605  6.556598  glove-wiki-gigaword-100\n",
       "0  jamieson  watson   NaN   0.434102  5.792758   glove-wiki-gigaword-50"
      ]
     },
     "metadata": {},
     "output_type": "display_data"
    },
    {
     "data": {
      "text/html": [
       "<div>\n",
       "<style scoped>\n",
       "    .dataframe tbody tr th:only-of-type {\n",
       "        vertical-align: middle;\n",
       "    }\n",
       "\n",
       "    .dataframe tbody tr th {\n",
       "        vertical-align: top;\n",
       "    }\n",
       "\n",
       "    .dataframe thead th {\n",
       "        text-align: right;\n",
       "    }\n",
       "</style>\n",
       "<table border=\"1\" class=\"dataframe\">\n",
       "  <thead>\n",
       "    <tr style=\"text-align: right;\">\n",
       "      <th></th>\n",
       "      <th>word1</th>\n",
       "      <th>word2</th>\n",
       "      <th>model</th>\n",
       "      <th>cosineSim</th>\n",
       "      <th>dotSim</th>\n",
       "      <th>model_name</th>\n",
       "    </tr>\n",
       "  </thead>\n",
       "  <tbody>\n",
       "    <tr>\n",
       "      <th>3</th>\n",
       "      <td>watson</td>\n",
       "      <td>revolver</td>\n",
       "      <td>NaN</td>\n",
       "      <td>0.076764</td>\n",
       "      <td>2.823694</td>\n",
       "      <td>glove-wiki-gigaword-300</td>\n",
       "    </tr>\n",
       "    <tr>\n",
       "      <th>2</th>\n",
       "      <td>watson</td>\n",
       "      <td>revolver</td>\n",
       "      <td>NaN</td>\n",
       "      <td>0.080159</td>\n",
       "      <td>2.572687</td>\n",
       "      <td>glove-wiki-gigaword-200</td>\n",
       "    </tr>\n",
       "    <tr>\n",
       "      <th>1</th>\n",
       "      <td>watson</td>\n",
       "      <td>revolver</td>\n",
       "      <td>NaN</td>\n",
       "      <td>0.092983</td>\n",
       "      <td>2.159217</td>\n",
       "      <td>glove-wiki-gigaword-100</td>\n",
       "    </tr>\n",
       "    <tr>\n",
       "      <th>0</th>\n",
       "      <td>watson</td>\n",
       "      <td>revolver</td>\n",
       "      <td>NaN</td>\n",
       "      <td>0.189547</td>\n",
       "      <td>3.656829</td>\n",
       "      <td>glove-wiki-gigaword-50</td>\n",
       "    </tr>\n",
       "  </tbody>\n",
       "</table>\n",
       "</div>"
      ],
      "text/plain": [
       "    word1     word2 model  cosineSim    dotSim               model_name\n",
       "3  watson  revolver   NaN   0.076764  2.823694  glove-wiki-gigaword-300\n",
       "2  watson  revolver   NaN   0.080159  2.572687  glove-wiki-gigaword-200\n",
       "1  watson  revolver   NaN   0.092983  2.159217  glove-wiki-gigaword-100\n",
       "0  watson  revolver   NaN   0.189547  3.656829   glove-wiki-gigaword-50"
      ]
     },
     "metadata": {},
     "output_type": "display_data"
    },
    {
     "data": {
      "text/html": [
       "<div>\n",
       "<style scoped>\n",
       "    .dataframe tbody tr th:only-of-type {\n",
       "        vertical-align: middle;\n",
       "    }\n",
       "\n",
       "    .dataframe tbody tr th {\n",
       "        vertical-align: top;\n",
       "    }\n",
       "\n",
       "    .dataframe thead th {\n",
       "        text-align: right;\n",
       "    }\n",
       "</style>\n",
       "<table border=\"1\" class=\"dataframe\">\n",
       "  <thead>\n",
       "    <tr style=\"text-align: right;\">\n",
       "      <th></th>\n",
       "      <th>word1</th>\n",
       "      <th>word2</th>\n",
       "      <th>model</th>\n",
       "      <th>cosineSim</th>\n",
       "      <th>dotSim</th>\n",
       "      <th>model_name</th>\n",
       "    </tr>\n",
       "  </thead>\n",
       "  <tbody>\n",
       "    <tr>\n",
       "      <th>3</th>\n",
       "      <td>watson</td>\n",
       "      <td>staircase</td>\n",
       "      <td>NaN</td>\n",
       "      <td>-0.061957</td>\n",
       "      <td>-2.265938</td>\n",
       "      <td>glove-wiki-gigaword-300</td>\n",
       "    </tr>\n",
       "    <tr>\n",
       "      <th>2</th>\n",
       "      <td>watson</td>\n",
       "      <td>staircase</td>\n",
       "      <td>NaN</td>\n",
       "      <td>-0.007154</td>\n",
       "      <td>-0.225405</td>\n",
       "      <td>glove-wiki-gigaword-200</td>\n",
       "    </tr>\n",
       "    <tr>\n",
       "      <th>1</th>\n",
       "      <td>watson</td>\n",
       "      <td>staircase</td>\n",
       "      <td>NaN</td>\n",
       "      <td>0.004739</td>\n",
       "      <td>0.112529</td>\n",
       "      <td>glove-wiki-gigaword-100</td>\n",
       "    </tr>\n",
       "    <tr>\n",
       "      <th>0</th>\n",
       "      <td>watson</td>\n",
       "      <td>staircase</td>\n",
       "      <td>NaN</td>\n",
       "      <td>0.040019</td>\n",
       "      <td>0.829024</td>\n",
       "      <td>glove-wiki-gigaword-50</td>\n",
       "    </tr>\n",
       "  </tbody>\n",
       "</table>\n",
       "</div>"
      ],
      "text/plain": [
       "    word1      word2 model  cosineSim    dotSim               model_name\n",
       "3  watson  staircase   NaN  -0.061957 -2.265938  glove-wiki-gigaword-300\n",
       "2  watson  staircase   NaN  -0.007154 -0.225405  glove-wiki-gigaword-200\n",
       "1  watson  staircase   NaN   0.004739  0.112529  glove-wiki-gigaword-100\n",
       "0  watson  staircase   NaN   0.040019  0.829024   glove-wiki-gigaword-50"
      ]
     },
     "metadata": {},
     "output_type": "display_data"
    }
   ],
   "source": [
    "display(protag_antag_dists_pre.sort_values(['cosineSim', 'dotSim']).head())\n",
    "display(antag_crime_weap_dists_pre.sort_values(['cosineSim', 'dotSim']).head())\n",
    "display(antag_crime_obj_dists_pre.sort_values(['cosineSim', 'dotSim']).head())"
   ]
  },
  {
   "cell_type": "markdown",
   "metadata": {},
   "source": [
    "# The Man in the Lower Ten"
   ]
  },
  {
   "cell_type": "code",
   "execution_count": 23,
   "metadata": {},
   "outputs": [],
   "source": [
    "books = ProcessedBook(books_conf['The_Man_in_Lower_Ten'])\n",
    "lemmas = book.lemmas"
   ]
  },
  {
   "cell_type": "code",
   "execution_count": 24,
   "metadata": {},
   "outputs": [],
   "source": [
    "# Lemmatize sentences\n",
    "protagonist_subs = list(book_meta['protagonists'][0].values())[0]\n",
    "substitution = (protagonist_subs, 'protagonist')\n",
    "sentences_substituted = book.lemmatize_by_sentence(word_subs=substitution)\n",
    "sentences = book.lemmatize_by_sentence()"
   ]
  },
  {
   "cell_type": "code",
   "execution_count": 25,
   "metadata": {},
   "outputs": [
    {
     "name": "stdout",
     "output_type": "stream",
     "text": [
      "\n",
      "protagonists_antagonists: \n",
      "[('jamieson', 'watson'), ('detective', 'watson'), ('winters', 'watson')]\n",
      "\n",
      "antagonists_crime_weapon: \n",
      "[('watson', 'revolver')]\n",
      "\n",
      "antagonists_crime_objects: \n",
      "[('watson', 'staircase'), ('watson', 'floor'), ('watson', 'waistcoat')]\n"
     ]
    }
   ],
   "source": [
    "# Generate word combinations\n",
    "protagonists_antagonists = books_lib.word_embeddings\\\n",
    "                          .get_combinations(conf=book_meta, \n",
    "                                            keys_1=['protagonists'], \n",
    "                                            get_all_sub_values_1=True,\n",
    "                                            keys_2=['antagonists'],\n",
    "                                            get_all_sub_values_2=True,\n",
    "                                            ignore_words_with_spaces=True)\n",
    "antagonists_crime_weapon = books_lib.word_embeddings\\\n",
    "                          .get_combinations(conf=book_meta, \n",
    "                                            keys_1=['antagonists'],\n",
    "                                            get_all_sub_values_1=True,\n",
    "                                            keys_2=['crime', 'crime_weapon'],\n",
    "                                            get_all_sub_values_2=False,\n",
    "                                            ignore_words_with_spaces=True)\n",
    "antagonists_crime_objects = books_lib.word_embeddings\\\n",
    "                           .get_combinations(conf=book_meta,\n",
    "                                             keys_1=['antagonists'],\n",
    "                                             get_all_sub_values_1=True,\n",
    "                                             keys_2=['crime', 'crime_objects'],\n",
    "                                             get_all_sub_values_2=False,\n",
    "                                             ignore_words_with_spaces=True)\n",
    "\n",
    "print(\"\\nprotagonists_antagonists: \")\n",
    "pprint(protagonists_antagonists)\n",
    "print(\"\\nantagonists_crime_weapon: \")\n",
    "pprint(antagonists_crime_weapon)\n",
    "print(\"\\nantagonists_crime_objects: \")\n",
    "pprint(antagonists_crime_objects)"
   ]
  },
  {
   "cell_type": "code",
   "execution_count": null,
   "metadata": {},
   "outputs": [],
   "source": [
    "# Calculate distances with custom word embeddings\n",
    "protag_antag_dists = books_lib\\\n",
    "                     .word_embeddings\\\n",
    "                     .calculate_differing_distances(sentences=sentences, \n",
    "                                                    word_pairs=protagonists_antagonists)\n",
    "antag_crime_weap_dists = books_lib\\\n",
    "                         .word_embeddings\\\n",
    "                         .calculate_differing_distances(sentences=sentences, \n",
    "                                                        word_pairs=antagonists_crime_weapon)\n",
    "antag_crime_obj_dists = books_lib\\\n",
    "                        .word_embeddings\\\n",
    "                        .calculate_differing_distances(sentences=sentences, \n",
    "                                                       word_pairs=antagonists_crime_objects)"
   ]
  },
  {
   "cell_type": "code",
   "execution_count": null,
   "metadata": {},
   "outputs": [],
   "source": [
    "# Save the results\n",
    "protag_antag_dists.to_pickle(f\"data{os.sep}The_Man_in_Lower_Ten__protag_antag_dists.pkl\")\n",
    "antag_crime_weap_dists.to_pickle(f\"data{os.sep}The_Man_in_Lower_Ten__antag_crime_weap_dists.pkl\")\n",
    "antag_crime_obj_dists.to_pickle(f\"data{os.sep}The_Man_in_Lower_Ten__antag_crime_obj_dists.pkl\")\n",
    "# To load them\n",
    "protag_antag_dists = pd.read_pickle(f\"data{os.sep}The_Man_in_Lower_Ten__protag_antag_dists.pkl\")\n",
    "antag_crime_weap_dists = pd.read_pickle(f\"data{os.sep}The_Man_in_Lower_Ten__antag_crime_weap_dists.pkl\")\n",
    "antag_crime_obj_dists = pd.read_pickle(f\"data{os.sep}The_Man_in_Lower_Ten__antag_crime_obj_dists.pkl\")"
   ]
  },
  {
   "cell_type": "code",
   "execution_count": null,
   "metadata": {},
   "outputs": [],
   "source": [
    "display(protag_antag_dists.sort_values(['cosineSim', 'dotSim']).head())\n",
    "display(antag_crime_weap_dists.sort_values(['cosineSim', 'dotSim']).head())\n",
    "display(antag_crime_obj_dists.sort_values(['cosineSim', 'dotSim']).head())"
   ]
  },
  {
   "cell_type": "code",
   "execution_count": null,
   "metadata": {},
   "outputs": [],
   "source": [
    "# Calculate distances for pretrained embeddings\n",
    "model_names = books_lib.word_embeddings.get_model_names()\n",
    "model_names = [mn for mn in model_names if 'glove-wiki-gigaword' in mn]\n",
    "print(model_names)\n",
    "\n",
    "protag_antag_dists_pre = books_lib\\\n",
    "                     .word_embeddings\\\n",
    "                     .calculate_differing_distances(model_names=model_names, \n",
    "                                                    word_pairs=protagonists_antagonists)\n",
    "antag_crime_weap_dists_pre = books_lib\\\n",
    "                         .word_embeddings\\\n",
    "                         .calculate_differing_distances(model_names=model_names, \n",
    "                                                        word_pairs=antagonists_crime_weapon)\n",
    "antag_crime_obj_dists_pre = books_lib\\\n",
    "                        .word_embeddings\\\n",
    "                        .calculate_differing_distances(model_names=model_names, \n",
    "                                                       word_pairs=antagonists_crime_objects)"
   ]
  },
  {
   "cell_type": "code",
   "execution_count": null,
   "metadata": {},
   "outputs": [],
   "source": [
    "# Save the results\n",
    "protag_antag_dists.to_pickle(f\"data{os.sep}The_Man_in_Lower_Ten__protag_antag_dists__PRETRAINED.pkl\")\n",
    "antag_crime_weap_dists.to_pickle(f\"data{os.sep}The_Man_in_Lower_Ten__antag_crime_weap_dists__PRETRAINED.pkl\")\n",
    "antag_crime_obj_dists.to_pickle(f\"data{os.sep}The_Man_in_Lower_Ten__antag_crime_obj_dists__PRETRAINED.pkl\")\n",
    "# To load them\n",
    "protag_antag_dists = pd.read_pickle(f\"data{os.sep}The_Man_in_Lower_Ten__protag_antag_dists__PRETRAINED.pkl\")\n",
    "antag_crime_weap_dists = pd.read_pickle(f\"data{os.sep}The_Man_in_Lower_Ten__antag_crime_weap_dists__PRETRAINED.pkl\")\n",
    "antag_crime_obj_dists = pd.read_pickle(f\"data{os.sep}The_Man_in_Lower_Ten__antag_crime_obj_dists__PRETRAINED.pkl\")"
   ]
  },
  {
   "cell_type": "code",
   "execution_count": null,
   "metadata": {},
   "outputs": [],
   "source": [
    "display(protag_antag_dists_pre.sort_values(['cosineSim', 'dotSim']).head())\n",
    "display(antag_crime_weap_dists_pre.sort_values(['cosineSim', 'dotSim']).head())\n",
    "display(antag_crime_obj_dists_pre.sort_values(['cosineSim', 'dotSim']).head())"
   ]
  },
  {
   "cell_type": "markdown",
   "metadata": {},
   "source": [
    "# The After House"
   ]
  },
  {
   "cell_type": "code",
   "execution_count": null,
   "metadata": {},
   "outputs": [],
   "source": [
    "book = ProcessedBook(books_conf['The_After_House'])\n",
    "lemmas = book.lemmas"
   ]
  },
  {
   "cell_type": "code",
   "execution_count": 26,
   "metadata": {},
   "outputs": [],
   "source": [
    "# Lemmatize sentences\n",
    "protagonist_subs = list(book_meta['protagonists'][0].values())[0]\n",
    "substitution = (protagonist_subs, 'protagonist')\n",
    "sentences_substituted = book.lemmatize_by_sentence(word_subs=substitution)\n",
    "sentences = book.lemmatize_by_sentence()"
   ]
  },
  {
   "cell_type": "code",
   "execution_count": null,
   "metadata": {},
   "outputs": [],
   "source": [
    "# Generate word combinations\n",
    "protagonists_antagonists = books_lib.word_embeddings\\\n",
    "                          .get_combinations(conf=book_meta, \n",
    "                                            keys_1=['protagonists'], \n",
    "                                            get_all_sub_values_1=True,\n",
    "                                            keys_2=['antagonists'],\n",
    "                                            get_all_sub_values_2=True,\n",
    "                                            ignore_words_with_spaces=True)\n",
    "antagonists_crime_weapon = books_lib.word_embeddings\\\n",
    "                          .get_combinations(conf=book_meta, \n",
    "                                            keys_1=['antagonists'],\n",
    "                                            get_all_sub_values_1=True,\n",
    "                                            keys_2=['crime', 'crime_weapon'],\n",
    "                                            get_all_sub_values_2=False,\n",
    "                                            ignore_words_with_spaces=True)\n",
    "antagonists_crime_objects = books_lib.word_embeddings\\\n",
    "                           .get_combinations(conf=book_meta,\n",
    "                                             keys_1=['antagonists'],\n",
    "                                             get_all_sub_values_1=True,\n",
    "                                             keys_2=['crime', 'crime_objects'],\n",
    "                                             get_all_sub_values_2=False,\n",
    "                                             ignore_words_with_spaces=True)\n",
    "\n",
    "print(\"\\nprotagonists_antagonists: \")\n",
    "pprint(protagonists_antagonists)\n",
    "print(\"\\nantagonists_crime_weapon: \")\n",
    "pprint(antagonists_crime_weapon)\n",
    "print(\"\\nantagonists_crime_objects: \")\n",
    "pprint(antagonists_crime_objects)"
   ]
  },
  {
   "cell_type": "code",
   "execution_count": null,
   "metadata": {},
   "outputs": [],
   "source": [
    "# Calculate distances with custom word embeddings\n",
    "protag_antag_dists = books_lib\\\n",
    "                     .word_embeddings\\\n",
    "                     .calculate_differing_distances(sentences=sentences, \n",
    "                                                    word_pairs=protagonists_antagonists)\n",
    "antag_crime_weap_dists = books_lib\\\n",
    "                         .word_embeddings\\\n",
    "                         .calculate_differing_distances(sentences=sentences, \n",
    "                                                        word_pairs=antagonists_crime_weapon)\n",
    "antag_crime_obj_dists = books_lib\\\n",
    "                        .word_embeddings\\\n",
    "                        .calculate_differing_distances(sentences=sentences, \n",
    "                                                       word_pairs=antagonists_crime_objects)"
   ]
  },
  {
   "cell_type": "code",
   "execution_count": null,
   "metadata": {},
   "outputs": [],
   "source": [
    "# Save the results\n",
    "protag_antag_dists.to_pickle(f\"data{os.sep}The_After_House__protag_antag_dists.pkl\")\n",
    "antag_crime_weap_dists.to_pickle(f\"data{os.sep}The_After_House__antag_crime_weap_dists.pkl\")\n",
    "antag_crime_obj_dists.to_pickle(f\"data{os.sep}The_After_House__antag_crime_obj_dists.pkl\")\n",
    "# To load them\n",
    "protag_antag_dists = pd.read_pickle(f\"data{os.sep}The_After_House__protag_antag_dists.pkl\")\n",
    "antag_crime_weap_dists = pd.read_pickle(f\"data{os.sep}The_After_House__antag_crime_weap_dists.pkl\")\n",
    "antag_crime_obj_dists = pd.read_pickle(f\"data{os.sep}The_After_House__antag_crime_obj_dists.pkl\")"
   ]
  },
  {
   "cell_type": "code",
   "execution_count": null,
   "metadata": {},
   "outputs": [],
   "source": [
    "display(protag_antag_dists.sort_values(['cosineSim', 'dotSim']).head())\n",
    "display(antag_crime_weap_dists.sort_values(['cosineSim', 'dotSim']).head())\n",
    "display(antag_crime_obj_dists.sort_values(['cosineSim', 'dotSim']).head())"
   ]
  },
  {
   "cell_type": "code",
   "execution_count": null,
   "metadata": {},
   "outputs": [],
   "source": [
    "# Calculate distances for pretrained embeddings\n",
    "model_names = books_lib.word_embeddings.get_model_names()\n",
    "model_names = [mn for mn in model_names if 'glove-wiki-gigaword' in mn]\n",
    "print(model_names)\n",
    "\n",
    "protag_antag_dists_pre = books_lib\\\n",
    "                     .word_embeddings\\\n",
    "                     .calculate_differing_distances(model_names=model_names, \n",
    "                                                    word_pairs=protagonists_antagonists)\n",
    "antag_crime_weap_dists_pre = books_lib\\\n",
    "                         .word_embeddings\\\n",
    "                         .calculate_differing_distances(model_names=model_names, \n",
    "                                                        word_pairs=antagonists_crime_weapon)\n",
    "antag_crime_obj_dists_pre = books_lib\\\n",
    "                        .word_embeddings\\\n",
    "                        .calculate_differing_distances(model_names=model_names, \n",
    "                                                       word_pairs=antagonists_crime_objects)"
   ]
  },
  {
   "cell_type": "code",
   "execution_count": null,
   "metadata": {},
   "outputs": [],
   "source": [
    "# Save the results\n",
    "protag_antag_dists.to_pickle(f\"data{os.sep}The_After_House__protag_antag_dists__PRETRAINED.pkl\")\n",
    "antag_crime_weap_dists.to_pickle(f\"data{os.sep}The_After_House__antag_crime_weap_dists__PRETRAINED.pkl\")\n",
    "antag_crime_obj_dists.to_pickle(f\"data{os.sep}The_After_House__antag_crime_obj_dists__PRETRAINED.pkl\")\n",
    "# To load them\n",
    "protag_antag_dists = pd.read_pickle(f\"data{os.sep}The_After_House__protag_antag_dists__PRETRAINED.pkl\")\n",
    "antag_crime_weap_dists = pd.read_pickle(f\"data{os.sep}The_After_House__antag_crime_weap_dists__PRETRAINED.pkl\")\n",
    "antag_crime_obj_dists = pd.read_pickle(f\"data{os.sep}The_After_House__antag_crime_obj_dists__PRETRAINED.pkl\")"
   ]
  },
  {
   "cell_type": "code",
   "execution_count": null,
   "metadata": {},
   "outputs": [],
   "source": [
    "display(protag_antag_dists_pre.sort_values(['cosineSim', 'dotSim']).head())\n",
    "display(antag_crime_weap_dists_pre.sort_values(['cosineSim', 'dotSim']).head())\n",
    "display(antag_crime_obj_dists_pre.sort_values(['cosineSim', 'dotSim']).head())"
   ]
  },
  {
   "cell_type": "markdown",
   "metadata": {},
   "source": [
    "# The Window at the Wide Cat"
   ]
  },
  {
   "cell_type": "code",
   "execution_count": null,
   "metadata": {},
   "outputs": [],
   "source": [
    "book = ProcessedBook(books_conf['The_Window_at_the_White_Cat'])\n",
    "lemmas = book.lemmas"
   ]
  },
  {
   "cell_type": "code",
   "execution_count": 27,
   "metadata": {},
   "outputs": [],
   "source": [
    "# Lemmatize sentences\n",
    "protagonist_subs = list(book_meta['protagonists'][0].values())[0]\n",
    "substitution = (protagonist_subs, 'protagonist')\n",
    "sentences_substituted = book.lemmatize_by_sentence(word_subs=substitution)\n",
    "sentences = book.lemmatize_by_sentence()"
   ]
  },
  {
   "cell_type": "code",
   "execution_count": null,
   "metadata": {},
   "outputs": [],
   "source": [
    "# Generate word combinations\n",
    "protagonists_antagonists = books_lib.word_embeddings\\\n",
    "                          .get_combinations(conf=book_meta, \n",
    "                                            keys_1=['protagonists'], \n",
    "                                            get_all_sub_values_1=True,\n",
    "                                            keys_2=['antagonists'],\n",
    "                                            get_all_sub_values_2=True,\n",
    "                                            ignore_words_with_spaces=True)\n",
    "antagonists_crime_weapon = books_lib.word_embeddings\\\n",
    "                          .get_combinations(conf=book_meta, \n",
    "                                            keys_1=['antagonists'],\n",
    "                                            get_all_sub_values_1=True,\n",
    "                                            keys_2=['crime', 'crime_weapon'],\n",
    "                                            get_all_sub_values_2=False,\n",
    "                                            ignore_words_with_spaces=True)\n",
    "antagonists_crime_objects = books_lib.word_embeddings\\\n",
    "                           .get_combinations(conf=book_meta,\n",
    "                                             keys_1=['antagonists'],\n",
    "                                             get_all_sub_values_1=True,\n",
    "                                             keys_2=['crime', 'crime_objects'],\n",
    "                                             get_all_sub_values_2=False,\n",
    "                                             ignore_words_with_spaces=True)\n",
    "\n",
    "print(\"\\nprotagonists_antagonists: \")\n",
    "pprint(protagonists_antagonists)\n",
    "print(\"\\nantagonists_crime_weapon: \")\n",
    "pprint(antagonists_crime_weapon)\n",
    "print(\"\\nantagonists_crime_objects: \")\n",
    "pprint(antagonists_crime_objects)"
   ]
  },
  {
   "cell_type": "code",
   "execution_count": null,
   "metadata": {},
   "outputs": [],
   "source": [
    "# Calculate distances with custom word embeddings\n",
    "protag_antag_dists = books_lib\\\n",
    "                     .word_embeddings\\\n",
    "                     .calculate_differing_distances(sentences=sentences, \n",
    "                                                    word_pairs=protagonists_antagonists)\n",
    "antag_crime_weap_dists = books_lib\\\n",
    "                         .word_embeddings\\\n",
    "                         .calculate_differing_distances(sentences=sentences, \n",
    "                                                        word_pairs=antagonists_crime_weapon)\n",
    "antag_crime_obj_dists = books_lib\\\n",
    "                        .word_embeddings\\\n",
    "                        .calculate_differing_distances(sentences=sentences, \n",
    "                                                       word_pairs=antagonists_crime_objects)"
   ]
  },
  {
   "cell_type": "code",
   "execution_count": null,
   "metadata": {},
   "outputs": [],
   "source": [
    "# Save the results\n",
    "protag_antag_dists.to_pickle(f\"data{os.sep}The_Window_at_the_White_Cat__protag_antag_dists.pkl\")\n",
    "antag_crime_weap_dists.to_pickle(f\"data{os.sep}The_Window_at_the_White_Cat__antag_crime_weap_dists.pkl\")\n",
    "antag_crime_obj_dists.to_pickle(f\"data{os.sep}The_Window_at_the_White_Cat__antag_crime_obj_dists.pkl\")\n",
    "# To load them\n",
    "protag_antag_dists = pd.read_pickle(f\"data{os.sep}The_Window_at_the_White_Cat__protag_antag_dists.pkl\")\n",
    "antag_crime_weap_dists = pd.read_pickle(f\"data{os.sep}The_Window_at_the_White_Cat__antag_crime_weap_dists.pkl\")\n",
    "antag_crime_obj_dists = pd.read_pickle(f\"data{os.sep}The_Window_at_the_White_Cat__antag_crime_obj_dists.pkl\")"
   ]
  },
  {
   "cell_type": "code",
   "execution_count": null,
   "metadata": {},
   "outputs": [],
   "source": [
    "display(protag_antag_dists.sort_values(['cosineSim', 'dotSim']).head())\n",
    "display(antag_crime_weap_dists.sort_values(['cosineSim', 'dotSim']).head())\n",
    "display(antag_crime_obj_dists.sort_values(['cosineSim', 'dotSim']).head())"
   ]
  },
  {
   "cell_type": "code",
   "execution_count": null,
   "metadata": {},
   "outputs": [],
   "source": [
    "# Calculate distances for pretrained embeddings\n",
    "model_names = books_lib.word_embeddings.get_model_names()\n",
    "model_names = [mn for mn in model_names if 'glove-wiki-gigaword' in mn]\n",
    "print(model_names)\n",
    "\n",
    "protag_antag_dists_pre = books_lib\\\n",
    "                     .word_embeddings\\\n",
    "                     .calculate_differing_distances(model_names=model_names, \n",
    "                                                    word_pairs=protagonists_antagonists)\n",
    "antag_crime_weap_dists_pre = books_lib\\\n",
    "                         .word_embeddings\\\n",
    "                         .calculate_differing_distances(model_names=model_names, \n",
    "                                                        word_pairs=antagonists_crime_weapon)\n",
    "antag_crime_obj_dists_pre = books_lib\\\n",
    "                        .word_embeddings\\\n",
    "                        .calculate_differing_distances(model_names=model_names, \n",
    "                                                       word_pairs=antagonists_crime_objects)"
   ]
  },
  {
   "cell_type": "code",
   "execution_count": null,
   "metadata": {},
   "outputs": [],
   "source": [
    "# Save the results\n",
    "protag_antag_dists.to_pickle(f\"data{os.sep}The_Window_at_the_White_Cat__protag_antag_dists__PRETRAINED.pkl\")\n",
    "antag_crime_weap_dists.to_pickle(f\"data{os.sep}The_Window_at_the_White_Cat__antag_crime_weap_dists__PRETRAINED.pkl\")\n",
    "antag_crime_obj_dists.to_pickle(f\"data{os.sep}The_Window_at_the_White_Cat__antag_crime_obj_dists__PRETRAINED.pkl\")\n",
    "# To load them\n",
    "protag_antag_dists = pd.read_pickle(f\"data{os.sep}The_Window_at_the_White_Cat__protag_antag_dists__PRETRAINED.pkl\")\n",
    "antag_crime_weap_dists = pd.read_pickle(f\"data{os.sep}The_Window_at_the_White_Cat__antag_crime_weap_dists__PRETRAINED.pkl\")\n",
    "antag_crime_obj_dists = pd.read_pickle(f\"data{os.sep}The_Window_at_the_White_Cat__antag_crime_obj_dists__PRETRAINED.pkl\")"
   ]
  },
  {
   "cell_type": "code",
   "execution_count": null,
   "metadata": {},
   "outputs": [],
   "source": [
    "display(protag_antag_dists_pre.sort_values(['cosineSim', 'dotSim']).head())\n",
    "display(antag_crime_weap_dists_pre.sort_values(['cosineSim', 'dotSim']).head())\n",
    "display(antag_crime_obj_dists_pre.sort_values(['cosineSim', 'dotSim']).head())"
   ]
  },
  {
   "cell_type": "markdown",
   "metadata": {},
   "source": [
    "# The Bat"
   ]
  },
  {
   "cell_type": "code",
   "execution_count": null,
   "metadata": {},
   "outputs": [],
   "source": [
    "book = ProcessedBook(books_conf['The_Bat'])\n",
    "lemmas = book.lemmas"
   ]
  },
  {
   "cell_type": "code",
   "execution_count": null,
   "metadata": {},
   "outputs": [],
   "source": [
    "# Lemmatize sentences\n",
    "protagonist_subs = list(book_meta['protagonists'][0].values())[0]\n",
    "substitution = (protagonist_subs, 'protagonist')\n",
    "sentences_substituted = book.lemmatize_by_sentence(word_subs=substitution)\n",
    "sentences = book.lemmatize_by_sentence()"
   ]
  },
  {
   "cell_type": "code",
   "execution_count": null,
   "metadata": {},
   "outputs": [],
   "source": [
    "# Generate word combinations\n",
    "protagonists_antagonists = books_lib.word_embeddings\\\n",
    "                          .get_combinations(conf=book_meta, \n",
    "                                            keys_1=['protagonists'], \n",
    "                                            get_all_sub_values_1=True,\n",
    "                                            keys_2=['antagonists'],\n",
    "                                            get_all_sub_values_2=True,\n",
    "                                            ignore_words_with_spaces=True)\n",
    "antagonists_crime_weapon = books_lib.word_embeddings\\\n",
    "                          .get_combinations(conf=book_meta, \n",
    "                                            keys_1=['antagonists'],\n",
    "                                            get_all_sub_values_1=True,\n",
    "                                            keys_2=['crime', 'crime_weapon'],\n",
    "                                            get_all_sub_values_2=False,\n",
    "                                            ignore_words_with_spaces=True)\n",
    "antagonists_crime_objects = books_lib.word_embeddings\\\n",
    "                           .get_combinations(conf=book_meta,\n",
    "                                             keys_1=['antagonists'],\n",
    "                                             get_all_sub_values_1=True,\n",
    "                                             keys_2=['crime', 'crime_objects'],\n",
    "                                             get_all_sub_values_2=False,\n",
    "                                             ignore_words_with_spaces=True)\n",
    "\n",
    "print(\"\\nprotagonists_antagonists: \")\n",
    "pprint(protagonists_antagonists)\n",
    "print(\"\\nantagonists_crime_weapon: \")\n",
    "pprint(antagonists_crime_weapon)\n",
    "print(\"\\nantagonists_crime_objects: \")\n",
    "pprint(antagonists_crime_objects)"
   ]
  },
  {
   "cell_type": "code",
   "execution_count": null,
   "metadata": {},
   "outputs": [],
   "source": [
    "# Calculate distances with custom word embeddings\n",
    "protag_antag_dists = books_lib\\\n",
    "                     .word_embeddings\\\n",
    "                     .calculate_differing_distances(sentences=sentences, \n",
    "                                                    word_pairs=protagonists_antagonists)\n",
    "antag_crime_weap_dists = books_lib\\\n",
    "                         .word_embeddings\\\n",
    "                         .calculate_differing_distances(sentences=sentences, \n",
    "                                                        word_pairs=antagonists_crime_weapon)\n",
    "antag_crime_obj_dists = books_lib\\\n",
    "                        .word_embeddings\\\n",
    "                        .calculate_differing_distances(sentences=sentences, \n",
    "                                                       word_pairs=antagonists_crime_objects)"
   ]
  },
  {
   "cell_type": "code",
   "execution_count": null,
   "metadata": {},
   "outputs": [],
   "source": [
    "# Save the results\n",
    "protag_antag_dists.to_pickle(f\"data{os.sep}The_Bat__protag_antag_dists.pkl\")\n",
    "antag_crime_weap_dists.to_pickle(f\"data{os.sep}The_Bat__antag_crime_weap_dists.pkl\")\n",
    "antag_crime_obj_dists.to_pickle(f\"data{os.sep}The_Bat__antag_crime_obj_dists.pkl\")\n",
    "# To load them\n",
    "protag_antag_dists = pd.read_pickle(f\"data{os.sep}The_Bat__protag_antag_dists.pkl\")\n",
    "antag_crime_weap_dists = pd.read_pickle(f\"data{os.sep}The_Bat__antag_crime_weap_dists.pkl\")\n",
    "antag_crime_obj_dists = pd.read_pickle(f\"data{os.sep}The_Bat__antag_crime_obj_dists.pkl\")"
   ]
  },
  {
   "cell_type": "code",
   "execution_count": null,
   "metadata": {},
   "outputs": [],
   "source": [
    "display(protag_antag_dists.sort_values(['cosineSim', 'dotSim']).head())\n",
    "display(antag_crime_weap_dists.sort_values(['cosineSim', 'dotSim']).head())\n",
    "display(antag_crime_obj_dists.sort_values(['cosineSim', 'dotSim']).head())"
   ]
  },
  {
   "cell_type": "code",
   "execution_count": null,
   "metadata": {},
   "outputs": [],
   "source": [
    "# Calculate distances with custom word embeddings\n",
    "protag_antag_dists_pre = books_lib\\\n",
    "                     .word_embeddings\\\n",
    "                     .calculate_differing_distances(sentences=sentences, \n",
    "                                                    word_pairs=protagonists_antagonists)\n",
    "antag_crime_weap_dists = books_lib\\\n",
    "                         .word_embeddings\\\n",
    "                         .calculate_differing_distances(sentences=sentences, \n",
    "                                                        word_pairs=antagonists_crime_weapon)\n",
    "antag_crime_obj_dists = books_lib\\\n",
    "                        .word_embeddings\\\n",
    "                        .calculate_differing_distances(sentences=sentences, \n",
    "                                                       word_pairs=antagonists_crime_objects)"
   ]
  },
  {
   "cell_type": "code",
   "execution_count": null,
   "metadata": {},
   "outputs": [],
   "source": [
    "# Save the results\n",
    "protag_antag_dists.to_pickle(f\"data{os.sep}The_Bat__protag_antag_dists__PRETRAINED.pkl\")\n",
    "antag_crime_weap_dists.to_pickle(f\"data{os.sep}The_Bat__antag_crime_weap_dists__PRETRAINED.pkl\")\n",
    "antag_crime_obj_dists.to_pickle(f\"data{os.sep}The_Bat__antag_crime_obj_dists__PRETRAINED.pkl\")\n",
    "# To load them\n",
    "protag_antag_dists = pd.read_pickle(f\"data{os.sep}The_Bat__protag_antag_dists__PRETRAINED.pkl\")\n",
    "antag_crime_weap_dists = pd.read_pickle(f\"data{os.sep}The_Bat__antag_crime_weap_dists__PRETRAINED.pkl\")\n",
    "antag_crime_obj_dists = pd.read_pickle(f\"data{os.sep}The_Bat__antag_crime_obj_dists__PRETRAINED.pkl\")"
   ]
  },
  {
   "cell_type": "code",
   "execution_count": null,
   "metadata": {},
   "outputs": [],
   "source": [
    "display(protag_antag_dists_pre.sort_values(['cosineSim', 'dotSim']).head())\n",
    "display(antag_crime_weap_dists_pre.sort_values(['cosineSim', 'dotSim']).Shead())\n",
    "display(antag_crime_obj_dists_pre.sort_values(['cosineSim', 'dotSim']).head())"
   ]
  },
  {
   "cell_type": "markdown",
   "metadata": {},
   "source": [
    "## Compare Vector distances and report similarities using Pretrained Embeddings"
   ]
  },
  {
   "cell_type": "code",
   "execution_count": null,
   "metadata": {},
   "outputs": [],
   "source": [
    "# cs.my_pretrained_embeddings_compare_function()"
   ]
  },
  {
   "cell_type": "code",
   "execution_count": null,
   "metadata": {},
   "outputs": [],
   "source": []
  },
  {
   "cell_type": "code",
   "execution_count": null,
   "metadata": {},
   "outputs": [],
   "source": []
  },
  {
   "cell_type": "markdown",
   "metadata": {},
   "source": [
    "## Extra Analysis? Plots?"
   ]
  },
  {
   "cell_type": "code",
   "execution_count": null,
   "metadata": {},
   "outputs": [],
   "source": [
    "# Too much work"
   ]
  },
  {
   "cell_type": "code",
   "execution_count": null,
   "metadata": {},
   "outputs": [],
   "source": []
  },
  {
   "cell_type": "code",
   "execution_count": null,
   "metadata": {},
   "outputs": [],
   "source": []
  },
  {
   "cell_type": "code",
   "execution_count": null,
   "metadata": {},
   "outputs": [],
   "source": []
  }
 ],
 "metadata": {
  "colab": {
   "name": "main.ipynb",
   "provenance": []
  },
  "kernelspec": {
   "display_name": "Python 3 (ipykernel)",
   "language": "python",
   "name": "python3"
  },
  "language_info": {
   "codemirror_mode": {
    "name": "ipython",
    "version": 3
   },
   "file_extension": ".py",
   "mimetype": "text/x-python",
   "name": "python",
   "nbconvert_exporter": "python",
   "pygments_lexer": "ipython3",
   "version": "3.9.7"
  },
  "widgets": {
   "application/vnd.jupyter.widget-state+json": {
    "1731d42a04634fee89c2f80c12a29c88": {
     "model_module": "@jupyter-widgets/base",
     "model_module_version": "1.2.0",
     "model_name": "LayoutModel",
     "state": {
      "_model_module": "@jupyter-widgets/base",
      "_model_module_version": "1.2.0",
      "_model_name": "LayoutModel",
      "_view_count": null,
      "_view_module": "@jupyter-widgets/base",
      "_view_module_version": "1.2.0",
      "_view_name": "LayoutView",
      "align_content": null,
      "align_items": null,
      "align_self": null,
      "border": null,
      "bottom": null,
      "display": null,
      "flex": null,
      "flex_flow": null,
      "grid_area": null,
      "grid_auto_columns": null,
      "grid_auto_flow": null,
      "grid_auto_rows": null,
      "grid_column": null,
      "grid_gap": null,
      "grid_row": null,
      "grid_template_areas": null,
      "grid_template_columns": null,
      "grid_template_rows": null,
      "height": null,
      "justify_content": null,
      "justify_items": null,
      "left": null,
      "margin": null,
      "max_height": null,
      "max_width": null,
      "min_height": null,
      "min_width": null,
      "object_fit": null,
      "object_position": null,
      "order": null,
      "overflow": null,
      "overflow_x": null,
      "overflow_y": null,
      "padding": null,
      "right": null,
      "top": null,
      "visibility": null,
      "width": null
     }
    },
    "5f7a290065d24765a0bc5fa9801fd815": {
     "model_module": "@jupyter-widgets/controls",
     "model_module_version": "1.5.0",
     "model_name": "ButtonStyleModel",
     "state": {
      "_model_module": "@jupyter-widgets/controls",
      "_model_module_version": "1.5.0",
      "_model_name": "ButtonStyleModel",
      "_view_count": null,
      "_view_module": "@jupyter-widgets/base",
      "_view_module_version": "1.2.0",
      "_view_name": "StyleView",
      "button_color": null,
      "font_weight": ""
     }
    },
    "a5b00bcabdfc42c480043de40a36c486": {
     "model_module": "@jupyter-widgets/base",
     "model_module_version": "1.2.0",
     "model_name": "LayoutModel",
     "state": {
      "_model_module": "@jupyter-widgets/base",
      "_model_module_version": "1.2.0",
      "_model_name": "LayoutModel",
      "_view_count": null,
      "_view_module": "@jupyter-widgets/base",
      "_view_module_version": "1.2.0",
      "_view_name": "LayoutView",
      "align_content": null,
      "align_items": null,
      "align_self": null,
      "border": null,
      "bottom": null,
      "display": null,
      "flex": null,
      "flex_flow": null,
      "grid_area": null,
      "grid_auto_columns": null,
      "grid_auto_flow": null,
      "grid_auto_rows": null,
      "grid_column": null,
      "grid_gap": null,
      "grid_row": null,
      "grid_template_areas": null,
      "grid_template_columns": null,
      "grid_template_rows": null,
      "height": null,
      "justify_content": null,
      "justify_items": null,
      "left": null,
      "margin": null,
      "max_height": null,
      "max_width": null,
      "min_height": null,
      "min_width": null,
      "object_fit": null,
      "object_position": null,
      "order": null,
      "overflow": null,
      "overflow_x": null,
      "overflow_y": null,
      "padding": null,
      "right": null,
      "top": null,
      "visibility": null,
      "width": null
     }
    },
    "c55ebd5855ca490791c5d6b9308b6d4e": {
     "model_module": "@jupyter-widgets/controls",
     "model_module_version": "1.5.0",
     "model_name": "ButtonModel",
     "state": {
      "_dom_classes": [],
      "_model_module": "@jupyter-widgets/controls",
      "_model_module_version": "1.5.0",
      "_model_name": "ButtonModel",
      "_view_count": null,
      "_view_module": "@jupyter-widgets/controls",
      "_view_module_version": "1.5.0",
      "_view_name": "ButtonView",
      "button_style": "",
      "description": "Yes",
      "disabled": false,
      "icon": "",
      "layout": "IPY_MODEL_a5b00bcabdfc42c480043de40a36c486",
      "style": "IPY_MODEL_5f7a290065d24765a0bc5fa9801fd815",
      "tooltip": ""
     }
    },
    "e7b4d0dcb1f24d998063f877d1efbca7": {
     "model_module": "@jupyter-widgets/controls",
     "model_module_version": "1.5.0",
     "model_name": "ButtonModel",
     "state": {
      "_dom_classes": [],
      "_model_module": "@jupyter-widgets/controls",
      "_model_module_version": "1.5.0",
      "_model_name": "ButtonModel",
      "_view_count": null,
      "_view_module": "@jupyter-widgets/controls",
      "_view_module_version": "1.5.0",
      "_view_name": "ButtonView",
      "button_style": "",
      "description": "Yes, clone",
      "disabled": false,
      "icon": "",
      "layout": "IPY_MODEL_1731d42a04634fee89c2f80c12a29c88",
      "style": "IPY_MODEL_f7b19456e9b94ee09f8ed14cc1ba960b",
      "tooltip": ""
     }
    },
    "f7b19456e9b94ee09f8ed14cc1ba960b": {
     "model_module": "@jupyter-widgets/controls",
     "model_module_version": "1.5.0",
     "model_name": "ButtonStyleModel",
     "state": {
      "_model_module": "@jupyter-widgets/controls",
      "_model_module_version": "1.5.0",
      "_model_name": "ButtonStyleModel",
      "_view_count": null,
      "_view_module": "@jupyter-widgets/base",
      "_view_module_version": "1.2.0",
      "_view_name": "StyleView",
      "button_color": null,
      "font_weight": ""
     }
    }
   }
  }
 },
 "nbformat": 4,
 "nbformat_minor": 1
}

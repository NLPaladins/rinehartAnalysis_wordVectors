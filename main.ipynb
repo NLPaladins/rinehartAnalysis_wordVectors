{
 "cells": [
  {
   "cell_type": "markdown",
   "metadata": {
    "collapsed": true,
    "id": "Vt9t7-fVi8At"
   },
   "source": [
    "# NLP - Project 2\n",
    "## Rinehart Analysis with Word Vectors\n",
    "**Team**: *Jean Merlet, Konstantinos Georgiou, Matt Lane*"
   ]
  },
  {
   "cell_type": "markdown",
   "metadata": {
    "id": "eiRSeV6fi8A0"
   },
   "source": [
    "## Where to put the code\n",
    "- Place the preprocessing functions/classes in [nlp_libs/books/preprocessing.py](https://github.com/NLPaladins/rinehartAnalysis_wordVectors/nlp_libs/books/preprocessing.py)\n",
    "- The custom word embeddings functions/classes (task 1) in [nlp_libs/books/word_embeddings.py](https://github.com/NLPaladins/rinehartAnalysis_wordVectors/nlp_libs/books/word_embeddings.py) (separate class)\n",
    "- The pretrained word embeddings functions/classes (task 2) in [nlp_libs/books/word_embeddings.py](https://github.com/NLPaladins/rinehartAnalysis_wordVectors/nlp_libs/books/word_embeddings.py) (separate class)\n",
    "- The functions/classes (if any) that compare the results (tasks 3, 4, 5) in [nlp_libs/books/compare_statistics.py](https://github.com/NLPaladins/rinehartAnalysis_wordVectors/nlp_libs/books/compare_statistics.py)\n",
    "- Any plotting related functions in [nlp_libs/books/plotter.py](https://github.com/NLPaladins/rinehartAnalysis_wordVectors/nlp_libs/books/plotter.py)\n",
    "\n",
    "**The code is reloaded automatically. Any class object needs to reinitialized though.** \n",
    "\n",
    "## Config file\n",
    "The yml/config file is located at: [confs/proj_2.yml](https://github.com/NLPaladins/rinehartAnalysis_wordVectors/confs/proj_2.yml)<br>\n",
    "To load it run:\n",
    "```python\n",
    "config_path='confs/proj_2.yml'\n",
    "conf = Configuration(config_src=config_path)\n",
    "# Get the books dictionary\n",
    "books = conf.get_config('data_loader')['config']['books'] # type = Dict\n",
    "print(books.keys())\n",
    "print(books['The_Bat'])\n",
    "```\n",
    "To reload the config just run the 2nd and 3rd command.\n",
    "\n",
    "## Libraries Overview:\n",
    "All the libraries are located under *\"\\<project root>/nlp_libs\"*\n",
    "- nlp_libs/**books**: This project's code (imported later)\n",
    "- nlp_libs/**configuration**: Class that creates config objects from yml files\n",
    "- nlp_libs/**fancy_logger**: Logger that can be used instead of prints for text formatting (color, bold, underline etc)\n",
    "\n",
    "## Project 1 Code\n",
    "If you need to import anything from Project 1 just run:\n",
    "```python\n",
    "import proj1_nlp_libs.books.processed_book as proc\n",
    "import proj1_nlp_libs.books.book_extractor as extr\n",
    "import proj1_nlp_libs.books.plotter as pl\n",
    "```\n",
    "\n",
    "## For more info check out:\n",
    "- the **[Project Board](https://github.com/NLPaladins/rinehartAnalysis_wordVectors/projects/1)**\n",
    "- the **[README](https://github.com/NLPaladins/https://github.com/NLPaladins/rinehartAnalysis_wordVectors/blob/main/README.md)**\n",
    "- and the **[Current Issues](https://github.com/NLPaladins/rinehartAnalysis_wordVectors/issues)**"
   ]
  },
  {
   "cell_type": "markdown",
   "metadata": {},
   "source": [
    "# ------------------------------------------------------------------"
   ]
  },
  {
   "cell_type": "markdown",
   "metadata": {},
   "source": [
    "## On Google Collab?\n",
    "- **If yes, run the two cells and press the two buttons below:**\n",
    "- Otherwise go to \"***Import the base Libraries***\""
   ]
  },
  {
   "cell_type": "code",
   "execution_count": 56,
   "metadata": {
    "colab": {
     "base_uri": "https://localhost:8080/",
     "height": 104,
     "referenced_widgets": [
      "e7b4d0dcb1f24d998063f877d1efbca7",
      "f7b19456e9b94ee09f8ed14cc1ba960b",
      "1731d42a04634fee89c2f80c12a29c88"
     ]
    },
    "executionInfo": {
     "elapsed": 422,
     "status": "ok",
     "timestamp": 1632717858015,
     "user": {
      "displayName": "Kostas Georgiou",
      "photoUrl": "https://lh3.googleusercontent.com/a-/AOh14GhzP5qrxeKXeuneTscU-PqTEiyBLJpOwQ-olOc2x5s=s64",
      "userId": "10199933473437407446"
     },
     "user_tz": 240
    },
    "id": "1SQIWYWmi8A4",
    "outputId": "9832cee7-6841-41cc-ef30-3bbf97b720d3"
   },
   "outputs": [
    {
     "name": "stdout",
     "output_type": "stream",
     "text": [
      "Clone project?\n",
      "(If you do this you will ovewrite local changes on other files e.g. configs)\n",
      "Not needed if you're not on Google Collab\n"
     ]
    },
    {
     "data": {
      "application/vnd.jupyter.widget-view+json": {
       "model_id": "940823c4551049128f90fae14f6bfbb8",
       "version_major": 2,
       "version_minor": 0
      },
      "text/plain": [
       "Button(description='Yes, clone', style=ButtonStyle())"
      ]
     },
     "metadata": {},
     "output_type": "display_data"
    }
   ],
   "source": [
    "# Import Jupyter Widgets\n",
    "import os\n",
    "from itertools import combinations\n",
    "import ipywidgets as widgets\n",
    "from ipywidgets import interact, interact_manual\n",
    "from IPython.display import display\n",
    "# Clone the repository if you're in Google Collab\n",
    "def clone_project(is_collab: bool = False):\n",
    "    print(\"Cloning Project..\")\n",
    "    !git clone https://github.com/NLPaladins/rinehartAnalysis_wordVectors.git\n",
    "    print(\"Project cloned.\")\n",
    "       \n",
    "print(\"Clone project?\")\n",
    "print(\"(If you do this you will ovewrite local changes on other files e.g. configs)\")\n",
    "print(\"Not needed if you're not on Google Collab\")\n",
    "btn = widgets.Button(description=\"Yes, clone\")\n",
    "btn.on_click(clone_project)\n",
    "display(btn)"
   ]
  },
  {
   "cell_type": "code",
   "execution_count": 18,
   "metadata": {
    "colab": {
     "base_uri": "https://localhost:8080/",
     "height": 67,
     "referenced_widgets": [
      "c55ebd5855ca490791c5d6b9308b6d4e",
      "5f7a290065d24765a0bc5fa9801fd815",
      "a5b00bcabdfc42c480043de40a36c486"
     ]
    },
    "executionInfo": {
     "elapsed": 104,
     "status": "ok",
     "timestamp": 1632717858016,
     "user": {
      "displayName": "Kostas Georgiou",
      "photoUrl": "https://lh3.googleusercontent.com/a-/AOh14GhzP5qrxeKXeuneTscU-PqTEiyBLJpOwQ-olOc2x5s=s64",
      "userId": "10199933473437407446"
     },
     "user_tz": 240
    },
    "id": "F_l8p4H1i8A5",
    "outputId": "8e4174bb-ba13-4f22-b2d6-f5045de58d9e"
   },
   "outputs": [
    {
     "name": "stdout",
     "output_type": "stream",
     "text": [
      "Are you on Google Collab?\n"
     ]
    },
    {
     "data": {
      "application/vnd.jupyter.widget-view+json": {
       "model_id": "cd11676f9e5049cabbe3ab5ebd44e4d7",
       "version_major": 2,
       "version_minor": 0
      },
      "text/plain": [
       "Button(description='Yes', style=ButtonStyle())"
      ]
     },
     "metadata": {},
     "output_type": "display_data"
    }
   ],
   "source": [
    "# Clone the repository if you're in Google Collab\n",
    "def change_dir(is_collab: bool = False):\n",
    "    try:\n",
    "        print(\"Changing dir..\")\n",
    "        os.chdir('/content/rinehartAnalysis')\n",
    "        print('done')\n",
    "        print(\"Current dir:\")\n",
    "        print(os.getcwd())\n",
    "        print(\"Dir Contents:\")\n",
    "        print(os.listdir())\n",
    "        print(\"\\nInstalling Requirements\")\n",
    "        !pip install -r requirements.txt\n",
    "    except Exception:\n",
    "        print(\"Error: Project not cloned\")\n",
    "       \n",
    "print(\"Are you on Google Collab?\")\n",
    "btn = widgets.Button(description=\"Yes\")\n",
    "btn.on_click(change_dir)\n",
    "display(btn)"
   ]
  },
  {
   "cell_type": "markdown",
   "metadata": {
    "id": "6CpeQfTli8A6"
   },
   "source": [
    "### To commit and push Google Collab notebook to Github\n",
    "Click **File > Save a copy on Gihtub**"
   ]
  },
  {
   "cell_type": "markdown",
   "metadata": {},
   "source": [
    "# ------------------------------------------------------------------"
   ]
  },
  {
   "cell_type": "markdown",
   "metadata": {},
   "source": [
    "# Initializations"
   ]
  },
  {
   "cell_type": "markdown",
   "metadata": {
    "id": "H1RHGfh1i8A8",
    "pycharm": {
     "name": "#%%\n"
    }
   },
   "source": [
    "## Import the base Libraries"
   ]
  },
  {
   "cell_type": "code",
   "execution_count": 37,
   "metadata": {
    "colab": {
     "base_uri": "https://localhost:8080/"
    },
    "executionInfo": {
     "elapsed": 80,
     "status": "ok",
     "timestamp": 1632717858017,
     "user": {
      "displayName": "Kostas Georgiou",
      "photoUrl": "https://lh3.googleusercontent.com/a-/AOh14GhzP5qrxeKXeuneTscU-PqTEiyBLJpOwQ-olOc2x5s=s64",
      "userId": "10199933473437407446"
     },
     "user_tz": 240
    },
    "id": "wjKYGxzYi8A9",
    "outputId": "185d3c02-7723-4c5d-a58a-69a2eff4462f"
   },
   "outputs": [
    {
     "name": "stdout",
     "output_type": "stream",
     "text": [
      "The autoreload extension is already loaded. To reload it, use:\n",
      "  %reload_ext autoreload\n"
     ]
    }
   ],
   "source": [
    "# Imports\n",
    "%load_ext autoreload\n",
    "%autoreload 2\n",
    "from importlib import reload as reload_lib\n",
    "from typing import *\n",
    "import os\n",
    "import re\n",
    "from pprint import pprint\n",
    "# Numpy\n",
    "import numpy as np\n",
    "\n",
    "# Import preprocessing lib\n",
    "from nlp_libs.books import *"
   ]
  },
  {
   "cell_type": "markdown",
   "metadata": {},
   "source": [
    "## Load the YML file"
   ]
  },
  {
   "cell_type": "code",
   "execution_count": 38,
   "metadata": {},
   "outputs": [],
   "source": [
    "from nlp_libs import Configuration"
   ]
  },
  {
   "cell_type": "code",
   "execution_count": 39,
   "metadata": {
    "colab": {
     "base_uri": "https://localhost:8080/"
    },
    "executionInfo": {
     "elapsed": 58,
     "status": "ok",
     "timestamp": 1632717858017,
     "user": {
      "displayName": "Kostas Georgiou",
      "photoUrl": "https://lh3.googleusercontent.com/a-/AOh14GhzP5qrxeKXeuneTscU-PqTEiyBLJpOwQ-olOc2x5s=s64",
      "userId": "10199933473437407446"
     },
     "user_tz": 240
    },
    "id": "XYH2o7w3i8A-",
    "outputId": "48016d05-91df-462d-9f73-87d98d66a375"
   },
   "outputs": [
    {
     "name": "stderr",
     "output_type": "stream",
     "text": [
      "2021-10-31 19:01:58 Config       INFO     \u001b[1m\u001b[37mConfiguration file loaded successfully from path: /Users/96v/Documents/DSE/nlp/rinehartAnalysis_wordVectors/confs/proj_2.yml\u001b[0m\n",
      "2021-10-31 19:01:58 Config       INFO     \u001b[1m\u001b[37mConfiguration Tag: proj2\u001b[0m\n"
     ]
    }
   ],
   "source": [
    "# The path of configuration and log save path\n",
    "config_path = \"confs/proj_2.yml\"\n",
    "# !cat \"$config_path\"\n",
    "# Load the configuration\n",
    "conf = Configuration(config_src=config_path)\n",
    "# Get the books dict\n",
    "books = conf.get_config('data_loader')['config']['books']\n",
    "# print(books.keys())\n",
    "# pprint(books)  # Pretty print the books dict"
   ]
  },
  {
   "cell_type": "markdown",
   "metadata": {},
   "source": [
    "## Setup Logger and Example"
   ]
  },
  {
   "cell_type": "code",
   "execution_count": 40,
   "metadata": {},
   "outputs": [
    {
     "name": "stderr",
     "output_type": "stream",
     "text": [
      "2021-10-31 19:01:58 FancyLogger  INFO     \u001b[1m\u001b[37mLogger is set. Log file path: /Users/96v/Documents/DSE/nlp/rinehartAnalysis_wordVectors/logs/proj_2.log\u001b[0m\n",
      "2021-10-31 19:01:58 Notebook     INFO     \u001b[1m\u001b[36mLogger Examples:\u001b[0m\n",
      "\n",
      "2021-10-31 19:01:58 Notebook     WARNING  \u001b[4m\u001b[36mLogger Warning underlined\u001b[0m\n",
      "2021-10-31 19:01:58 Notebook     ERROR    \u001b[1m\u001b[41m\u001b[33mLogger Error in red&yellow\u001b[0m\n"
     ]
    }
   ],
   "source": [
    "log_path = \"logs/proj_2.log\"\n",
    "# Load and setup logger\n",
    "logger = ColorizedLogger(logger_name='Notebook', color='cyan')\n",
    "ColorizedLogger.setup_logger(log_path=log_path, debug=False, clear_log=True)\n",
    "# Examples\n",
    "logger.info(\"Logger Examples:\")\n",
    "logger.nl(num_lines=1) # New lines\n",
    "logger.warn(\"Logger Warning underlined\", attrs=['underline']) \n",
    "# Atrs:  bold, dark, underline, blink, reverse, concealed\n",
    "logger.error(\"Logger Error in red&yellow\", color=\"yellow\", on_color=\"on_red\")\n",
    "# Colors: on_grey, on_red, on_green, on_yellow, on_blue, on_magenta, on_cyan, on_white"
   ]
  },
  {
   "cell_type": "markdown",
   "metadata": {},
   "source": [
    "# ------------------------------------------------------------------"
   ]
  },
  {
   "cell_type": "markdown",
   "metadata": {
    "id": "ZyM4avEli8A_"
   },
   "source": [
    "# Start of Project Code"
   ]
  },
  {
   "cell_type": "code",
   "execution_count": 41,
   "metadata": {},
   "outputs": [],
   "source": [
    "from nlp_libs.books import * "
   ]
  },
  {
   "cell_type": "markdown",
   "metadata": {},
   "source": [
    "## Preprocessing"
   ]
  },
  {
   "cell_type": "markdown",
   "metadata": {},
   "source": [
    "# The Circular Staircase"
   ]
  },
  {
   "cell_type": "code",
   "execution_count": 42,
   "metadata": {},
   "outputs": [
    {
     "data": {
      "text/plain": [
       "{'url': 'https://www.gutenberg.org/files/434/434-0.txt',\n",
       " 'protagonists': {'Mr. Jamieson': ['jamieson', 'detective', 'winters']},\n",
       " 'suspects': {'John Bailey': ['john', 'jack'],\n",
       "  'Gertrude Innes': ['gertrude'],\n",
       "  'Halsey Innes': ['halsey']},\n",
       " 'antagonists': {'Anne Watson': ['anne', 'watson']},\n",
       " 'crime': {'crime_weapon': ['revolver'], 'crime_objects': ['tmp']}}"
      ]
     },
     "execution_count": 42,
     "metadata": {},
     "output_type": "execute_result"
    }
   ],
   "source": [
    "books['The_Circular_Staircase']"
   ]
  },
  {
   "cell_type": "code",
   "execution_count": 43,
   "metadata": {},
   "outputs": [],
   "source": [
    "book = ProcessedBook(books['The_Circular_Staircase'])\n",
    "sentences = book.lemmatize_by_sentence()"
   ]
  },
  {
   "cell_type": "code",
   "execution_count": 44,
   "metadata": {},
   "outputs": [],
   "source": [
    "df = word_embeddings.calculate_differing_distances(sentences, [['jamieson', 'watson'], \n",
    "                                                            ['revolver', 'watson'], \n",
    "                                                            ['murder', 'watson'], \n",
    "                                                            ['murder', 'rachel'],                                                                  \n",
    "                                                            ['jamieson', 'detective']])"
   ]
  },
  {
   "cell_type": "code",
   "execution_count": 45,
   "metadata": {},
   "outputs": [
    {
     "data": {
      "text/html": [
       "<div>\n",
       "<style scoped>\n",
       "    .dataframe tbody tr th:only-of-type {\n",
       "        vertical-align: middle;\n",
       "    }\n",
       "\n",
       "    .dataframe tbody tr th {\n",
       "        vertical-align: top;\n",
       "    }\n",
       "\n",
       "    .dataframe thead th {\n",
       "        text-align: right;\n",
       "    }\n",
       "</style>\n",
       "<table border=\"1\" class=\"dataframe\">\n",
       "  <thead>\n",
       "    <tr style=\"text-align: right;\">\n",
       "      <th></th>\n",
       "      <th>word1</th>\n",
       "      <th>word2</th>\n",
       "      <th>vectorSize</th>\n",
       "      <th>windowSize</th>\n",
       "      <th>cosineSim</th>\n",
       "      <th>dotSim</th>\n",
       "    </tr>\n",
       "  </thead>\n",
       "  <tbody>\n",
       "    <tr>\n",
       "      <th>3</th>\n",
       "      <td>murder</td>\n",
       "      <td>rachel</td>\n",
       "      <td>50</td>\n",
       "      <td>2</td>\n",
       "      <td>0.988120</td>\n",
       "      <td>1.819338</td>\n",
       "    </tr>\n",
       "    <tr>\n",
       "      <th>3</th>\n",
       "      <td>murder</td>\n",
       "      <td>rachel</td>\n",
       "      <td>50</td>\n",
       "      <td>10</td>\n",
       "      <td>0.989617</td>\n",
       "      <td>1.399732</td>\n",
       "    </tr>\n",
       "    <tr>\n",
       "      <th>3</th>\n",
       "      <td>murder</td>\n",
       "      <td>rachel</td>\n",
       "      <td>50</td>\n",
       "      <td>5</td>\n",
       "      <td>0.990107</td>\n",
       "      <td>1.741950</td>\n",
       "    </tr>\n",
       "    <tr>\n",
       "      <th>3</th>\n",
       "      <td>murder</td>\n",
       "      <td>rachel</td>\n",
       "      <td>50</td>\n",
       "      <td>3</td>\n",
       "      <td>0.990425</td>\n",
       "      <td>2.021884</td>\n",
       "    </tr>\n",
       "    <tr>\n",
       "      <th>2</th>\n",
       "      <td>murder</td>\n",
       "      <td>watson</td>\n",
       "      <td>50</td>\n",
       "      <td>10</td>\n",
       "      <td>0.994893</td>\n",
       "      <td>2.170549</td>\n",
       "    </tr>\n",
       "    <tr>\n",
       "      <th>...</th>\n",
       "      <td>...</td>\n",
       "      <td>...</td>\n",
       "      <td>...</td>\n",
       "      <td>...</td>\n",
       "      <td>...</td>\n",
       "      <td>...</td>\n",
       "    </tr>\n",
       "    <tr>\n",
       "      <th>4</th>\n",
       "      <td>jamieson</td>\n",
       "      <td>detective</td>\n",
       "      <td>300</td>\n",
       "      <td>2</td>\n",
       "      <td>0.999688</td>\n",
       "      <td>6.223056</td>\n",
       "    </tr>\n",
       "    <tr>\n",
       "      <th>4</th>\n",
       "      <td>jamieson</td>\n",
       "      <td>detective</td>\n",
       "      <td>200</td>\n",
       "      <td>10</td>\n",
       "      <td>0.999703</td>\n",
       "      <td>10.715359</td>\n",
       "    </tr>\n",
       "    <tr>\n",
       "      <th>4</th>\n",
       "      <td>jamieson</td>\n",
       "      <td>detective</td>\n",
       "      <td>300</td>\n",
       "      <td>10</td>\n",
       "      <td>0.999802</td>\n",
       "      <td>10.801266</td>\n",
       "    </tr>\n",
       "    <tr>\n",
       "      <th>4</th>\n",
       "      <td>jamieson</td>\n",
       "      <td>detective</td>\n",
       "      <td>300</td>\n",
       "      <td>3</td>\n",
       "      <td>0.999806</td>\n",
       "      <td>7.996376</td>\n",
       "    </tr>\n",
       "    <tr>\n",
       "      <th>4</th>\n",
       "      <td>jamieson</td>\n",
       "      <td>detective</td>\n",
       "      <td>300</td>\n",
       "      <td>5</td>\n",
       "      <td>0.999830</td>\n",
       "      <td>9.230013</td>\n",
       "    </tr>\n",
       "  </tbody>\n",
       "</table>\n",
       "<p>80 rows × 6 columns</p>\n",
       "</div>"
      ],
      "text/plain": [
       "       word1      word2 vectorSize windowSize  cosineSim     dotSim\n",
       "3     murder     rachel         50          2   0.988120   1.819338\n",
       "3     murder     rachel         50         10   0.989617   1.399732\n",
       "3     murder     rachel         50          5   0.990107   1.741950\n",
       "3     murder     rachel         50          3   0.990425   2.021884\n",
       "2     murder     watson         50         10   0.994893   2.170549\n",
       "..       ...        ...        ...        ...        ...        ...\n",
       "4   jamieson  detective        300          2   0.999688   6.223056\n",
       "4   jamieson  detective        200         10   0.999703  10.715359\n",
       "4   jamieson  detective        300         10   0.999802  10.801266\n",
       "4   jamieson  detective        300          3   0.999806   7.996376\n",
       "4   jamieson  detective        300          5   0.999830   9.230013\n",
       "\n",
       "[80 rows x 6 columns]"
      ]
     },
     "execution_count": 45,
     "metadata": {},
     "output_type": "execute_result"
    }
   ],
   "source": [
    "df.sort_values(['cosineSim', 'dotSim'])"
   ]
  },
  {
   "cell_type": "code",
   "execution_count": 46,
   "metadata": {},
   "outputs": [
    {
     "name": "stderr",
     "output_type": "stream",
     "text": [
      "/var/folders/3g/0q_1cdr55qsgk59qbrs83m78dw2x85/T/ipykernel_22182/1112638302.py:1: VisibleDeprecationWarning: Creating an ndarray from ragged nested sequences (which is a list-or-tuple of lists-or-tuples-or ndarrays with different lengths or shapes) is deprecated. If you meant to do this, you must specify 'dtype=object' when creating the ndarray.\n",
      "  arr = np.array(sentences)\n"
     ]
    }
   ],
   "source": [
    "arr = np.array(sentences)"
   ]
  },
  {
   "cell_type": "code",
   "execution_count": 47,
   "metadata": {},
   "outputs": [],
   "source": [
    "import pydash"
   ]
  },
  {
   "cell_type": "code",
   "execution_count": 48,
   "metadata": {},
   "outputs": [],
   "source": [
    "flatarr = pydash.flatten(sentences)"
   ]
  },
  {
   "cell_type": "code",
   "execution_count": 49,
   "metadata": {},
   "outputs": [
    {
     "name": "stdout",
     "output_type": "stream",
     "text": [
      "326\n"
     ]
    }
   ],
   "source": [
    "en = spacy.load('en_core_web_sm')\n",
    "stopwords = en.Defaults.stop_words\n",
    "\n",
    "print(len(stopwords))"
   ]
  },
  {
   "cell_type": "code",
   "execution_count": 50,
   "metadata": {},
   "outputs": [],
   "source": [
    "words, counts = np.unique(flatarr, return_counts=True)"
   ]
  },
  {
   "cell_type": "code",
   "execution_count": 51,
   "metadata": {},
   "outputs": [],
   "source": [
    "moreThan2Instances = []\n",
    "for index in range(len(words)): \n",
    "    if counts[index] > 1: \n",
    "        moreThan2Instances.append(words[index])\n",
    "\n",
    "non_stopwords = list(filter(lambda x: x not in stopwords,moreThan2Instances))"
   ]
  },
  {
   "cell_type": "code",
   "execution_count": 52,
   "metadata": {},
   "outputs": [
    {
     "data": {
      "text/plain": [
       "2286"
      ]
     },
     "execution_count": 52,
     "metadata": {},
     "output_type": "execute_result"
    }
   ],
   "source": [
    "len(non_stopwords)"
   ]
  },
  {
   "cell_type": "code",
   "execution_count": 53,
   "metadata": {},
   "outputs": [],
   "source": [
    "moreThan2 = word_embeddings.calculate_differing_distances(sentences, [np.random.choice(non_stopwords, 2, replace=False), \n",
    "                                                               np.random.choice(non_stopwords, 2, replace=False), \n",
    "                                                               np.random.choice(non_stopwords, 2, replace=False), \n",
    "                                                               np.random.choice(non_stopwords, 2, replace=False), \n",
    "                                                               np.random.choice(non_stopwords, 2, replace=False),\n",
    "                                                           ])"
   ]
  },
  {
   "cell_type": "code",
   "execution_count": 54,
   "metadata": {},
   "outputs": [
    {
     "data": {
      "text/html": [
       "<div>\n",
       "<style scoped>\n",
       "    .dataframe tbody tr th:only-of-type {\n",
       "        vertical-align: middle;\n",
       "    }\n",
       "\n",
       "    .dataframe tbody tr th {\n",
       "        vertical-align: top;\n",
       "    }\n",
       "\n",
       "    .dataframe thead th {\n",
       "        text-align: right;\n",
       "    }\n",
       "</style>\n",
       "<table border=\"1\" class=\"dataframe\">\n",
       "  <thead>\n",
       "    <tr style=\"text-align: right;\">\n",
       "      <th></th>\n",
       "      <th>word1</th>\n",
       "      <th>word2</th>\n",
       "      <th>vectorSize</th>\n",
       "      <th>windowSize</th>\n",
       "      <th>cosineSim</th>\n",
       "      <th>dotSim</th>\n",
       "    </tr>\n",
       "  </thead>\n",
       "  <tbody>\n",
       "    <tr>\n",
       "      <th>3</th>\n",
       "      <td>splendid</td>\n",
       "      <td>large</td>\n",
       "      <td>50</td>\n",
       "      <td>5</td>\n",
       "      <td>0.743370</td>\n",
       "      <td>0.101829</td>\n",
       "    </tr>\n",
       "    <tr>\n",
       "      <th>4</th>\n",
       "      <td>swing</td>\n",
       "      <td>commit</td>\n",
       "      <td>50</td>\n",
       "      <td>5</td>\n",
       "      <td>0.750098</td>\n",
       "      <td>0.051506</td>\n",
       "    </tr>\n",
       "    <tr>\n",
       "      <th>3</th>\n",
       "      <td>splendid</td>\n",
       "      <td>large</td>\n",
       "      <td>100</td>\n",
       "      <td>3</td>\n",
       "      <td>0.807304</td>\n",
       "      <td>0.072403</td>\n",
       "    </tr>\n",
       "    <tr>\n",
       "      <th>3</th>\n",
       "      <td>splendid</td>\n",
       "      <td>large</td>\n",
       "      <td>50</td>\n",
       "      <td>3</td>\n",
       "      <td>0.818180</td>\n",
       "      <td>0.094272</td>\n",
       "    </tr>\n",
       "    <tr>\n",
       "      <th>4</th>\n",
       "      <td>swing</td>\n",
       "      <td>commit</td>\n",
       "      <td>50</td>\n",
       "      <td>3</td>\n",
       "      <td>0.823912</td>\n",
       "      <td>0.081453</td>\n",
       "    </tr>\n",
       "    <tr>\n",
       "      <th>...</th>\n",
       "      <td>...</td>\n",
       "      <td>...</td>\n",
       "      <td>...</td>\n",
       "      <td>...</td>\n",
       "      <td>...</td>\n",
       "      <td>...</td>\n",
       "    </tr>\n",
       "    <tr>\n",
       "      <th>2</th>\n",
       "      <td>pass</td>\n",
       "      <td>nonsense</td>\n",
       "      <td>200</td>\n",
       "      <td>5</td>\n",
       "      <td>0.995945</td>\n",
       "      <td>0.754688</td>\n",
       "    </tr>\n",
       "    <tr>\n",
       "      <th>2</th>\n",
       "      <td>pass</td>\n",
       "      <td>nonsense</td>\n",
       "      <td>200</td>\n",
       "      <td>3</td>\n",
       "      <td>0.996630</td>\n",
       "      <td>0.718682</td>\n",
       "    </tr>\n",
       "    <tr>\n",
       "      <th>2</th>\n",
       "      <td>pass</td>\n",
       "      <td>nonsense</td>\n",
       "      <td>300</td>\n",
       "      <td>5</td>\n",
       "      <td>0.996841</td>\n",
       "      <td>0.712358</td>\n",
       "    </tr>\n",
       "    <tr>\n",
       "      <th>2</th>\n",
       "      <td>pass</td>\n",
       "      <td>nonsense</td>\n",
       "      <td>300</td>\n",
       "      <td>3</td>\n",
       "      <td>0.997057</td>\n",
       "      <td>0.699938</td>\n",
       "    </tr>\n",
       "    <tr>\n",
       "      <th>2</th>\n",
       "      <td>pass</td>\n",
       "      <td>nonsense</td>\n",
       "      <td>300</td>\n",
       "      <td>10</td>\n",
       "      <td>0.997095</td>\n",
       "      <td>0.745301</td>\n",
       "    </tr>\n",
       "  </tbody>\n",
       "</table>\n",
       "<p>80 rows × 6 columns</p>\n",
       "</div>"
      ],
      "text/plain": [
       "       word1     word2 vectorSize windowSize  cosineSim    dotSim\n",
       "3   splendid     large         50          5   0.743370  0.101829\n",
       "4      swing    commit         50          5   0.750098  0.051506\n",
       "3   splendid     large        100          3   0.807304  0.072403\n",
       "3   splendid     large         50          3   0.818180  0.094272\n",
       "4      swing    commit         50          3   0.823912  0.081453\n",
       "..       ...       ...        ...        ...        ...       ...\n",
       "2       pass  nonsense        200          5   0.995945  0.754688\n",
       "2       pass  nonsense        200          3   0.996630  0.718682\n",
       "2       pass  nonsense        300          5   0.996841  0.712358\n",
       "2       pass  nonsense        300          3   0.997057  0.699938\n",
       "2       pass  nonsense        300         10   0.997095  0.745301\n",
       "\n",
       "[80 rows x 6 columns]"
      ]
     },
     "execution_count": 54,
     "metadata": {},
     "output_type": "execute_result"
    }
   ],
   "source": [
    "\n",
    "moreThan2.sort_values(['cosineSim', 'dotSim'])"
   ]
  },
  {
   "cell_type": "code",
   "execution_count": 57,
   "metadata": {},
   "outputs": [],
   "source": [
    "combinationsOfNewWords = list(combinations(non_stopwords, 2))"
   ]
  },
  {
   "cell_type": "code",
   "execution_count": 58,
   "metadata": {},
   "outputs": [
    {
     "data": {
      "text/plain": [
       "2611755"
      ]
     },
     "execution_count": 58,
     "metadata": {},
     "output_type": "execute_result"
    }
   ],
   "source": [
    "len(combinationsOfNewWords)"
   ]
  },
  {
   "cell_type": "code",
   "execution_count": 59,
   "metadata": {},
   "outputs": [],
   "source": [
    "embeddings = word_embeddings.calculate_differing_distances(sentences, combinationsOfNewWords, vector_dimensions=[200], window_dimensions=[5])"
   ]
  },
  {
   "cell_type": "code",
   "execution_count": 215,
   "metadata": {},
   "outputs": [
    {
     "data": {
      "text/plain": [
       "Index(['word1', 'word2', 'vectorSize', 'windowSize', 'cosineSim', 'dotSim'], dtype='object')"
      ]
     },
     "execution_count": 215,
     "metadata": {},
     "output_type": "execute_result"
    }
   ],
   "source": [
    "embeddings.columns"
   ]
  },
  {
   "cell_type": "code",
   "execution_count": 218,
   "metadata": {},
   "outputs": [
    {
     "data": {
      "text/html": [
       "<div>\n",
       "<style scoped>\n",
       "    .dataframe tbody tr th:only-of-type {\n",
       "        vertical-align: middle;\n",
       "    }\n",
       "\n",
       "    .dataframe tbody tr th {\n",
       "        vertical-align: top;\n",
       "    }\n",
       "\n",
       "    .dataframe thead th {\n",
       "        text-align: right;\n",
       "    }\n",
       "</style>\n",
       "<table border=\"1\" class=\"dataframe\">\n",
       "  <thead>\n",
       "    <tr style=\"text-align: right;\">\n",
       "      <th></th>\n",
       "      <th>word1</th>\n",
       "      <th>word2</th>\n",
       "      <th>vectorSize</th>\n",
       "      <th>windowSize</th>\n",
       "      <th>cosineSim</th>\n",
       "      <th>dotSim</th>\n",
       "    </tr>\n",
       "  </thead>\n",
       "  <tbody>\n",
       "    <tr>\n",
       "      <th>622</th>\n",
       "      <td>I</td>\n",
       "      <td>eagerness</td>\n",
       "      <td>200</td>\n",
       "      <td>5</td>\n",
       "      <td>-0.338757</td>\n",
       "      <td>-0.065741</td>\n",
       "    </tr>\n",
       "    <tr>\n",
       "      <th>234982</th>\n",
       "      <td>armstrong</td>\n",
       "      <td>eagerness</td>\n",
       "      <td>200</td>\n",
       "      <td>5</td>\n",
       "      <td>-0.328867</td>\n",
       "      <td>-0.060188</td>\n",
       "    </tr>\n",
       "    <tr>\n",
       "      <th>1230559</th>\n",
       "      <td>eagerness</td>\n",
       "      <td>nt</td>\n",
       "      <td>200</td>\n",
       "      <td>5</td>\n",
       "      <td>-0.347839</td>\n",
       "      <td>-0.059893</td>\n",
       "    </tr>\n",
       "    <tr>\n",
       "      <th>1230878</th>\n",
       "      <td>eagerness</td>\n",
       "      <td>room</td>\n",
       "      <td>200</td>\n",
       "      <td>5</td>\n",
       "      <td>-0.314527</td>\n",
       "      <td>-0.059508</td>\n",
       "    </tr>\n",
       "    <tr>\n",
       "      <th>1230048</th>\n",
       "      <td>eagerness</td>\n",
       "      <td>gertrude</td>\n",
       "      <td>200</td>\n",
       "      <td>5</td>\n",
       "      <td>-0.330936</td>\n",
       "      <td>-0.059488</td>\n",
       "    </tr>\n",
       "    <tr>\n",
       "      <th>...</th>\n",
       "      <td>...</td>\n",
       "      <td>...</td>\n",
       "      <td>...</td>\n",
       "      <td>...</td>\n",
       "      <td>...</td>\n",
       "      <td>...</td>\n",
       "    </tr>\n",
       "    <tr>\n",
       "      <th>236059</th>\n",
       "      <td>armstrong</td>\n",
       "      <td>room</td>\n",
       "      <td>200</td>\n",
       "      <td>5</td>\n",
       "      <td>0.996301</td>\n",
       "      <td>17.813147</td>\n",
       "    </tr>\n",
       "    <tr>\n",
       "      <th>869</th>\n",
       "      <td>I</td>\n",
       "      <td>gertrude</td>\n",
       "      <td>200</td>\n",
       "      <td>5</td>\n",
       "      <td>0.998688</td>\n",
       "      <td>17.989231</td>\n",
       "    </tr>\n",
       "    <tr>\n",
       "      <th>581</th>\n",
       "      <td>I</td>\n",
       "      <td>doctor</td>\n",
       "      <td>200</td>\n",
       "      <td>5</td>\n",
       "      <td>0.997822</td>\n",
       "      <td>18.020947</td>\n",
       "    </tr>\n",
       "    <tr>\n",
       "      <th>104</th>\n",
       "      <td>I</td>\n",
       "      <td>armstrong</td>\n",
       "      <td>200</td>\n",
       "      <td>5</td>\n",
       "      <td>0.998007</td>\n",
       "      <td>18.302742</td>\n",
       "    </tr>\n",
       "    <tr>\n",
       "      <th>1699</th>\n",
       "      <td>I</td>\n",
       "      <td>room</td>\n",
       "      <td>200</td>\n",
       "      <td>5</td>\n",
       "      <td>0.991838</td>\n",
       "      <td>18.804050</td>\n",
       "    </tr>\n",
       "  </tbody>\n",
       "</table>\n",
       "<p>2611755 rows × 6 columns</p>\n",
       "</div>"
      ],
      "text/plain": [
       "             word1      word2 vectorSize windowSize  cosineSim     dotSim\n",
       "622              I  eagerness        200          5  -0.338757  -0.065741\n",
       "234982   armstrong  eagerness        200          5  -0.328867  -0.060188\n",
       "1230559  eagerness         nt        200          5  -0.347839  -0.059893\n",
       "1230878  eagerness       room        200          5  -0.314527  -0.059508\n",
       "1230048  eagerness   gertrude        200          5  -0.330936  -0.059488\n",
       "...            ...        ...        ...        ...        ...        ...\n",
       "236059   armstrong       room        200          5   0.996301  17.813147\n",
       "869              I   gertrude        200          5   0.998688  17.989231\n",
       "581              I     doctor        200          5   0.997822  18.020947\n",
       "104              I  armstrong        200          5   0.998007  18.302742\n",
       "1699             I       room        200          5   0.991838  18.804050\n",
       "\n",
       "[2611755 rows x 6 columns]"
      ]
     },
     "execution_count": 218,
     "metadata": {},
     "output_type": "execute_result"
    }
   ],
   "source": [
    "embeddings.sort_values(['dotSim'])"
   ]
  },
  {
   "cell_type": "code",
   "execution_count": 60,
   "metadata": {},
   "outputs": [],
   "source": [
    "import networkx as nx\n",
    "from networkx.readwrite import json_graph\n",
    "import json "
   ]
  },
  {
   "cell_type": "code",
   "execution_count": 61,
   "metadata": {},
   "outputs": [],
   "source": [
    "dotsimDF = embeddings[['word1', 'word2', 'dotSim']]\n",
    "dotsimDF.columns = ['source', 'target', 'weight']\n",
    "dotsimNetwork = nx.from_pandas_edgelist(dotsimDF,edge_attr=True)"
   ]
  },
  {
   "cell_type": "code",
   "execution_count": 62,
   "metadata": {},
   "outputs": [],
   "source": [
    "cosineSimDF = embeddings[['word1', 'word2', 'cosineSim']]\n",
    "cosineSimDF.columns = ['source', 'target', 'weight']\n",
    "cosSimNetwork = nx.from_pandas_edgelist(cosineSimDF,edge_attr=True)"
   ]
  },
  {
   "cell_type": "code",
   "execution_count": 77,
   "metadata": {},
   "outputs": [
    {
     "name": "stdout",
     "output_type": "stream",
     "text": [
      "df: 3283 nodes: 146\n"
     ]
    }
   ],
   "source": [
    "tdsdf = dotsimDF[dotsimDF['weight'] > 7.5]\n",
    "dotsimNetwork = nx.from_pandas_edgelist(tdsdf, edge_attr=True)\n",
    "print(f\"df: {len(tdsdf)} nodes: {len(dotsimNetwork.nodes)}\")"
   ]
  },
  {
   "cell_type": "code",
   "execution_count": 76,
   "metadata": {},
   "outputs": [
    {
     "name": "stdout",
     "output_type": "stream",
     "text": [
      "df: 1815 nodes: 133\n"
     ]
    }
   ],
   "source": [
    "cosimThresh= cosineSimDF[cosineSimDF['weight'] > 0.9996]\n",
    "cosimNetwork = nx.from_pandas_edgelist(cosimThresh, edge_attr=True)\n",
    "print(f\"df: {len(cosimThresh)} nodes: {len(cosimNetwork.nodes)}\")"
   ]
  },
  {
   "cell_type": "code",
   "execution_count": 73,
   "metadata": {},
   "outputs": [],
   "source": [
    "def generate_word_attributes(book):\n",
    "    attribute_list = {}\n",
    "    for protagonist, pseudonyms in book.protagonists.items(): \n",
    "        for name in pseudonyms: \n",
    "            attribute_list[name] = {'type': 'protagonist'}\n",
    "        \n",
    "    for suspect, pseudonyms in book.suspects.items(): \n",
    "        for name in pseudonyms: \n",
    "            attribute_list[name] = {'type': 'suspect'}\n",
    "        \n",
    "    for antagonist, pseudonyms in book.antagonists.items(): \n",
    "        for name in pseudonyms: \n",
    "            attribute_list[name] = {'type': 'antagonist'}\n",
    "        \n",
    "    return attribute_list\n",
    "\n",
    "def generateNodeAttributes(book, graph): \n",
    "    attributes = {}\n",
    "    scale = 700\n",
    "    wordattributes =  generate_word_attributes(book)\n",
    "    graphPositions = nx.spring_layout(cosimNetwork, scale=scale)\n",
    "    index = 0\n",
    "    for key in graphPositions.keys():\n",
    "        attributes[key] = {# \"fx\": graphPositions[key][0]+scale+200, \n",
    "                           # \"fy\": graphPositions[key][1]+scale+200, \n",
    "                          }\n",
    "        if key in wordattributes.keys():\n",
    "            attributes[key]['type'] = wordattributes[key]['type']\n",
    "            attributes[key]['index'] = index\n",
    "    \n",
    "        index = index+1\n",
    "    return attributes\n",
    "    \n",
    "def createNetwork(dataframe, book, typeofweight='cosineSim', weightThreshold=0.99925):\n",
    "    edgelistDF = dataframe[['word1', 'word2', typeofweight]]\n",
    "    edgelistDF.columns = ['source', 'target', 'weight']\n",
    "    thresholdedEdgelist = edgelistDF[edgelistDF['weight'] > weightThreshold ]\n",
    "    \n",
    "    minWeight = thresholdedEdgelist['weight'].min()\n",
    "    maxWeight = thresholdedEdgelist['weight'].max()\n",
    "    \n",
    "    thresholdedEdgelist['weight'] = thresholdedEdgelist['weight'].apply(\n",
    "        lambda x: (x-minWeight)/(maxWeight-minWeight)*10\n",
    "    )\n",
    "    \n",
    "    similarityNetwork = nx.from_pandas_edgelist(thresholdedEdgelist,edge_attr=True)\n",
    "    nodeAttributes = generateNodeAttributes(book, similarityNetwork)\n",
    "    \n",
    "    nx.set_node_attributes(similarityNetwork, nodeAttributes)\n",
    "\n",
    "    jsonGraph = json_graph.node_link_data(similarityNetwork)\n",
    "    f = open(f\"{typeofweight}_{weightThreshold}.json\", 'w')\n",
    "    json.dump(jsonGraph, f)\n",
    "    f.close()\n",
    "    nx.write_gml(similarityNetwork,f\"{typeofweight}_{weightThreshold}.gml\" )"
   ]
  },
  {
   "cell_type": "code",
   "execution_count": 78,
   "metadata": {},
   "outputs": [
    {
     "name": "stderr",
     "output_type": "stream",
     "text": [
      "/var/folders/3g/0q_1cdr55qsgk59qbrs83m78dw2x85/T/ipykernel_22182/1374427857.py:42: SettingWithCopyWarning: \n",
      "A value is trying to be set on a copy of a slice from a DataFrame.\n",
      "Try using .loc[row_indexer,col_indexer] = value instead\n",
      "\n",
      "See the caveats in the documentation: https://pandas.pydata.org/pandas-docs/stable/user_guide/indexing.html#returning-a-view-versus-a-copy\n",
      "  thresholdedEdgelist['weight'] = thresholdedEdgelist['weight'].apply(\n"
     ]
    }
   ],
   "source": [
    "# createNetwork(embeddings, book, 'cosineSim',  0.9995)\n",
    "# createNetwork(embeddings, book, 'dotSim', 7)\n",
    "\n",
    "\n",
    "# createNetwork(embeddings, book, 'cosineSim',  0.99965)\n",
    "# createNetwork(embeddings, book, 'dotSim', 8)\n",
    "\n",
    "createNetwork(embeddings, book, 'cosineSim',  0.9996)\n",
    "createNetwork(embeddings, book, 'dotSim', 7.5)"
   ]
  },
  {
   "cell_type": "code",
   "execution_count": 376,
   "metadata": {},
   "outputs": [],
   "source": [
    "\n",
    "eh = (cosimNetwork)"
   ]
  },
  {
   "cell_type": "code",
   "execution_count": 409,
   "metadata": {},
   "outputs": [],
   "source": [
    "pos = nx.spring_layout(cosimNetwork,weight='weight', scale=100)"
   ]
  },
  {
   "cell_type": "code",
   "execution_count": 411,
   "metadata": {},
   "outputs": [
    {
     "name": "stdout",
     "output_type": "stream",
     "text": [
      "[-80.75485315 -64.66198877]\n",
      "[-83.69716339 -61.66452859]\n",
      "[-84.69851087 -57.72751518]\n",
      "[-81.14260114 -61.65015763]\n",
      "[-97.42182557  17.46795218]\n",
      "[-100.           19.09966577]\n"
     ]
    }
   ],
   "source": [
    "for key in pos.keys(): \n",
    "    if pos[key][0] < -50: \n",
    "        print(pos[key])"
   ]
  },
  {
   "cell_type": "code",
   "execution_count": 400,
   "metadata": {},
   "outputs": [
    {
     "data": {
      "image/png": "[encoded data removed]",
      "text/plain": [
       "<Figure size 432x288 with 1 Axes>"
      ]
     },
     "metadata": {},
     "output_type": "display_data"
    }
   ],
   "source": [
    "nx.draw(cosimNetwork, pos)"
   ]
  },
  {
   "cell_type": "code",
   "execution_count": 373,
   "metadata": {},
   "outputs": [
    {
     "name": "stderr",
     "output_type": "stream",
     "text": [
      "/var/folders/3g/0q_1cdr55qsgk59qbrs83m78dw2x85/T/ipykernel_14619/3980487604.py:3: SettingWithCopyWarning: \n",
      "A value is trying to be set on a copy of a slice from a DataFrame.\n",
      "Try using .loc[row_indexer,col_indexer] = value instead\n",
      "\n",
      "See the caveats in the documentation: https://pandas.pydata.org/pandas-docs/stable/user_guide/indexing.html#returning-a-view-versus-a-copy\n",
      "  dotsimDF['weight'] = dotsimDF['weight'].apply(lambda x:  (x - minn)/(maxx - minn) * 10)\n"
     ]
    }
   ],
   "source": [
    "minn = dotsimDF['weight'].min()\n",
    "maxx = dotsimDF['weight'].max()\n",
    "dotsimDF['weight'] = dotsimDF['weight'].apply(lambda x:  (x - minn)/(maxx - minn) * 10)"
   ]
  },
  {
   "cell_type": "code",
   "execution_count": 374,
   "metadata": {},
   "outputs": [
    {
     "data": {
      "text/plain": [
       "10.0"
      ]
     },
     "execution_count": 374,
     "metadata": {},
     "output_type": "execute_result"
    }
   ],
   "source": [
    "dotsimDF['weight'].max()\n"
   ]
  },
  {
   "cell_type": "code",
   "execution_count": 283,
   "metadata": {},
   "outputs": [
    {
     "data": {
      "text/plain": [
       "{'John Bailey': ['john', 'jack'],\n",
       " 'Gertrude Innes': ['gertrude'],\n",
       " 'Halsey Innes': ['halsey']}"
      ]
     },
     "execution_count": 283,
     "metadata": {},
     "output_type": "execute_result"
    }
   ],
   "source": [
    "book.suspects"
   ]
  },
  {
   "cell_type": "code",
   "execution_count": 299,
   "metadata": {},
   "outputs": [
    {
     "data": {
      "text/plain": [
       "dict_items([('Anne Watson', ['anne', 'watson'])])"
      ]
     },
     "execution_count": 299,
     "metadata": {},
     "output_type": "execute_result"
    }
   ],
   "source": [
    "book.antagonists.items()"
   ]
  },
  {
   "cell_type": "code",
   "execution_count": 311,
   "metadata": {},
   "outputs": [
    {
     "data": {
      "text/plain": [
       "{'jamieson': {'type': 'protagonist'},\n",
       " 'detective': {'type': 'protagonist'},\n",
       " 'winters': {'type': 'protagonist'},\n",
       " 'john': {'type': 'suspect'},\n",
       " 'jack': {'type': 'suspect'},\n",
       " 'gertrude': {'type': 'suspect'},\n",
       " 'halsey': {'type': 'suspect'},\n",
       " 'anne': {'type': 'antagonist'},\n",
       " 'watson': {'type': 'antagonist'}}"
      ]
     },
     "execution_count": 311,
     "metadata": {},
     "output_type": "execute_result"
    }
   ],
   "source": [
    "\n",
    "summary = generate_word_attributes(book)\n",
    "\n",
    "summary"
   ]
  },
  {
   "cell_type": "code",
   "execution_count": 325,
   "metadata": {},
   "outputs": [],
   "source": [
    "nx.set_node_attributes(dotsimNetwork, summary)\n"
   ]
  },
  {
   "cell_type": "code",
   "execution_count": 327,
   "metadata": {},
   "outputs": [
    {
     "data": {
      "text/plain": [
       "NodeView(('I', 'afternoon', 'air', 'alex', 'anne', 'armstrong', 'arnold', 'ask', 'aunt', 'away', 'bad', 'bailey', 'bank', 'bed', 'begin', 'believe', 'black', 'body', 'boy', 'break', 'bring', 'car', 'carrington', 'casanova', 'chair', 'child', 'circular', 'close', 'clothe', 'club', 'come', 'country', 'course', 'd', 'day', 'dead', 'death', 'detective', 'doctor', 'door', 'drive', 'drop', 'east', 'end', 'evening', 'eye', 'face', 'fall', 'family', 'far', 'feel', 'find', 'fire', 'floor', 'foot', 'gertrude', 'girl', 'good', 'grow', 'half', 'hall', 'halsey', 'hand', 'happen', 'head', 'hear', 'hold', 'home', 'house', 'ill', 'inne', 'jack', 'jamieson', 'know', 'leave', 'let', 'liddy', 'lie', 'light', 'like', 'link', 'little', 'lock', 'lodge', 'long', 'look', 'louise', 'low', 'lucien', 'man', 'minute', 'miss', 'moment', 'money', 'morning', 'mother', 'mr', 'mrs', 'new', 'night', 'nt', 'oclock', 'old', 'open', 'paper', 'paul', 'people', 'place', 'probably', 'quiet', 'ray', 'read', 'right', 'road', 'room', 'rosie', 'run', 's', 'send', 'servant', 'set', 'shall', 'sit', 'sleep', 'small', 'soon', 'sound', 'stair', 'staircase', 'stand', 'step', 'stop', 'story', 'suddenly', 'sunnyside', 'sure', 'telephone', 'tell', 'thing', 'think', 'thomas', 'throw', 'time', 'town', 'trader', 'try', 'turn', 'use', 'voice', 'walker', 'wall', 'warner', 'watch', 'way', 'white', 'window', 'wing', 'woman', 'word', 'work', 'year', 'young'))"
      ]
     },
     "execution_count": 327,
     "metadata": {},
     "output_type": "execute_result"
    }
   ],
   "source": [
    "dotsimNetwork.nodes"
   ]
  },
  {
   "cell_type": "markdown",
   "metadata": {},
   "source": [
    "# The Man in the Lower Ten"
   ]
  },
  {
   "cell_type": "code",
   "execution_count": null,
   "metadata": {},
   "outputs": [],
   "source": [
    "\n"
   ]
  },
  {
   "cell_type": "code",
   "execution_count": null,
   "metadata": {},
   "outputs": [],
   "source": [
    "book = ProcessedBook(books['The_Man_in_Lower_Ten'])\n",
    "lemmas = book.lemmas"
   ]
  },
  {
   "cell_type": "code",
   "execution_count": null,
   "metadata": {},
   "outputs": [],
   "source": [
    "' '.join(lemmas[:100])"
   ]
  },
  {
   "cell_type": "code",
   "execution_count": null,
   "metadata": {},
   "outputs": [],
   "source": [
    "book.clean_lines"
   ]
  },
  {
   "cell_type": "markdown",
   "metadata": {},
   "source": [
    "# The After House"
   ]
  },
  {
   "cell_type": "code",
   "execution_count": null,
   "metadata": {},
   "outputs": [],
   "source": [
    "book = ProcessedBook(books['The_After_House'])\n",
    "lemmas = book.lemmas"
   ]
  },
  {
   "cell_type": "code",
   "execution_count": null,
   "metadata": {},
   "outputs": [],
   "source": [
    "' '.join(lemmas[:100])"
   ]
  },
  {
   "cell_type": "markdown",
   "metadata": {},
   "source": [
    "# The Window at the Wide Cat"
   ]
  },
  {
   "cell_type": "code",
   "execution_count": null,
   "metadata": {},
   "outputs": [],
   "source": [
    "book = ProcessedBook(books['The_Window_at_the_White_Cat'])\n",
    "lemmas = book.lemmas"
   ]
  },
  {
   "cell_type": "code",
   "execution_count": null,
   "metadata": {},
   "outputs": [],
   "source": [
    "' '.join(lemmas[:100])"
   ]
  },
  {
   "cell_type": "markdown",
   "metadata": {},
   "source": [
    "# The Bat"
   ]
  },
  {
   "cell_type": "code",
   "execution_count": null,
   "metadata": {},
   "outputs": [],
   "source": [
    "book = ProcessedBook(books['The_Bat'])\n",
    "lemmas = book.lemmas"
   ]
  },
  {
   "cell_type": "code",
   "execution_count": null,
   "metadata": {},
   "outputs": [],
   "source": [
    "' '.join(lemmas[:100])"
   ]
  },
  {
   "cell_type": "markdown",
   "metadata": {},
   "source": [
    "## Custom Word Embeddings"
   ]
  },
  {
   "cell_type": "code",
   "execution_count": null,
   "metadata": {},
   "outputs": [],
   "source": [
    "# Import word_embeddings lib\n",
    "import nlp_libs.books.word_embeddings as we"
   ]
  },
  {
   "cell_type": "code",
   "execution_count": null,
   "metadata": {},
   "outputs": [],
   "source": [
    "# custom_embeddings = we.WordEmbeddingsCustom()"
   ]
  },
  {
   "cell_type": "code",
   "execution_count": null,
   "metadata": {},
   "outputs": [],
   "source": []
  },
  {
   "cell_type": "markdown",
   "metadata": {},
   "source": [
    "## Pretrained Word Embeddings"
   ]
  },
  {
   "cell_type": "code",
   "execution_count": null,
   "metadata": {},
   "outputs": [],
   "source": [
    "# pretrained_embeddings = we.WordEmbeddingsPretrained()"
   ]
  },
  {
   "cell_type": "code",
   "execution_count": null,
   "metadata": {},
   "outputs": [],
   "source": []
  },
  {
   "cell_type": "code",
   "execution_count": null,
   "metadata": {},
   "outputs": [],
   "source": []
  },
  {
   "cell_type": "markdown",
   "metadata": {},
   "source": [
    "## Compare Vector distances and report similarities using Custom Embeddings"
   ]
  },
  {
   "cell_type": "code",
   "execution_count": null,
   "metadata": {},
   "outputs": [],
   "source": [
    "# Import compare_statistics lib\n",
    "import nlp_libs.books.compare_statistics as cs"
   ]
  },
  {
   "cell_type": "code",
   "execution_count": null,
   "metadata": {},
   "outputs": [],
   "source": [
    "# cs.my_custom_embeddings_compare_function()"
   ]
  },
  {
   "cell_type": "code",
   "execution_count": null,
   "metadata": {},
   "outputs": [],
   "source": []
  },
  {
   "cell_type": "markdown",
   "metadata": {},
   "source": [
    "## Compare Vector distances and report similarities using Pretrained Embeddings"
   ]
  },
  {
   "cell_type": "code",
   "execution_count": null,
   "metadata": {},
   "outputs": [],
   "source": [
    "# cs.my_pretrained_embeddings_compare_function()"
   ]
  },
  {
   "cell_type": "code",
   "execution_count": null,
   "metadata": {},
   "outputs": [],
   "source": []
  },
  {
   "cell_type": "code",
   "execution_count": null,
   "metadata": {},
   "outputs": [],
   "source": []
  },
  {
   "cell_type": "markdown",
   "metadata": {},
   "source": [
    "## Extra Analysis? Plots?"
   ]
  },
  {
   "cell_type": "code",
   "execution_count": null,
   "metadata": {},
   "outputs": [],
   "source": [
    "# Too much work"
   ]
  },
  {
   "cell_type": "code",
   "execution_count": null,
   "metadata": {},
   "outputs": [],
   "source": []
  },
  {
   "cell_type": "code",
   "execution_count": null,
   "metadata": {},
   "outputs": [],
   "source": []
  },
  {
   "cell_type": "code",
   "execution_count": null,
   "metadata": {},
   "outputs": [],
   "source": [
    "NOTE: lemmatize the stop words then see"
   ]
  }
 ],
 "metadata": {
  "colab": {
   "name": "main.ipynb",
   "provenance": []
  },
  "kernelspec": {
   "display_name": "Python 3 (ipykernel)",
   "language": "python",
   "name": "python3"
  },
  "language_info": {
   "codemirror_mode": {
    "name": "ipython",
    "version": 3
   },
   "file_extension": ".py",
   "mimetype": "text/x-python",
   "name": "python",
   "nbconvert_exporter": "python",
   "pygments_lexer": "ipython3",
   "version": "3.8.12"
  },
  "widgets": {
   "application/vnd.jupyter.widget-state+json": {
    "1731d42a04634fee89c2f80c12a29c88": {
     "model_module": "@jupyter-widgets/base",
     "model_module_version": "1.2.0",
     "model_name": "LayoutModel",
     "state": {
      "_model_module": "@jupyter-widgets/base",
      "_model_module_version": "1.2.0",
      "_model_name": "LayoutModel",
      "_view_count": null,
      "_view_module": "@jupyter-widgets/base",
      "_view_module_version": "1.2.0",
      "_view_name": "LayoutView",
      "align_content": null,
      "align_items": null,
      "align_self": null,
      "border": null,
      "bottom": null,
      "display": null,
      "flex": null,
      "flex_flow": null,
      "grid_area": null,
      "grid_auto_columns": null,
      "grid_auto_flow": null,
      "grid_auto_rows": null,
      "grid_column": null,
      "grid_gap": null,
      "grid_row": null,
      "grid_template_areas": null,
      "grid_template_columns": null,
      "grid_template_rows": null,
      "height": null,
      "justify_content": null,
      "justify_items": null,
      "left": null,
      "margin": null,
      "max_height": null,
      "max_width": null,
      "min_height": null,
      "min_width": null,
      "object_fit": null,
      "object_position": null,
      "order": null,
      "overflow": null,
      "overflow_x": null,
      "overflow_y": null,
      "padding": null,
      "right": null,
      "top": null,
      "visibility": null,
      "width": null
     }
    },
    "5f7a290065d24765a0bc5fa9801fd815": {
     "model_module": "@jupyter-widgets/controls",
     "model_module_version": "1.5.0",
     "model_name": "ButtonStyleModel",
     "state": {
      "_model_module": "@jupyter-widgets/controls",
      "_model_module_version": "1.5.0",
      "_model_name": "ButtonStyleModel",
      "_view_count": null,
      "_view_module": "@jupyter-widgets/base",
      "_view_module_version": "1.2.0",
      "_view_name": "StyleView",
      "button_color": null,
      "font_weight": ""
     }
    },
    "a5b00bcabdfc42c480043de40a36c486": {
     "model_module": "@jupyter-widgets/base",
     "model_module_version": "1.2.0",
     "model_name": "LayoutModel",
     "state": {
      "_model_module": "@jupyter-widgets/base",
      "_model_module_version": "1.2.0",
      "_model_name": "LayoutModel",
      "_view_count": null,
      "_view_module": "@jupyter-widgets/base",
      "_view_module_version": "1.2.0",
      "_view_name": "LayoutView",
      "align_content": null,
      "align_items": null,
      "align_self": null,
      "border": null,
      "bottom": null,
      "display": null,
      "flex": null,
      "flex_flow": null,
      "grid_area": null,
      "grid_auto_columns": null,
      "grid_auto_flow": null,
      "grid_auto_rows": null,
      "grid_column": null,
      "grid_gap": null,
      "grid_row": null,
      "grid_template_areas": null,
      "grid_template_columns": null,
      "grid_template_rows": null,
      "height": null,
      "justify_content": null,
      "justify_items": null,
      "left": null,
      "margin": null,
      "max_height": null,
      "max_width": null,
      "min_height": null,
      "min_width": null,
      "object_fit": null,
      "object_position": null,
      "order": null,
      "overflow": null,
      "overflow_x": null,
      "overflow_y": null,
      "padding": null,
      "right": null,
      "top": null,
      "visibility": null,
      "width": null
     }
    },
    "c55ebd5855ca490791c5d6b9308b6d4e": {
     "model_module": "@jupyter-widgets/controls",
     "model_module_version": "1.5.0",
     "model_name": "ButtonModel",
     "state": {
      "_dom_classes": [],
      "_model_module": "@jupyter-widgets/controls",
      "_model_module_version": "1.5.0",
      "_model_name": "ButtonModel",
      "_view_count": null,
      "_view_module": "@jupyter-widgets/controls",
      "_view_module_version": "1.5.0",
      "_view_name": "ButtonView",
      "button_style": "",
      "description": "Yes",
      "disabled": false,
      "icon": "",
      "layout": "IPY_MODEL_a5b00bcabdfc42c480043de40a36c486",
      "style": "IPY_MODEL_5f7a290065d24765a0bc5fa9801fd815",
      "tooltip": ""
     }
    },
    "e7b4d0dcb1f24d998063f877d1efbca7": {
     "model_module": "@jupyter-widgets/controls",
     "model_module_version": "1.5.0",
     "model_name": "ButtonModel",
     "state": {
      "_dom_classes": [],
      "_model_module": "@jupyter-widgets/controls",
      "_model_module_version": "1.5.0",
      "_model_name": "ButtonModel",
      "_view_count": null,
      "_view_module": "@jupyter-widgets/controls",
      "_view_module_version": "1.5.0",
      "_view_name": "ButtonView",
      "button_style": "",
      "description": "Yes, clone",
      "disabled": false,
      "icon": "",
      "layout": "IPY_MODEL_1731d42a04634fee89c2f80c12a29c88",
      "style": "IPY_MODEL_f7b19456e9b94ee09f8ed14cc1ba960b",
      "tooltip": ""
     }
    },
    "f7b19456e9b94ee09f8ed14cc1ba960b": {
     "model_module": "@jupyter-widgets/controls",
     "model_module_version": "1.5.0",
     "model_name": "ButtonStyleModel",
     "state": {
      "_model_module": "@jupyter-widgets/controls",
      "_model_module_version": "1.5.0",
      "_model_name": "ButtonStyleModel",
      "_view_count": null,
      "_view_module": "@jupyter-widgets/base",
      "_view_module_version": "1.2.0",
      "_view_name": "StyleView",
      "button_color": null,
      "font_weight": ""
     }
    }
   }
  }
 },
 "nbformat": 4,
 "nbformat_minor": 1
}
